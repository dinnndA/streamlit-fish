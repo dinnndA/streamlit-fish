{
 "cells": [
  {
   "cell_type": "code",
   "execution_count": 1,
   "metadata": {},
   "outputs": [],
   "source": [
    "import pandas as pd\n",
    "import numpy as np\n",
    "import matplotlib.pyplot as plt\n",
    "from sklearn import linear_model\n",
    "from sklearn.model_selection import train_test_split\n",
    "from sklearn.neighbors import KNeighborsClassifier\n",
    "from sklearn.preprocessing import MinMaxScaler"
   ]
  },
  {
   "cell_type": "code",
   "execution_count": 3,
   "metadata": {},
   "outputs": [
    {
     "data": {
      "text/html": [
       "<div>\n",
       "<style scoped>\n",
       "    .dataframe tbody tr th:only-of-type {\n",
       "        vertical-align: middle;\n",
       "    }\n",
       "\n",
       "    .dataframe tbody tr th {\n",
       "        vertical-align: top;\n",
       "    }\n",
       "\n",
       "    .dataframe thead th {\n",
       "        text-align: right;\n",
       "    }\n",
       "</style>\n",
       "<table border=\"1\" class=\"dataframe\">\n",
       "  <thead>\n",
       "    <tr style=\"text-align: right;\">\n",
       "      <th></th>\n",
       "      <th>species</th>\n",
       "      <th>length</th>\n",
       "      <th>weight</th>\n",
       "      <th>w_l_ratio</th>\n",
       "    </tr>\n",
       "  </thead>\n",
       "  <tbody>\n",
       "    <tr>\n",
       "      <th>0</th>\n",
       "      <td>Anabas testudineus</td>\n",
       "      <td>10.66</td>\n",
       "      <td>3.45</td>\n",
       "      <td>0.32</td>\n",
       "    </tr>\n",
       "    <tr>\n",
       "      <th>1</th>\n",
       "      <td>Anabas testudineus</td>\n",
       "      <td>6.91</td>\n",
       "      <td>3.27</td>\n",
       "      <td>0.47</td>\n",
       "    </tr>\n",
       "    <tr>\n",
       "      <th>2</th>\n",
       "      <td>Anabas testudineus</td>\n",
       "      <td>8.38</td>\n",
       "      <td>3.46</td>\n",
       "      <td>0.41</td>\n",
       "    </tr>\n",
       "    <tr>\n",
       "      <th>3</th>\n",
       "      <td>Anabas testudineus</td>\n",
       "      <td>7.57</td>\n",
       "      <td>3.36</td>\n",
       "      <td>0.44</td>\n",
       "    </tr>\n",
       "    <tr>\n",
       "      <th>4</th>\n",
       "      <td>Anabas testudineus</td>\n",
       "      <td>10.83</td>\n",
       "      <td>3.38</td>\n",
       "      <td>0.31</td>\n",
       "    </tr>\n",
       "    <tr>\n",
       "      <th>...</th>\n",
       "      <td>...</td>\n",
       "      <td>...</td>\n",
       "      <td>...</td>\n",
       "      <td>...</td>\n",
       "    </tr>\n",
       "    <tr>\n",
       "      <th>4075</th>\n",
       "      <td>Sillaginopsis panijus</td>\n",
       "      <td>30.56</td>\n",
       "      <td>6.12</td>\n",
       "      <td>0.20</td>\n",
       "    </tr>\n",
       "    <tr>\n",
       "      <th>4076</th>\n",
       "      <td>Sillaginopsis panijus</td>\n",
       "      <td>29.66</td>\n",
       "      <td>6.11</td>\n",
       "      <td>0.21</td>\n",
       "    </tr>\n",
       "    <tr>\n",
       "      <th>4077</th>\n",
       "      <td>Sillaginopsis panijus</td>\n",
       "      <td>32.81</td>\n",
       "      <td>6.25</td>\n",
       "      <td>0.19</td>\n",
       "    </tr>\n",
       "    <tr>\n",
       "      <th>4078</th>\n",
       "      <td>Sillaginopsis panijus</td>\n",
       "      <td>29.78</td>\n",
       "      <td>6.11</td>\n",
       "      <td>0.21</td>\n",
       "    </tr>\n",
       "    <tr>\n",
       "      <th>4079</th>\n",
       "      <td>Sillaginopsis panijus</td>\n",
       "      <td>31.62</td>\n",
       "      <td>6.14</td>\n",
       "      <td>0.19</td>\n",
       "    </tr>\n",
       "  </tbody>\n",
       "</table>\n",
       "<p>4080 rows × 4 columns</p>\n",
       "</div>"
      ],
      "text/plain": [
       "                    species  length  weight  w_l_ratio\n",
       "0        Anabas testudineus   10.66    3.45       0.32\n",
       "1        Anabas testudineus    6.91    3.27       0.47\n",
       "2        Anabas testudineus    8.38    3.46       0.41\n",
       "3        Anabas testudineus    7.57    3.36       0.44\n",
       "4        Anabas testudineus   10.83    3.38       0.31\n",
       "...                     ...     ...     ...        ...\n",
       "4075  Sillaginopsis panijus   30.56    6.12       0.20\n",
       "4076  Sillaginopsis panijus   29.66    6.11       0.21\n",
       "4077  Sillaginopsis panijus   32.81    6.25       0.19\n",
       "4078  Sillaginopsis panijus   29.78    6.11       0.21\n",
       "4079  Sillaginopsis panijus   31.62    6.14       0.19\n",
       "\n",
       "[4080 rows x 4 columns]"
      ]
     },
     "execution_count": 3,
     "metadata": {},
     "output_type": "execute_result"
    }
   ],
   "source": [
    "df= pd.read_csv('fish_data.csv')\n",
    "df"
   ]
  },
  {
   "cell_type": "code",
   "execution_count": 4,
   "metadata": {},
   "outputs": [
    {
     "name": "stdout",
     "output_type": "stream",
     "text": [
      "              species  length  weight  w_l_ratio\n",
      "0  Anabas testudineus   10.66    3.45       0.32\n",
      "1  Anabas testudineus    6.91    3.27       0.47\n",
      "2  Anabas testudineus    8.38    3.46       0.41\n",
      "3  Anabas testudineus    7.57    3.36       0.44\n",
      "4  Anabas testudineus   10.83    3.38       0.31\n",
      "Index(['species', 'length', 'weight', 'w_l_ratio'], dtype='object')\n"
     ]
    }
   ],
   "source": [
    "print(df.head())\n",
    "print(df.columns)"
   ]
  },
  {
   "cell_type": "code",
   "execution_count": 5,
   "metadata": {},
   "outputs": [
    {
     "data": {
      "text/html": [
       "<div>\n",
       "<style scoped>\n",
       "    .dataframe tbody tr th:only-of-type {\n",
       "        vertical-align: middle;\n",
       "    }\n",
       "\n",
       "    .dataframe tbody tr th {\n",
       "        vertical-align: top;\n",
       "    }\n",
       "\n",
       "    .dataframe thead th {\n",
       "        text-align: right;\n",
       "    }\n",
       "</style>\n",
       "<table border=\"1\" class=\"dataframe\">\n",
       "  <thead>\n",
       "    <tr style=\"text-align: right;\">\n",
       "      <th></th>\n",
       "      <th>species</th>\n",
       "      <th>length</th>\n",
       "      <th>weight</th>\n",
       "      <th>w_l_ratio</th>\n",
       "    </tr>\n",
       "  </thead>\n",
       "  <tbody>\n",
       "    <tr>\n",
       "      <th>0</th>\n",
       "      <td>Anabas testudineus</td>\n",
       "      <td>10.66</td>\n",
       "      <td>3.45</td>\n",
       "      <td>0.32</td>\n",
       "    </tr>\n",
       "    <tr>\n",
       "      <th>1</th>\n",
       "      <td>Anabas testudineus</td>\n",
       "      <td>6.91</td>\n",
       "      <td>3.27</td>\n",
       "      <td>0.47</td>\n",
       "    </tr>\n",
       "    <tr>\n",
       "      <th>2</th>\n",
       "      <td>Anabas testudineus</td>\n",
       "      <td>8.38</td>\n",
       "      <td>3.46</td>\n",
       "      <td>0.41</td>\n",
       "    </tr>\n",
       "    <tr>\n",
       "      <th>3</th>\n",
       "      <td>Anabas testudineus</td>\n",
       "      <td>7.57</td>\n",
       "      <td>3.36</td>\n",
       "      <td>0.44</td>\n",
       "    </tr>\n",
       "    <tr>\n",
       "      <th>4</th>\n",
       "      <td>Anabas testudineus</td>\n",
       "      <td>10.83</td>\n",
       "      <td>3.38</td>\n",
       "      <td>0.31</td>\n",
       "    </tr>\n",
       "    <tr>\n",
       "      <th>...</th>\n",
       "      <td>...</td>\n",
       "      <td>...</td>\n",
       "      <td>...</td>\n",
       "      <td>...</td>\n",
       "    </tr>\n",
       "    <tr>\n",
       "      <th>4075</th>\n",
       "      <td>Sillaginopsis panijus</td>\n",
       "      <td>30.56</td>\n",
       "      <td>6.12</td>\n",
       "      <td>0.20</td>\n",
       "    </tr>\n",
       "    <tr>\n",
       "      <th>4076</th>\n",
       "      <td>Sillaginopsis panijus</td>\n",
       "      <td>29.66</td>\n",
       "      <td>6.11</td>\n",
       "      <td>0.21</td>\n",
       "    </tr>\n",
       "    <tr>\n",
       "      <th>4077</th>\n",
       "      <td>Sillaginopsis panijus</td>\n",
       "      <td>32.81</td>\n",
       "      <td>6.25</td>\n",
       "      <td>0.19</td>\n",
       "    </tr>\n",
       "    <tr>\n",
       "      <th>4078</th>\n",
       "      <td>Sillaginopsis panijus</td>\n",
       "      <td>29.78</td>\n",
       "      <td>6.11</td>\n",
       "      <td>0.21</td>\n",
       "    </tr>\n",
       "    <tr>\n",
       "      <th>4079</th>\n",
       "      <td>Sillaginopsis panijus</td>\n",
       "      <td>31.62</td>\n",
       "      <td>6.14</td>\n",
       "      <td>0.19</td>\n",
       "    </tr>\n",
       "  </tbody>\n",
       "</table>\n",
       "<p>4080 rows × 4 columns</p>\n",
       "</div>"
      ],
      "text/plain": [
       "                    species  length  weight  w_l_ratio\n",
       "0        Anabas testudineus   10.66    3.45       0.32\n",
       "1        Anabas testudineus    6.91    3.27       0.47\n",
       "2        Anabas testudineus    8.38    3.46       0.41\n",
       "3        Anabas testudineus    7.57    3.36       0.44\n",
       "4        Anabas testudineus   10.83    3.38       0.31\n",
       "...                     ...     ...     ...        ...\n",
       "4075  Sillaginopsis panijus   30.56    6.12       0.20\n",
       "4076  Sillaginopsis panijus   29.66    6.11       0.21\n",
       "4077  Sillaginopsis panijus   32.81    6.25       0.19\n",
       "4078  Sillaginopsis panijus   29.78    6.11       0.21\n",
       "4079  Sillaginopsis panijus   31.62    6.14       0.19\n",
       "\n",
       "[4080 rows x 4 columns]"
      ]
     },
     "execution_count": 5,
     "metadata": {},
     "output_type": "execute_result"
    }
   ],
   "source": [
    "df"
   ]
  },
  {
   "cell_type": "code",
   "execution_count": 6,
   "metadata": {},
   "outputs": [
    {
     "name": "stdout",
     "output_type": "stream",
     "text": [
      "<class 'pandas.core.frame.DataFrame'>\n",
      "RangeIndex: 4080 entries, 0 to 4079\n",
      "Data columns (total 4 columns):\n",
      " #   Column     Non-Null Count  Dtype  \n",
      "---  ------     --------------  -----  \n",
      " 0   species    4080 non-null   object \n",
      " 1   length     4080 non-null   float64\n",
      " 2   weight     4080 non-null   float64\n",
      " 3   w_l_ratio  4080 non-null   float64\n",
      "dtypes: float64(3), object(1)\n",
      "memory usage: 127.6+ KB\n"
     ]
    }
   ],
   "source": [
    "df.info()"
   ]
  },
  {
   "cell_type": "code",
   "execution_count": 7,
   "metadata": {},
   "outputs": [
    {
     "data": {
      "text/html": [
       "<div>\n",
       "<style scoped>\n",
       "    .dataframe tbody tr th:only-of-type {\n",
       "        vertical-align: middle;\n",
       "    }\n",
       "\n",
       "    .dataframe tbody tr th {\n",
       "        vertical-align: top;\n",
       "    }\n",
       "\n",
       "    .dataframe thead th {\n",
       "        text-align: right;\n",
       "    }\n",
       "</style>\n",
       "<table border=\"1\" class=\"dataframe\">\n",
       "  <thead>\n",
       "    <tr style=\"text-align: right;\">\n",
       "      <th></th>\n",
       "      <th>length</th>\n",
       "      <th>weight</th>\n",
       "      <th>w_l_ratio</th>\n",
       "    </tr>\n",
       "  </thead>\n",
       "  <tbody>\n",
       "    <tr>\n",
       "      <th>count</th>\n",
       "      <td>4080.000000</td>\n",
       "      <td>4080.000000</td>\n",
       "      <td>4080.000000</td>\n",
       "    </tr>\n",
       "    <tr>\n",
       "      <th>mean</th>\n",
       "      <td>17.353544</td>\n",
       "      <td>3.739875</td>\n",
       "      <td>0.252782</td>\n",
       "    </tr>\n",
       "    <tr>\n",
       "      <th>std</th>\n",
       "      <td>7.114684</td>\n",
       "      <td>1.040365</td>\n",
       "      <td>0.123046</td>\n",
       "    </tr>\n",
       "    <tr>\n",
       "      <th>min</th>\n",
       "      <td>6.360000</td>\n",
       "      <td>2.050000</td>\n",
       "      <td>0.080000</td>\n",
       "    </tr>\n",
       "    <tr>\n",
       "      <th>25%</th>\n",
       "      <td>11.327500</td>\n",
       "      <td>3.070000</td>\n",
       "      <td>0.170000</td>\n",
       "    </tr>\n",
       "    <tr>\n",
       "      <th>50%</th>\n",
       "      <td>17.350000</td>\n",
       "      <td>3.310000</td>\n",
       "      <td>0.190000</td>\n",
       "    </tr>\n",
       "    <tr>\n",
       "      <th>75%</th>\n",
       "      <td>22.585000</td>\n",
       "      <td>4.100000</td>\n",
       "      <td>0.340000</td>\n",
       "    </tr>\n",
       "    <tr>\n",
       "      <th>max</th>\n",
       "      <td>33.860000</td>\n",
       "      <td>6.290000</td>\n",
       "      <td>0.640000</td>\n",
       "    </tr>\n",
       "  </tbody>\n",
       "</table>\n",
       "</div>"
      ],
      "text/plain": [
       "            length       weight    w_l_ratio\n",
       "count  4080.000000  4080.000000  4080.000000\n",
       "mean     17.353544     3.739875     0.252782\n",
       "std       7.114684     1.040365     0.123046\n",
       "min       6.360000     2.050000     0.080000\n",
       "25%      11.327500     3.070000     0.170000\n",
       "50%      17.350000     3.310000     0.190000\n",
       "75%      22.585000     4.100000     0.340000\n",
       "max      33.860000     6.290000     0.640000"
      ]
     },
     "execution_count": 7,
     "metadata": {},
     "output_type": "execute_result"
    }
   ],
   "source": [
    "df.describe()"
   ]
  },
  {
   "cell_type": "code",
   "execution_count": 8,
   "metadata": {},
   "outputs": [
    {
     "name": "stdout",
     "output_type": "stream",
     "text": [
      "Index(['species', 'length', 'weight', 'w_l_ratio'], dtype='object')\n"
     ]
    }
   ],
   "source": [
    "print(df.columns)\n"
   ]
  },
  {
   "cell_type": "code",
   "execution_count": 9,
   "metadata": {},
   "outputs": [],
   "source": [
    "df.columns = df.columns.str.strip()"
   ]
  },
  {
   "cell_type": "code",
   "execution_count": 11,
   "metadata": {},
   "outputs": [],
   "source": [
    "df = pd.read_csv(\"fish_data.csv\", sep=';')"
   ]
  },
  {
   "cell_type": "code",
   "execution_count": 12,
   "metadata": {},
   "outputs": [
    {
     "name": "stdout",
     "output_type": "stream",
     "text": [
      "species,length,weight,w_l_ratio    0\n",
      "dtype: int64\n"
     ]
    }
   ],
   "source": [
    "print(df.isnull().sum())"
   ]
  },
  {
   "cell_type": "code",
   "execution_count": 21,
   "metadata": {},
   "outputs": [
    {
     "name": "stdout",
     "output_type": "stream",
     "text": [
      "Index(['species,length,weight,w_l_ratio'], dtype='object')\n"
     ]
    }
   ],
   "source": [
    "print(df.columns)\n"
   ]
  },
  {
   "cell_type": "code",
   "execution_count": 29,
   "metadata": {},
   "outputs": [],
   "source": [
    "# Option 1: Strip spaces while reading\n",
    "df = pd.read_csv(\"fish_data.csv\", skipinitialspace=True)\n",
    "\n",
    "# Option 2: Strip spaces after reading\n",
    "df = pd.read_csv(\"fish_data.csv\")\n",
    "df.columns = df.columns.str.strip()\n"
   ]
  },
  {
   "cell_type": "code",
   "execution_count": 30,
   "metadata": {},
   "outputs": [
    {
     "name": "stdout",
     "output_type": "stream",
     "text": [
      "['Anabas testudineus' 'Coilia dussumieri' 'Otolithoides biauritus'\n",
      " 'Otolithoides pama' 'Pethia conchonius' 'Polynemus paradiseus'\n",
      " 'Puntius lateristriga' 'Setipinna taty' 'Sillaginopsis panijus']\n"
     ]
    }
   ],
   "source": [
    "print(pd.unique(df['species']))\n"
   ]
  },
  {
   "cell_type": "code",
   "execution_count": 31,
   "metadata": {},
   "outputs": [
    {
     "data": {
      "text/plain": [
       "species\n",
       "Setipinna taty            480\n",
       "Anabas testudineus        476\n",
       "Pethia conchonius         475\n",
       "Otolithoides biauritus    468\n",
       "Polynemus paradiseus      458\n",
       "Sillaginopsis panijus     455\n",
       "Otolithoides pama         435\n",
       "Puntius lateristriga      418\n",
       "Coilia dussumieri         415\n",
       "Name: count, dtype: int64"
      ]
     },
     "execution_count": 31,
     "metadata": {},
     "output_type": "execute_result"
    }
   ],
   "source": [
    "df['species'].value_counts()"
   ]
  },
  {
   "cell_type": "code",
   "execution_count": 32,
   "metadata": {},
   "outputs": [],
   "source": [
    "x = df.iloc[:,1:]"
   ]
  },
  {
   "cell_type": "code",
   "execution_count": 33,
   "metadata": {},
   "outputs": [],
   "source": [
    "y = df.iloc[:,[0]]"
   ]
  },
  {
   "cell_type": "code",
   "execution_count": 34,
   "metadata": {},
   "outputs": [
    {
     "data": {
      "text/html": [
       "<div>\n",
       "<style scoped>\n",
       "    .dataframe tbody tr th:only-of-type {\n",
       "        vertical-align: middle;\n",
       "    }\n",
       "\n",
       "    .dataframe tbody tr th {\n",
       "        vertical-align: top;\n",
       "    }\n",
       "\n",
       "    .dataframe thead th {\n",
       "        text-align: right;\n",
       "    }\n",
       "</style>\n",
       "<table border=\"1\" class=\"dataframe\">\n",
       "  <thead>\n",
       "    <tr style=\"text-align: right;\">\n",
       "      <th></th>\n",
       "      <th>species</th>\n",
       "    </tr>\n",
       "  </thead>\n",
       "  <tbody>\n",
       "    <tr>\n",
       "      <th>0</th>\n",
       "      <td>Anabas testudineus</td>\n",
       "    </tr>\n",
       "    <tr>\n",
       "      <th>1</th>\n",
       "      <td>Anabas testudineus</td>\n",
       "    </tr>\n",
       "    <tr>\n",
       "      <th>2</th>\n",
       "      <td>Anabas testudineus</td>\n",
       "    </tr>\n",
       "    <tr>\n",
       "      <th>3</th>\n",
       "      <td>Anabas testudineus</td>\n",
       "    </tr>\n",
       "    <tr>\n",
       "      <th>4</th>\n",
       "      <td>Anabas testudineus</td>\n",
       "    </tr>\n",
       "    <tr>\n",
       "      <th>...</th>\n",
       "      <td>...</td>\n",
       "    </tr>\n",
       "    <tr>\n",
       "      <th>4075</th>\n",
       "      <td>Sillaginopsis panijus</td>\n",
       "    </tr>\n",
       "    <tr>\n",
       "      <th>4076</th>\n",
       "      <td>Sillaginopsis panijus</td>\n",
       "    </tr>\n",
       "    <tr>\n",
       "      <th>4077</th>\n",
       "      <td>Sillaginopsis panijus</td>\n",
       "    </tr>\n",
       "    <tr>\n",
       "      <th>4078</th>\n",
       "      <td>Sillaginopsis panijus</td>\n",
       "    </tr>\n",
       "    <tr>\n",
       "      <th>4079</th>\n",
       "      <td>Sillaginopsis panijus</td>\n",
       "    </tr>\n",
       "  </tbody>\n",
       "</table>\n",
       "<p>4080 rows × 1 columns</p>\n",
       "</div>"
      ],
      "text/plain": [
       "                    species\n",
       "0        Anabas testudineus\n",
       "1        Anabas testudineus\n",
       "2        Anabas testudineus\n",
       "3        Anabas testudineus\n",
       "4        Anabas testudineus\n",
       "...                     ...\n",
       "4075  Sillaginopsis panijus\n",
       "4076  Sillaginopsis panijus\n",
       "4077  Sillaginopsis panijus\n",
       "4078  Sillaginopsis panijus\n",
       "4079  Sillaginopsis panijus\n",
       "\n",
       "[4080 rows x 1 columns]"
      ]
     },
     "execution_count": 34,
     "metadata": {},
     "output_type": "execute_result"
    }
   ],
   "source": [
    "#df.iloc[:,1:]\n",
    "df.iloc[:,[0]]"
   ]
  },
  {
   "cell_type": "code",
   "execution_count": 35,
   "metadata": {},
   "outputs": [],
   "source": [
    "x = df.iloc[:,1:]\n",
    "y = df.iloc[:,[0]]"
   ]
  },
  {
   "cell_type": "code",
   "execution_count": 36,
   "metadata": {},
   "outputs": [],
   "source": [
    "x = df.select_dtypes(include=[int, float])"
   ]
  },
  {
   "cell_type": "code",
   "execution_count": 37,
   "metadata": {},
   "outputs": [],
   "source": [
    "from sklearn.preprocessing import MinMaxScaler\n",
    "scaler = MinMaxScaler()\n",
    "x = scaler.fit_transform(x)"
   ]
  },
  {
   "cell_type": "code",
   "execution_count": 38,
   "metadata": {},
   "outputs": [],
   "source": [
    "from sklearn.model_selection import train_test_split\n",
    "x_train, x_test, y_train, y_test = train_test_split(x,y,test_size=0.2,random_state=0)"
   ]
  },
  {
   "cell_type": "code",
   "execution_count": 39,
   "metadata": {},
   "outputs": [],
   "source": [
    "from sklearn.neighbors import KNeighborsClassifier"
   ]
  },
  {
   "cell_type": "code",
   "execution_count": 40,
   "metadata": {},
   "outputs": [],
   "source": [
    "data = pd.DataFrame({\n",
    "    'species;length;weight;w_l_ratio': [\n",
    "        'Anabas testudineus;1066;345;32', 'Anabas testudineus;691;327;47',\n",
    "        'Anabas testudineus;838;346;41', ';;;', 'Sillaginopsis panijus;3281;625;19'\n",
    "    ]\n",
    "})"
   ]
  },
  {
   "cell_type": "code",
   "execution_count": 41,
   "metadata": {},
   "outputs": [
    {
     "name": "stderr",
     "output_type": "stream",
     "text": [
      "c:\\Users\\ACER\\AppData\\Local\\Programs\\Python\\Python311\\Lib\\site-packages\\sklearn\\neighbors\\_classification.py:238: DataConversionWarning: A column-vector y was passed when a 1d array was expected. Please change the shape of y to (n_samples,), for example using ravel().\n",
      "  return self._fit(X, y)\n"
     ]
    },
    {
     "data": {
      "text/html": [
       "<style>#sk-container-id-1 {\n",
       "  /* Definition of color scheme common for light and dark mode */\n",
       "  --sklearn-color-text: black;\n",
       "  --sklearn-color-line: gray;\n",
       "  /* Definition of color scheme for unfitted estimators */\n",
       "  --sklearn-color-unfitted-level-0: #fff5e6;\n",
       "  --sklearn-color-unfitted-level-1: #f6e4d2;\n",
       "  --sklearn-color-unfitted-level-2: #ffe0b3;\n",
       "  --sklearn-color-unfitted-level-3: chocolate;\n",
       "  /* Definition of color scheme for fitted estimators */\n",
       "  --sklearn-color-fitted-level-0: #f0f8ff;\n",
       "  --sklearn-color-fitted-level-1: #d4ebff;\n",
       "  --sklearn-color-fitted-level-2: #b3dbfd;\n",
       "  --sklearn-color-fitted-level-3: cornflowerblue;\n",
       "\n",
       "  /* Specific color for light theme */\n",
       "  --sklearn-color-text-on-default-background: var(--sg-text-color, var(--theme-code-foreground, var(--jp-content-font-color1, black)));\n",
       "  --sklearn-color-background: var(--sg-background-color, var(--theme-background, var(--jp-layout-color0, white)));\n",
       "  --sklearn-color-border-box: var(--sg-text-color, var(--theme-code-foreground, var(--jp-content-font-color1, black)));\n",
       "  --sklearn-color-icon: #696969;\n",
       "\n",
       "  @media (prefers-color-scheme: dark) {\n",
       "    /* Redefinition of color scheme for dark theme */\n",
       "    --sklearn-color-text-on-default-background: var(--sg-text-color, var(--theme-code-foreground, var(--jp-content-font-color1, white)));\n",
       "    --sklearn-color-background: var(--sg-background-color, var(--theme-background, var(--jp-layout-color0, #111)));\n",
       "    --sklearn-color-border-box: var(--sg-text-color, var(--theme-code-foreground, var(--jp-content-font-color1, white)));\n",
       "    --sklearn-color-icon: #878787;\n",
       "  }\n",
       "}\n",
       "\n",
       "#sk-container-id-1 {\n",
       "  color: var(--sklearn-color-text);\n",
       "}\n",
       "\n",
       "#sk-container-id-1 pre {\n",
       "  padding: 0;\n",
       "}\n",
       "\n",
       "#sk-container-id-1 input.sk-hidden--visually {\n",
       "  border: 0;\n",
       "  clip: rect(1px 1px 1px 1px);\n",
       "  clip: rect(1px, 1px, 1px, 1px);\n",
       "  height: 1px;\n",
       "  margin: -1px;\n",
       "  overflow: hidden;\n",
       "  padding: 0;\n",
       "  position: absolute;\n",
       "  width: 1px;\n",
       "}\n",
       "\n",
       "#sk-container-id-1 div.sk-dashed-wrapped {\n",
       "  border: 1px dashed var(--sklearn-color-line);\n",
       "  margin: 0 0.4em 0.5em 0.4em;\n",
       "  box-sizing: border-box;\n",
       "  padding-bottom: 0.4em;\n",
       "  background-color: var(--sklearn-color-background);\n",
       "}\n",
       "\n",
       "#sk-container-id-1 div.sk-container {\n",
       "  /* jupyter's `normalize.less` sets `[hidden] { display: none; }`\n",
       "     but bootstrap.min.css set `[hidden] { display: none !important; }`\n",
       "     so we also need the `!important` here to be able to override the\n",
       "     default hidden behavior on the sphinx rendered scikit-learn.org.\n",
       "     See: https://github.com/scikit-learn/scikit-learn/issues/21755 */\n",
       "  display: inline-block !important;\n",
       "  position: relative;\n",
       "}\n",
       "\n",
       "#sk-container-id-1 div.sk-text-repr-fallback {\n",
       "  display: none;\n",
       "}\n",
       "\n",
       "div.sk-parallel-item,\n",
       "div.sk-serial,\n",
       "div.sk-item {\n",
       "  /* draw centered vertical line to link estimators */\n",
       "  background-image: linear-gradient(var(--sklearn-color-text-on-default-background), var(--sklearn-color-text-on-default-background));\n",
       "  background-size: 2px 100%;\n",
       "  background-repeat: no-repeat;\n",
       "  background-position: center center;\n",
       "}\n",
       "\n",
       "/* Parallel-specific style estimator block */\n",
       "\n",
       "#sk-container-id-1 div.sk-parallel-item::after {\n",
       "  content: \"\";\n",
       "  width: 100%;\n",
       "  border-bottom: 2px solid var(--sklearn-color-text-on-default-background);\n",
       "  flex-grow: 1;\n",
       "}\n",
       "\n",
       "#sk-container-id-1 div.sk-parallel {\n",
       "  display: flex;\n",
       "  align-items: stretch;\n",
       "  justify-content: center;\n",
       "  background-color: var(--sklearn-color-background);\n",
       "  position: relative;\n",
       "}\n",
       "\n",
       "#sk-container-id-1 div.sk-parallel-item {\n",
       "  display: flex;\n",
       "  flex-direction: column;\n",
       "}\n",
       "\n",
       "#sk-container-id-1 div.sk-parallel-item:first-child::after {\n",
       "  align-self: flex-end;\n",
       "  width: 50%;\n",
       "}\n",
       "\n",
       "#sk-container-id-1 div.sk-parallel-item:last-child::after {\n",
       "  align-self: flex-start;\n",
       "  width: 50%;\n",
       "}\n",
       "\n",
       "#sk-container-id-1 div.sk-parallel-item:only-child::after {\n",
       "  width: 0;\n",
       "}\n",
       "\n",
       "/* Serial-specific style estimator block */\n",
       "\n",
       "#sk-container-id-1 div.sk-serial {\n",
       "  display: flex;\n",
       "  flex-direction: column;\n",
       "  align-items: center;\n",
       "  background-color: var(--sklearn-color-background);\n",
       "  padding-right: 1em;\n",
       "  padding-left: 1em;\n",
       "}\n",
       "\n",
       "\n",
       "/* Toggleable style: style used for estimator/Pipeline/ColumnTransformer box that is\n",
       "clickable and can be expanded/collapsed.\n",
       "- Pipeline and ColumnTransformer use this feature and define the default style\n",
       "- Estimators will overwrite some part of the style using the `sk-estimator` class\n",
       "*/\n",
       "\n",
       "/* Pipeline and ColumnTransformer style (default) */\n",
       "\n",
       "#sk-container-id-1 div.sk-toggleable {\n",
       "  /* Default theme specific background. It is overwritten whether we have a\n",
       "  specific estimator or a Pipeline/ColumnTransformer */\n",
       "  background-color: var(--sklearn-color-background);\n",
       "}\n",
       "\n",
       "/* Toggleable label */\n",
       "#sk-container-id-1 label.sk-toggleable__label {\n",
       "  cursor: pointer;\n",
       "  display: block;\n",
       "  width: 100%;\n",
       "  margin-bottom: 0;\n",
       "  padding: 0.5em;\n",
       "  box-sizing: border-box;\n",
       "  text-align: center;\n",
       "}\n",
       "\n",
       "#sk-container-id-1 label.sk-toggleable__label-arrow:before {\n",
       "  /* Arrow on the left of the label */\n",
       "  content: \"▸\";\n",
       "  float: left;\n",
       "  margin-right: 0.25em;\n",
       "  color: var(--sklearn-color-icon);\n",
       "}\n",
       "\n",
       "#sk-container-id-1 label.sk-toggleable__label-arrow:hover:before {\n",
       "  color: var(--sklearn-color-text);\n",
       "}\n",
       "\n",
       "/* Toggleable content - dropdown */\n",
       "\n",
       "#sk-container-id-1 div.sk-toggleable__content {\n",
       "  max-height: 0;\n",
       "  max-width: 0;\n",
       "  overflow: hidden;\n",
       "  text-align: left;\n",
       "  /* unfitted */\n",
       "  background-color: var(--sklearn-color-unfitted-level-0);\n",
       "}\n",
       "\n",
       "#sk-container-id-1 div.sk-toggleable__content.fitted {\n",
       "  /* fitted */\n",
       "  background-color: var(--sklearn-color-fitted-level-0);\n",
       "}\n",
       "\n",
       "#sk-container-id-1 div.sk-toggleable__content pre {\n",
       "  margin: 0.2em;\n",
       "  border-radius: 0.25em;\n",
       "  color: var(--sklearn-color-text);\n",
       "  /* unfitted */\n",
       "  background-color: var(--sklearn-color-unfitted-level-0);\n",
       "}\n",
       "\n",
       "#sk-container-id-1 div.sk-toggleable__content.fitted pre {\n",
       "  /* unfitted */\n",
       "  background-color: var(--sklearn-color-fitted-level-0);\n",
       "}\n",
       "\n",
       "#sk-container-id-1 input.sk-toggleable__control:checked~div.sk-toggleable__content {\n",
       "  /* Expand drop-down */\n",
       "  max-height: 200px;\n",
       "  max-width: 100%;\n",
       "  overflow: auto;\n",
       "}\n",
       "\n",
       "#sk-container-id-1 input.sk-toggleable__control:checked~label.sk-toggleable__label-arrow:before {\n",
       "  content: \"▾\";\n",
       "}\n",
       "\n",
       "/* Pipeline/ColumnTransformer-specific style */\n",
       "\n",
       "#sk-container-id-1 div.sk-label input.sk-toggleable__control:checked~label.sk-toggleable__label {\n",
       "  color: var(--sklearn-color-text);\n",
       "  background-color: var(--sklearn-color-unfitted-level-2);\n",
       "}\n",
       "\n",
       "#sk-container-id-1 div.sk-label.fitted input.sk-toggleable__control:checked~label.sk-toggleable__label {\n",
       "  background-color: var(--sklearn-color-fitted-level-2);\n",
       "}\n",
       "\n",
       "/* Estimator-specific style */\n",
       "\n",
       "/* Colorize estimator box */\n",
       "#sk-container-id-1 div.sk-estimator input.sk-toggleable__control:checked~label.sk-toggleable__label {\n",
       "  /* unfitted */\n",
       "  background-color: var(--sklearn-color-unfitted-level-2);\n",
       "}\n",
       "\n",
       "#sk-container-id-1 div.sk-estimator.fitted input.sk-toggleable__control:checked~label.sk-toggleable__label {\n",
       "  /* fitted */\n",
       "  background-color: var(--sklearn-color-fitted-level-2);\n",
       "}\n",
       "\n",
       "#sk-container-id-1 div.sk-label label.sk-toggleable__label,\n",
       "#sk-container-id-1 div.sk-label label {\n",
       "  /* The background is the default theme color */\n",
       "  color: var(--sklearn-color-text-on-default-background);\n",
       "}\n",
       "\n",
       "/* On hover, darken the color of the background */\n",
       "#sk-container-id-1 div.sk-label:hover label.sk-toggleable__label {\n",
       "  color: var(--sklearn-color-text);\n",
       "  background-color: var(--sklearn-color-unfitted-level-2);\n",
       "}\n",
       "\n",
       "/* Label box, darken color on hover, fitted */\n",
       "#sk-container-id-1 div.sk-label.fitted:hover label.sk-toggleable__label.fitted {\n",
       "  color: var(--sklearn-color-text);\n",
       "  background-color: var(--sklearn-color-fitted-level-2);\n",
       "}\n",
       "\n",
       "/* Estimator label */\n",
       "\n",
       "#sk-container-id-1 div.sk-label label {\n",
       "  font-family: monospace;\n",
       "  font-weight: bold;\n",
       "  display: inline-block;\n",
       "  line-height: 1.2em;\n",
       "}\n",
       "\n",
       "#sk-container-id-1 div.sk-label-container {\n",
       "  text-align: center;\n",
       "}\n",
       "\n",
       "/* Estimator-specific */\n",
       "#sk-container-id-1 div.sk-estimator {\n",
       "  font-family: monospace;\n",
       "  border: 1px dotted var(--sklearn-color-border-box);\n",
       "  border-radius: 0.25em;\n",
       "  box-sizing: border-box;\n",
       "  margin-bottom: 0.5em;\n",
       "  /* unfitted */\n",
       "  background-color: var(--sklearn-color-unfitted-level-0);\n",
       "}\n",
       "\n",
       "#sk-container-id-1 div.sk-estimator.fitted {\n",
       "  /* fitted */\n",
       "  background-color: var(--sklearn-color-fitted-level-0);\n",
       "}\n",
       "\n",
       "/* on hover */\n",
       "#sk-container-id-1 div.sk-estimator:hover {\n",
       "  /* unfitted */\n",
       "  background-color: var(--sklearn-color-unfitted-level-2);\n",
       "}\n",
       "\n",
       "#sk-container-id-1 div.sk-estimator.fitted:hover {\n",
       "  /* fitted */\n",
       "  background-color: var(--sklearn-color-fitted-level-2);\n",
       "}\n",
       "\n",
       "/* Specification for estimator info (e.g. \"i\" and \"?\") */\n",
       "\n",
       "/* Common style for \"i\" and \"?\" */\n",
       "\n",
       ".sk-estimator-doc-link,\n",
       "a:link.sk-estimator-doc-link,\n",
       "a:visited.sk-estimator-doc-link {\n",
       "  float: right;\n",
       "  font-size: smaller;\n",
       "  line-height: 1em;\n",
       "  font-family: monospace;\n",
       "  background-color: var(--sklearn-color-background);\n",
       "  border-radius: 1em;\n",
       "  height: 1em;\n",
       "  width: 1em;\n",
       "  text-decoration: none !important;\n",
       "  margin-left: 1ex;\n",
       "  /* unfitted */\n",
       "  border: var(--sklearn-color-unfitted-level-1) 1pt solid;\n",
       "  color: var(--sklearn-color-unfitted-level-1);\n",
       "}\n",
       "\n",
       ".sk-estimator-doc-link.fitted,\n",
       "a:link.sk-estimator-doc-link.fitted,\n",
       "a:visited.sk-estimator-doc-link.fitted {\n",
       "  /* fitted */\n",
       "  border: var(--sklearn-color-fitted-level-1) 1pt solid;\n",
       "  color: var(--sklearn-color-fitted-level-1);\n",
       "}\n",
       "\n",
       "/* On hover */\n",
       "div.sk-estimator:hover .sk-estimator-doc-link:hover,\n",
       ".sk-estimator-doc-link:hover,\n",
       "div.sk-label-container:hover .sk-estimator-doc-link:hover,\n",
       ".sk-estimator-doc-link:hover {\n",
       "  /* unfitted */\n",
       "  background-color: var(--sklearn-color-unfitted-level-3);\n",
       "  color: var(--sklearn-color-background);\n",
       "  text-decoration: none;\n",
       "}\n",
       "\n",
       "div.sk-estimator.fitted:hover .sk-estimator-doc-link.fitted:hover,\n",
       ".sk-estimator-doc-link.fitted:hover,\n",
       "div.sk-label-container:hover .sk-estimator-doc-link.fitted:hover,\n",
       ".sk-estimator-doc-link.fitted:hover {\n",
       "  /* fitted */\n",
       "  background-color: var(--sklearn-color-fitted-level-3);\n",
       "  color: var(--sklearn-color-background);\n",
       "  text-decoration: none;\n",
       "}\n",
       "\n",
       "/* Span, style for the box shown on hovering the info icon */\n",
       ".sk-estimator-doc-link span {\n",
       "  display: none;\n",
       "  z-index: 9999;\n",
       "  position: relative;\n",
       "  font-weight: normal;\n",
       "  right: .2ex;\n",
       "  padding: .5ex;\n",
       "  margin: .5ex;\n",
       "  width: min-content;\n",
       "  min-width: 20ex;\n",
       "  max-width: 50ex;\n",
       "  color: var(--sklearn-color-text);\n",
       "  box-shadow: 2pt 2pt 4pt #999;\n",
       "  /* unfitted */\n",
       "  background: var(--sklearn-color-unfitted-level-0);\n",
       "  border: .5pt solid var(--sklearn-color-unfitted-level-3);\n",
       "}\n",
       "\n",
       ".sk-estimator-doc-link.fitted span {\n",
       "  /* fitted */\n",
       "  background: var(--sklearn-color-fitted-level-0);\n",
       "  border: var(--sklearn-color-fitted-level-3);\n",
       "}\n",
       "\n",
       ".sk-estimator-doc-link:hover span {\n",
       "  display: block;\n",
       "}\n",
       "\n",
       "/* \"?\"-specific style due to the `<a>` HTML tag */\n",
       "\n",
       "#sk-container-id-1 a.estimator_doc_link {\n",
       "  float: right;\n",
       "  font-size: 1rem;\n",
       "  line-height: 1em;\n",
       "  font-family: monospace;\n",
       "  background-color: var(--sklearn-color-background);\n",
       "  border-radius: 1rem;\n",
       "  height: 1rem;\n",
       "  width: 1rem;\n",
       "  text-decoration: none;\n",
       "  /* unfitted */\n",
       "  color: var(--sklearn-color-unfitted-level-1);\n",
       "  border: var(--sklearn-color-unfitted-level-1) 1pt solid;\n",
       "}\n",
       "\n",
       "#sk-container-id-1 a.estimator_doc_link.fitted {\n",
       "  /* fitted */\n",
       "  border: var(--sklearn-color-fitted-level-1) 1pt solid;\n",
       "  color: var(--sklearn-color-fitted-level-1);\n",
       "}\n",
       "\n",
       "/* On hover */\n",
       "#sk-container-id-1 a.estimator_doc_link:hover {\n",
       "  /* unfitted */\n",
       "  background-color: var(--sklearn-color-unfitted-level-3);\n",
       "  color: var(--sklearn-color-background);\n",
       "  text-decoration: none;\n",
       "}\n",
       "\n",
       "#sk-container-id-1 a.estimator_doc_link.fitted:hover {\n",
       "  /* fitted */\n",
       "  background-color: var(--sklearn-color-fitted-level-3);\n",
       "}\n",
       "</style><div id=\"sk-container-id-1\" class=\"sk-top-container\"><div class=\"sk-text-repr-fallback\"><pre>KNeighborsClassifier(metric=&#x27;euclidean&#x27;, n_neighbors=8)</pre><b>In a Jupyter environment, please rerun this cell to show the HTML representation or trust the notebook. <br />On GitHub, the HTML representation is unable to render, please try loading this page with nbviewer.org.</b></div><div class=\"sk-container\" hidden><div class=\"sk-item\"><div class=\"sk-estimator fitted sk-toggleable\"><input class=\"sk-toggleable__control sk-hidden--visually\" id=\"sk-estimator-id-1\" type=\"checkbox\" checked><label for=\"sk-estimator-id-1\" class=\"sk-toggleable__label fitted sk-toggleable__label-arrow fitted\">&nbsp;&nbsp;KNeighborsClassifier<a class=\"sk-estimator-doc-link fitted\" rel=\"noreferrer\" target=\"_blank\" href=\"https://scikit-learn.org/1.5/modules/generated/sklearn.neighbors.KNeighborsClassifier.html\">?<span>Documentation for KNeighborsClassifier</span></a><span class=\"sk-estimator-doc-link fitted\">i<span>Fitted</span></span></label><div class=\"sk-toggleable__content fitted\"><pre>KNeighborsClassifier(metric=&#x27;euclidean&#x27;, n_neighbors=8)</pre></div> </div></div></div></div>"
      ],
      "text/plain": [
       "KNeighborsClassifier(metric='euclidean', n_neighbors=8)"
      ]
     },
     "execution_count": 41,
     "metadata": {},
     "output_type": "execute_result"
    }
   ],
   "source": [
    "knn = KNeighborsClassifier(n_neighbors=8,metric='euclidean').fit(x_train,y_train)\n",
    "knn"
   ]
  },
  {
   "cell_type": "code",
   "execution_count": 42,
   "metadata": {},
   "outputs": [],
   "source": [
    "y_prediksi = knn.predict(x_test)"
   ]
  },
  {
   "cell_type": "code",
   "execution_count": 43,
   "metadata": {},
   "outputs": [
    {
     "data": {
      "text/plain": [
       "array(['Puntius lateristriga', 'Pethia conchonius', 'Otolithoides pama',\n",
       "       'Pethia conchonius', 'Polynemus paradiseus',\n",
       "       'Sillaginopsis panijus', 'Puntius lateristriga',\n",
       "       'Polynemus paradiseus', 'Sillaginopsis panijus',\n",
       "       'Otolithoides biauritus', 'Polynemus paradiseus',\n",
       "       'Otolithoides pama', 'Otolithoides biauritus', 'Pethia conchonius',\n",
       "       'Otolithoides biauritus', 'Otolithoides pama',\n",
       "       'Otolithoides biauritus', 'Coilia dussumieri',\n",
       "       'Sillaginopsis panijus', 'Otolithoides pama', 'Setipinna taty',\n",
       "       'Coilia dussumieri', 'Otolithoides biauritus',\n",
       "       'Puntius lateristriga', 'Anabas testudineus', 'Coilia dussumieri',\n",
       "       'Puntius lateristriga', 'Coilia dussumieri',\n",
       "       'Otolithoides biauritus', 'Polynemus paradiseus',\n",
       "       'Otolithoides pama', 'Otolithoides pama', 'Pethia conchonius',\n",
       "       'Polynemus paradiseus', 'Puntius lateristriga', 'Setipinna taty',\n",
       "       'Setipinna taty', 'Sillaginopsis panijus', 'Pethia conchonius',\n",
       "       'Pethia conchonius', 'Sillaginopsis panijus', 'Setipinna taty',\n",
       "       'Anabas testudineus', 'Otolithoides biauritus',\n",
       "       'Coilia dussumieri', 'Otolithoides biauritus', 'Setipinna taty',\n",
       "       'Otolithoides biauritus', 'Polynemus paradiseus',\n",
       "       'Puntius lateristriga', 'Coilia dussumieri',\n",
       "       'Polynemus paradiseus', 'Otolithoides biauritus',\n",
       "       'Pethia conchonius', 'Anabas testudineus', 'Puntius lateristriga',\n",
       "       'Otolithoides biauritus', 'Coilia dussumieri', 'Coilia dussumieri',\n",
       "       'Otolithoides biauritus', 'Otolithoides pama',\n",
       "       'Sillaginopsis panijus', 'Otolithoides pama', 'Coilia dussumieri',\n",
       "       'Coilia dussumieri', 'Otolithoides pama', 'Coilia dussumieri',\n",
       "       'Otolithoides pama', 'Otolithoides pama', 'Coilia dussumieri',\n",
       "       'Otolithoides biauritus', 'Pethia conchonius', 'Setipinna taty',\n",
       "       'Sillaginopsis panijus', 'Puntius lateristriga',\n",
       "       'Polynemus paradiseus', 'Otolithoides biauritus',\n",
       "       'Polynemus paradiseus', 'Pethia conchonius', 'Anabas testudineus',\n",
       "       'Setipinna taty', 'Puntius lateristriga', 'Puntius lateristriga',\n",
       "       'Otolithoides biauritus', 'Otolithoides biauritus',\n",
       "       'Coilia dussumieri', 'Setipinna taty', 'Puntius lateristriga',\n",
       "       'Setipinna taty', 'Sillaginopsis panijus', 'Puntius lateristriga',\n",
       "       'Pethia conchonius', 'Pethia conchonius', 'Puntius lateristriga',\n",
       "       'Anabas testudineus', 'Setipinna taty', 'Anabas testudineus',\n",
       "       'Pethia conchonius', 'Otolithoides biauritus', 'Coilia dussumieri',\n",
       "       'Sillaginopsis panijus', 'Pethia conchonius', 'Pethia conchonius',\n",
       "       'Anabas testudineus', 'Sillaginopsis panijus', 'Otolithoides pama',\n",
       "       'Sillaginopsis panijus', 'Setipinna taty', 'Polynemus paradiseus',\n",
       "       'Otolithoides biauritus', 'Coilia dussumieri',\n",
       "       'Anabas testudineus', 'Setipinna taty', 'Sillaginopsis panijus',\n",
       "       'Otolithoides biauritus', 'Setipinna taty', 'Anabas testudineus',\n",
       "       'Sillaginopsis panijus', 'Polynemus paradiseus',\n",
       "       'Sillaginopsis panijus', 'Setipinna taty',\n",
       "       'Otolithoides biauritus', 'Coilia dussumieri', 'Setipinna taty',\n",
       "       'Anabas testudineus', 'Coilia dussumieri', 'Pethia conchonius',\n",
       "       'Anabas testudineus', 'Otolithoides pama', 'Pethia conchonius',\n",
       "       'Anabas testudineus', 'Pethia conchonius', 'Setipinna taty',\n",
       "       'Otolithoides pama', 'Coilia dussumieri', 'Sillaginopsis panijus',\n",
       "       'Sillaginopsis panijus', 'Pethia conchonius', 'Setipinna taty',\n",
       "       'Otolithoides biauritus', 'Sillaginopsis panijus',\n",
       "       'Anabas testudineus', 'Anabas testudineus',\n",
       "       'Sillaginopsis panijus', 'Polynemus paradiseus',\n",
       "       'Polynemus paradiseus', 'Otolithoides biauritus',\n",
       "       'Otolithoides biauritus', 'Setipinna taty', 'Puntius lateristriga',\n",
       "       'Otolithoides pama', 'Otolithoides biauritus',\n",
       "       'Anabas testudineus', 'Coilia dussumieri', 'Otolithoides pama',\n",
       "       'Pethia conchonius', 'Anabas testudineus', 'Polynemus paradiseus',\n",
       "       'Coilia dussumieri', 'Sillaginopsis panijus', 'Otolithoides pama',\n",
       "       'Otolithoides pama', 'Setipinna taty', 'Sillaginopsis panijus',\n",
       "       'Otolithoides pama', 'Coilia dussumieri', 'Setipinna taty',\n",
       "       'Setipinna taty', 'Coilia dussumieri', 'Setipinna taty',\n",
       "       'Anabas testudineus', 'Otolithoides biauritus',\n",
       "       'Otolithoides biauritus', 'Otolithoides biauritus',\n",
       "       'Pethia conchonius', 'Polynemus paradiseus',\n",
       "       'Sillaginopsis panijus', 'Otolithoides pama', 'Anabas testudineus',\n",
       "       'Polynemus paradiseus', 'Otolithoides biauritus',\n",
       "       'Pethia conchonius', 'Puntius lateristriga',\n",
       "       'Puntius lateristriga', 'Coilia dussumieri', 'Pethia conchonius',\n",
       "       'Coilia dussumieri', 'Pethia conchonius', 'Sillaginopsis panijus',\n",
       "       'Sillaginopsis panijus', 'Polynemus paradiseus',\n",
       "       'Coilia dussumieri', 'Polynemus paradiseus', 'Anabas testudineus',\n",
       "       'Pethia conchonius', 'Anabas testudineus', 'Otolithoides pama',\n",
       "       'Otolithoides pama', 'Polynemus paradiseus', 'Otolithoides pama',\n",
       "       'Pethia conchonius', 'Anabas testudineus', 'Puntius lateristriga',\n",
       "       'Pethia conchonius', 'Anabas testudineus', 'Pethia conchonius',\n",
       "       'Sillaginopsis panijus', 'Otolithoides biauritus',\n",
       "       'Puntius lateristriga', 'Sillaginopsis panijus',\n",
       "       'Sillaginopsis panijus', 'Otolithoides pama', 'Pethia conchonius',\n",
       "       'Sillaginopsis panijus', 'Coilia dussumieri',\n",
       "       'Polynemus paradiseus', 'Puntius lateristriga',\n",
       "       'Sillaginopsis panijus', 'Pethia conchonius', 'Anabas testudineus',\n",
       "       'Sillaginopsis panijus', 'Otolithoides pama',\n",
       "       'Puntius lateristriga', 'Otolithoides biauritus',\n",
       "       'Otolithoides biauritus', 'Anabas testudineus',\n",
       "       'Otolithoides pama', 'Pethia conchonius', 'Setipinna taty',\n",
       "       'Puntius lateristriga', 'Anabas testudineus', 'Setipinna taty',\n",
       "       'Polynemus paradiseus', 'Sillaginopsis panijus',\n",
       "       'Pethia conchonius', 'Sillaginopsis panijus',\n",
       "       'Otolithoides biauritus', 'Polynemus paradiseus',\n",
       "       'Polynemus paradiseus', 'Polynemus paradiseus',\n",
       "       'Coilia dussumieri', 'Sillaginopsis panijus', 'Otolithoides pama',\n",
       "       'Sillaginopsis panijus', 'Otolithoides pama',\n",
       "       'Puntius lateristriga', 'Pethia conchonius',\n",
       "       'Puntius lateristriga', 'Coilia dussumieri', 'Anabas testudineus',\n",
       "       'Coilia dussumieri', 'Coilia dussumieri', 'Anabas testudineus',\n",
       "       'Pethia conchonius', 'Setipinna taty', 'Setipinna taty',\n",
       "       'Sillaginopsis panijus', 'Polynemus paradiseus', 'Setipinna taty',\n",
       "       'Sillaginopsis panijus', 'Polynemus paradiseus',\n",
       "       'Polynemus paradiseus', 'Setipinna taty', 'Setipinna taty',\n",
       "       'Pethia conchonius', 'Pethia conchonius', 'Otolithoides biauritus',\n",
       "       'Coilia dussumieri', 'Coilia dussumieri', 'Setipinna taty',\n",
       "       'Coilia dussumieri', 'Coilia dussumieri', 'Coilia dussumieri',\n",
       "       'Pethia conchonius', 'Sillaginopsis panijus', 'Setipinna taty',\n",
       "       'Puntius lateristriga', 'Sillaginopsis panijus',\n",
       "       'Sillaginopsis panijus', 'Otolithoides biauritus',\n",
       "       'Anabas testudineus', 'Anabas testudineus', 'Coilia dussumieri',\n",
       "       'Sillaginopsis panijus', 'Polynemus paradiseus',\n",
       "       'Pethia conchonius', 'Coilia dussumieri', 'Coilia dussumieri',\n",
       "       'Otolithoides pama', 'Pethia conchonius', 'Setipinna taty',\n",
       "       'Pethia conchonius', 'Sillaginopsis panijus', 'Otolithoides pama',\n",
       "       'Sillaginopsis panijus', 'Otolithoides pama',\n",
       "       'Otolithoides biauritus', 'Otolithoides biauritus',\n",
       "       'Coilia dussumieri', 'Sillaginopsis panijus',\n",
       "       'Polynemus paradiseus', 'Setipinna taty', 'Sillaginopsis panijus',\n",
       "       'Anabas testudineus', 'Otolithoides pama',\n",
       "       'Otolithoides biauritus', 'Setipinna taty', 'Pethia conchonius',\n",
       "       'Polynemus paradiseus', 'Polynemus paradiseus',\n",
       "       'Pethia conchonius', 'Otolithoides biauritus',\n",
       "       'Puntius lateristriga', 'Puntius lateristriga',\n",
       "       'Puntius lateristriga', 'Setipinna taty', 'Pethia conchonius',\n",
       "       'Puntius lateristriga', 'Otolithoides biauritus',\n",
       "       'Coilia dussumieri', 'Otolithoides pama', 'Pethia conchonius',\n",
       "       'Coilia dussumieri', 'Polynemus paradiseus', 'Setipinna taty',\n",
       "       'Otolithoides biauritus', 'Otolithoides pama', 'Otolithoides pama',\n",
       "       'Setipinna taty', 'Anabas testudineus', 'Otolithoides pama',\n",
       "       'Polynemus paradiseus', 'Otolithoides biauritus',\n",
       "       'Coilia dussumieri', 'Polynemus paradiseus', 'Setipinna taty',\n",
       "       'Polynemus paradiseus', 'Anabas testudineus', 'Setipinna taty',\n",
       "       'Sillaginopsis panijus', 'Anabas testudineus',\n",
       "       'Otolithoides biauritus', 'Otolithoides biauritus',\n",
       "       'Otolithoides biauritus', 'Pethia conchonius',\n",
       "       'Polynemus paradiseus', 'Coilia dussumieri', 'Setipinna taty',\n",
       "       'Polynemus paradiseus', 'Polynemus paradiseus',\n",
       "       'Otolithoides biauritus', 'Coilia dussumieri', 'Setipinna taty',\n",
       "       'Otolithoides pama', 'Setipinna taty', 'Otolithoides biauritus',\n",
       "       'Polynemus paradiseus', 'Otolithoides biauritus',\n",
       "       'Anabas testudineus', 'Puntius lateristriga', 'Setipinna taty',\n",
       "       'Coilia dussumieri', 'Anabas testudineus', 'Sillaginopsis panijus',\n",
       "       'Setipinna taty', 'Polynemus paradiseus', 'Anabas testudineus',\n",
       "       'Coilia dussumieri', 'Coilia dussumieri', 'Polynemus paradiseus',\n",
       "       'Anabas testudineus', 'Otolithoides biauritus',\n",
       "       'Otolithoides pama', 'Pethia conchonius', 'Setipinna taty',\n",
       "       'Anabas testudineus', 'Pethia conchonius', 'Sillaginopsis panijus',\n",
       "       'Coilia dussumieri', 'Otolithoides biauritus',\n",
       "       'Sillaginopsis panijus', 'Coilia dussumieri',\n",
       "       'Otolithoides biauritus', 'Puntius lateristriga',\n",
       "       'Pethia conchonius', 'Otolithoides biauritus', 'Coilia dussumieri',\n",
       "       'Otolithoides biauritus', 'Otolithoides pama', 'Otolithoides pama',\n",
       "       'Polynemus paradiseus', 'Pethia conchonius', 'Pethia conchonius',\n",
       "       'Puntius lateristriga', 'Puntius lateristriga',\n",
       "       'Otolithoides pama', 'Otolithoides biauritus',\n",
       "       'Anabas testudineus', 'Setipinna taty', 'Pethia conchonius',\n",
       "       'Otolithoides biauritus', 'Coilia dussumieri',\n",
       "       'Anabas testudineus', 'Otolithoides biauritus',\n",
       "       'Sillaginopsis panijus', 'Otolithoides biauritus',\n",
       "       'Sillaginopsis panijus', 'Pethia conchonius', 'Otolithoides pama',\n",
       "       'Puntius lateristriga', 'Polynemus paradiseus', 'Setipinna taty',\n",
       "       'Otolithoides biauritus', 'Anabas testudineus',\n",
       "       'Pethia conchonius', 'Sillaginopsis panijus',\n",
       "       'Puntius lateristriga', 'Otolithoides biauritus',\n",
       "       'Pethia conchonius', 'Pethia conchonius', 'Sillaginopsis panijus',\n",
       "       'Otolithoides biauritus', 'Otolithoides biauritus',\n",
       "       'Pethia conchonius', 'Otolithoides biauritus', 'Otolithoides pama',\n",
       "       'Otolithoides biauritus', 'Puntius lateristriga',\n",
       "       'Anabas testudineus', 'Puntius lateristriga', 'Pethia conchonius',\n",
       "       'Otolithoides pama', 'Sillaginopsis panijus',\n",
       "       'Puntius lateristriga', 'Coilia dussumieri', 'Otolithoides pama',\n",
       "       'Anabas testudineus', 'Otolithoides biauritus',\n",
       "       'Sillaginopsis panijus', 'Anabas testudineus', 'Coilia dussumieri',\n",
       "       'Pethia conchonius', 'Otolithoides biauritus',\n",
       "       'Anabas testudineus', 'Otolithoides pama', 'Polynemus paradiseus',\n",
       "       'Pethia conchonius', 'Otolithoides pama', 'Coilia dussumieri',\n",
       "       'Otolithoides biauritus', 'Otolithoides biauritus',\n",
       "       'Setipinna taty', 'Sillaginopsis panijus', 'Polynemus paradiseus',\n",
       "       'Otolithoides pama', 'Otolithoides pama', 'Otolithoides biauritus',\n",
       "       'Polynemus paradiseus', 'Puntius lateristriga',\n",
       "       'Anabas testudineus', 'Puntius lateristriga', 'Setipinna taty',\n",
       "       'Setipinna taty', 'Otolithoides biauritus', 'Polynemus paradiseus',\n",
       "       'Sillaginopsis panijus', 'Pethia conchonius',\n",
       "       'Otolithoides biauritus', 'Polynemus paradiseus',\n",
       "       'Otolithoides biauritus', 'Otolithoides pama',\n",
       "       'Anabas testudineus', 'Sillaginopsis panijus',\n",
       "       'Sillaginopsis panijus', 'Anabas testudineus', 'Pethia conchonius',\n",
       "       'Polynemus paradiseus', 'Otolithoides pama',\n",
       "       'Otolithoides biauritus', 'Polynemus paradiseus',\n",
       "       'Coilia dussumieri', 'Anabas testudineus', 'Anabas testudineus',\n",
       "       'Otolithoides biauritus', 'Setipinna taty', 'Coilia dussumieri',\n",
       "       'Polynemus paradiseus', 'Otolithoides biauritus',\n",
       "       'Polynemus paradiseus', 'Otolithoides pama', 'Anabas testudineus',\n",
       "       'Sillaginopsis panijus', 'Anabas testudineus',\n",
       "       'Puntius lateristriga', 'Puntius lateristriga',\n",
       "       'Polynemus paradiseus', 'Coilia dussumieri', 'Otolithoides pama',\n",
       "       'Coilia dussumieri', 'Pethia conchonius', 'Puntius lateristriga',\n",
       "       'Coilia dussumieri', 'Otolithoides pama', 'Sillaginopsis panijus',\n",
       "       'Coilia dussumieri', 'Otolithoides pama', 'Otolithoides biauritus',\n",
       "       'Otolithoides pama', 'Setipinna taty', 'Sillaginopsis panijus',\n",
       "       'Pethia conchonius', 'Sillaginopsis panijus',\n",
       "       'Otolithoides biauritus', 'Puntius lateristriga',\n",
       "       'Otolithoides pama', 'Otolithoides biauritus', 'Pethia conchonius',\n",
       "       'Coilia dussumieri', 'Sillaginopsis panijus',\n",
       "       'Otolithoides biauritus', 'Puntius lateristriga', 'Setipinna taty',\n",
       "       'Polynemus paradiseus', 'Puntius lateristriga',\n",
       "       'Sillaginopsis panijus', 'Polynemus paradiseus',\n",
       "       'Anabas testudineus', 'Sillaginopsis panijus',\n",
       "       'Sillaginopsis panijus', 'Otolithoides biauritus',\n",
       "       'Setipinna taty', 'Anabas testudineus', 'Pethia conchonius',\n",
       "       'Otolithoides pama', 'Anabas testudineus',\n",
       "       'Otolithoides biauritus', 'Polynemus paradiseus',\n",
       "       'Otolithoides biauritus', 'Pethia conchonius', 'Otolithoides pama',\n",
       "       'Setipinna taty', 'Otolithoides biauritus', 'Polynemus paradiseus',\n",
       "       'Puntius lateristriga', 'Polynemus paradiseus',\n",
       "       'Sillaginopsis panijus', 'Otolithoides biauritus',\n",
       "       'Coilia dussumieri', 'Otolithoides biauritus',\n",
       "       'Anabas testudineus', 'Sillaginopsis panijus',\n",
       "       'Anabas testudineus', 'Otolithoides pama', 'Coilia dussumieri',\n",
       "       'Otolithoides biauritus', 'Otolithoides biauritus',\n",
       "       'Anabas testudineus', 'Anabas testudineus', 'Setipinna taty',\n",
       "       'Anabas testudineus', 'Otolithoides biauritus',\n",
       "       'Sillaginopsis panijus', 'Coilia dussumieri',\n",
       "       'Polynemus paradiseus', 'Otolithoides biauritus',\n",
       "       'Pethia conchonius', 'Pethia conchonius', 'Puntius lateristriga',\n",
       "       'Anabas testudineus', 'Otolithoides pama', 'Anabas testudineus',\n",
       "       'Otolithoides biauritus', 'Otolithoides pama',\n",
       "       'Polynemus paradiseus', 'Polynemus paradiseus',\n",
       "       'Polynemus paradiseus', 'Polynemus paradiseus',\n",
       "       'Otolithoides biauritus', 'Setipinna taty', 'Puntius lateristriga',\n",
       "       'Otolithoides pama', 'Puntius lateristriga', 'Otolithoides pama',\n",
       "       'Puntius lateristriga', 'Anabas testudineus', 'Coilia dussumieri',\n",
       "       'Otolithoides biauritus', 'Otolithoides biauritus',\n",
       "       'Coilia dussumieri', 'Sillaginopsis panijus',\n",
       "       'Otolithoides biauritus', 'Coilia dussumieri',\n",
       "       'Anabas testudineus', 'Coilia dussumieri', 'Puntius lateristriga',\n",
       "       'Polynemus paradiseus', 'Coilia dussumieri',\n",
       "       'Puntius lateristriga', 'Otolithoides biauritus',\n",
       "       'Otolithoides biauritus', 'Otolithoides biauritus',\n",
       "       'Coilia dussumieri', 'Otolithoides pama', 'Sillaginopsis panijus',\n",
       "       'Sillaginopsis panijus', 'Sillaginopsis panijus',\n",
       "       'Polynemus paradiseus', 'Puntius lateristriga',\n",
       "       'Coilia dussumieri', 'Puntius lateristriga', 'Otolithoides pama',\n",
       "       'Puntius lateristriga', 'Setipinna taty', 'Puntius lateristriga',\n",
       "       'Anabas testudineus', 'Sillaginopsis panijus',\n",
       "       'Polynemus paradiseus', 'Puntius lateristriga',\n",
       "       'Otolithoides pama', 'Polynemus paradiseus', 'Coilia dussumieri',\n",
       "       'Pethia conchonius', 'Coilia dussumieri', 'Otolithoides pama',\n",
       "       'Otolithoides biauritus', 'Otolithoides pama', 'Pethia conchonius',\n",
       "       'Polynemus paradiseus', 'Puntius lateristriga',\n",
       "       'Anabas testudineus', 'Coilia dussumieri', 'Anabas testudineus',\n",
       "       'Coilia dussumieri', 'Sillaginopsis panijus', 'Setipinna taty',\n",
       "       'Setipinna taty', 'Coilia dussumieri', 'Pethia conchonius',\n",
       "       'Sillaginopsis panijus', 'Coilia dussumieri', 'Pethia conchonius',\n",
       "       'Anabas testudineus', 'Setipinna taty', 'Otolithoides biauritus',\n",
       "       'Pethia conchonius', 'Polynemus paradiseus',\n",
       "       'Otolithoides biauritus', 'Otolithoides pama',\n",
       "       'Anabas testudineus', 'Anabas testudineus', 'Coilia dussumieri',\n",
       "       'Polynemus paradiseus', 'Polynemus paradiseus',\n",
       "       'Puntius lateristriga', 'Sillaginopsis panijus',\n",
       "       'Puntius lateristriga', 'Otolithoides biauritus',\n",
       "       'Puntius lateristriga', 'Coilia dussumieri',\n",
       "       'Sillaginopsis panijus', 'Setipinna taty', 'Setipinna taty',\n",
       "       'Otolithoides biauritus', 'Anabas testudineus',\n",
       "       'Puntius lateristriga', 'Puntius lateristriga',\n",
       "       'Coilia dussumieri', 'Coilia dussumieri', 'Sillaginopsis panijus',\n",
       "       'Anabas testudineus', 'Puntius lateristriga', 'Setipinna taty',\n",
       "       'Coilia dussumieri', 'Setipinna taty', 'Sillaginopsis panijus',\n",
       "       'Puntius lateristriga', 'Setipinna taty', 'Otolithoides pama',\n",
       "       'Puntius lateristriga', 'Anabas testudineus', 'Anabas testudineus',\n",
       "       'Anabas testudineus', 'Anabas testudineus',\n",
       "       'Otolithoides biauritus', 'Anabas testudineus',\n",
       "       'Coilia dussumieri', 'Otolithoides pama', 'Setipinna taty',\n",
       "       'Coilia dussumieri', 'Puntius lateristriga',\n",
       "       'Otolithoides biauritus', 'Otolithoides pama',\n",
       "       'Polynemus paradiseus', 'Pethia conchonius', 'Setipinna taty',\n",
       "       'Anabas testudineus', 'Setipinna taty', 'Sillaginopsis panijus',\n",
       "       'Otolithoides biauritus', 'Otolithoides pama', 'Pethia conchonius',\n",
       "       'Setipinna taty', 'Otolithoides biauritus',\n",
       "       'Otolithoides biauritus', 'Pethia conchonius', 'Pethia conchonius',\n",
       "       'Pethia conchonius', 'Setipinna taty', 'Coilia dussumieri',\n",
       "       'Otolithoides biauritus', 'Anabas testudineus',\n",
       "       'Otolithoides biauritus', 'Polynemus paradiseus',\n",
       "       'Coilia dussumieri', 'Puntius lateristriga', 'Setipinna taty',\n",
       "       'Anabas testudineus', 'Otolithoides biauritus',\n",
       "       'Otolithoides pama', 'Sillaginopsis panijus', 'Anabas testudineus',\n",
       "       'Anabas testudineus', 'Anabas testudineus', 'Anabas testudineus',\n",
       "       'Anabas testudineus', 'Pethia conchonius', 'Sillaginopsis panijus',\n",
       "       'Anabas testudineus', 'Otolithoides biauritus',\n",
       "       'Otolithoides pama', 'Otolithoides biauritus', 'Coilia dussumieri',\n",
       "       'Setipinna taty', 'Coilia dussumieri', 'Anabas testudineus',\n",
       "       'Anabas testudineus', 'Otolithoides pama', 'Sillaginopsis panijus',\n",
       "       'Puntius lateristriga', 'Otolithoides pama', 'Setipinna taty',\n",
       "       'Otolithoides pama', 'Sillaginopsis panijus',\n",
       "       'Sillaginopsis panijus', 'Sillaginopsis panijus',\n",
       "       'Anabas testudineus', 'Otolithoides biauritus',\n",
       "       'Otolithoides pama', 'Anabas testudineus', 'Otolithoides pama',\n",
       "       'Otolithoides biauritus', 'Polynemus paradiseus',\n",
       "       'Sillaginopsis panijus', 'Polynemus paradiseus',\n",
       "       'Pethia conchonius', 'Coilia dussumieri', 'Anabas testudineus',\n",
       "       'Puntius lateristriga', 'Otolithoides biauritus',\n",
       "       'Polynemus paradiseus', 'Polynemus paradiseus',\n",
       "       'Coilia dussumieri', 'Pethia conchonius', 'Polynemus paradiseus',\n",
       "       'Anabas testudineus', 'Otolithoides pama', 'Anabas testudineus',\n",
       "       'Setipinna taty', 'Setipinna taty', 'Polynemus paradiseus',\n",
       "       'Otolithoides pama', 'Setipinna taty', 'Setipinna taty',\n",
       "       'Otolithoides pama', 'Anabas testudineus', 'Polynemus paradiseus',\n",
       "       'Polynemus paradiseus', 'Sillaginopsis panijus',\n",
       "       'Coilia dussumieri', 'Sillaginopsis panijus',\n",
       "       'Polynemus paradiseus', 'Sillaginopsis panijus',\n",
       "       'Coilia dussumieri', 'Otolithoides biauritus',\n",
       "       'Puntius lateristriga', 'Puntius lateristriga',\n",
       "       'Otolithoides biauritus', 'Setipinna taty', 'Coilia dussumieri',\n",
       "       'Sillaginopsis panijus', 'Setipinna taty', 'Anabas testudineus',\n",
       "       'Otolithoides biauritus', 'Sillaginopsis panijus',\n",
       "       'Setipinna taty', 'Pethia conchonius', 'Otolithoides biauritus',\n",
       "       'Setipinna taty', 'Anabas testudineus', 'Otolithoides pama',\n",
       "       'Puntius lateristriga', 'Otolithoides biauritus',\n",
       "       'Otolithoides pama', 'Otolithoides biauritus', 'Pethia conchonius',\n",
       "       'Polynemus paradiseus', 'Anabas testudineus',\n",
       "       'Otolithoides biauritus', 'Pethia conchonius', 'Coilia dussumieri',\n",
       "       'Otolithoides biauritus', 'Puntius lateristriga',\n",
       "       'Pethia conchonius', 'Coilia dussumieri', 'Polynemus paradiseus',\n",
       "       'Polynemus paradiseus'], dtype=object)"
      ]
     },
     "execution_count": 43,
     "metadata": {},
     "output_type": "execute_result"
    }
   ],
   "source": [
    "y_prediksi"
   ]
  },
  {
   "cell_type": "code",
   "execution_count": 44,
   "metadata": {},
   "outputs": [],
   "source": [
    "from sklearn.metrics import accuracy_score\n",
    "from sklearn.metrics import classification_report\n",
    "from sklearn.metrics import confusion_matrix\n",
    "import seaborn as sb"
   ]
  },
  {
   "cell_type": "code",
   "execution_count": 45,
   "metadata": {},
   "outputs": [
    {
     "name": "stdout",
     "output_type": "stream",
     "text": [
      "Nilai akurasi 0.928921568627451\n"
     ]
    }
   ],
   "source": [
    "print(\"Nilai akurasi\", accuracy_score(y_test,y_prediksi))"
   ]
  },
  {
   "cell_type": "code",
   "execution_count": 46,
   "metadata": {},
   "outputs": [
    {
     "name": "stdout",
     "output_type": "stream",
     "text": [
      "                        precision    recall  f1-score   support\n",
      "\n",
      "    Anabas testudineus       1.00      1.00      1.00        97\n",
      "     Coilia dussumieri       1.00      0.99      0.99        96\n",
      "Otolithoides biauritus       0.68      0.82      0.74       100\n",
      "     Otolithoides pama       0.99      1.00      0.99        85\n",
      "     Pethia conchonius       1.00      1.00      1.00        84\n",
      "  Polynemus paradiseus       1.00      1.00      1.00        85\n",
      "  Puntius lateristriga       1.00      1.00      1.00        74\n",
      "        Setipinna taty       0.78      0.62      0.69       103\n",
      " Sillaginopsis panijus       1.00      1.00      1.00        92\n",
      "\n",
      "              accuracy                           0.93       816\n",
      "             macro avg       0.94      0.94      0.94       816\n",
      "          weighted avg       0.93      0.93      0.93       816\n",
      "\n"
     ]
    },
    {
     "data": {
      "text/plain": [
       "<Axes: >"
      ]
     },
     "execution_count": 46,
     "metadata": {},
     "output_type": "execute_result"
    },
    {
     "data": {
      "image/png": "[encoded data removed]",
      "text/plain": [
       "<Figure size 640x480 with 2 Axes>"
      ]
     },
     "metadata": {},
     "output_type": "display_data"
    }
   ],
   "source": [
    "print(classification_report(y_test,y_prediksi))\n",
    "sb.heatmap(confusion_matrix(y_test,y_prediksi),annot=True)"
   ]
  },
  {
   "cell_type": "code",
   "execution_count": 47,
   "metadata": {},
   "outputs": [
    {
     "name": "stderr",
     "output_type": "stream",
     "text": [
      "c:\\Users\\ACER\\AppData\\Local\\Programs\\Python\\Python311\\Lib\\site-packages\\sklearn\\neighbors\\_classification.py:238: DataConversionWarning: A column-vector y was passed when a 1d array was expected. Please change the shape of y to (n_samples,), for example using ravel().\n",
      "  return self._fit(X, y)\n"
     ]
    },
    {
     "name": "stdout",
     "output_type": "stream",
     "text": [
      "[0.9264705882352942]\n",
      "[0.9264705882352942, 0.9264705882352942]\n"
     ]
    },
    {
     "name": "stderr",
     "output_type": "stream",
     "text": [
      "c:\\Users\\ACER\\AppData\\Local\\Programs\\Python\\Python311\\Lib\\site-packages\\sklearn\\neighbors\\_classification.py:238: DataConversionWarning: A column-vector y was passed when a 1d array was expected. Please change the shape of y to (n_samples,), for example using ravel().\n",
      "  return self._fit(X, y)\n",
      "c:\\Users\\ACER\\AppData\\Local\\Programs\\Python\\Python311\\Lib\\site-packages\\sklearn\\neighbors\\_classification.py:238: DataConversionWarning: A column-vector y was passed when a 1d array was expected. Please change the shape of y to (n_samples,), for example using ravel().\n",
      "  return self._fit(X, y)\n"
     ]
    },
    {
     "name": "stdout",
     "output_type": "stream",
     "text": [
      "[0.9264705882352942, 0.9264705882352942, 0.9325980392156863]\n",
      "[0.9264705882352942, 0.9264705882352942, 0.9325980392156863, 0.9325980392156863]\n"
     ]
    },
    {
     "name": "stderr",
     "output_type": "stream",
     "text": [
      "c:\\Users\\ACER\\AppData\\Local\\Programs\\Python\\Python311\\Lib\\site-packages\\sklearn\\neighbors\\_classification.py:238: DataConversionWarning: A column-vector y was passed when a 1d array was expected. Please change the shape of y to (n_samples,), for example using ravel().\n",
      "  return self._fit(X, y)\n",
      "c:\\Users\\ACER\\AppData\\Local\\Programs\\Python\\Python311\\Lib\\site-packages\\sklearn\\neighbors\\_classification.py:238: DataConversionWarning: A column-vector y was passed when a 1d array was expected. Please change the shape of y to (n_samples,), for example using ravel().\n",
      "  return self._fit(X, y)\n"
     ]
    },
    {
     "name": "stdout",
     "output_type": "stream",
     "text": [
      "[0.9264705882352942, 0.9264705882352942, 0.9325980392156863, 0.9325980392156863, 0.9338235294117647]\n",
      "[0.9264705882352942, 0.9264705882352942, 0.9325980392156863, 0.9325980392156863, 0.9338235294117647, 0.9325980392156863]\n"
     ]
    },
    {
     "name": "stderr",
     "output_type": "stream",
     "text": [
      "c:\\Users\\ACER\\AppData\\Local\\Programs\\Python\\Python311\\Lib\\site-packages\\sklearn\\neighbors\\_classification.py:238: DataConversionWarning: A column-vector y was passed when a 1d array was expected. Please change the shape of y to (n_samples,), for example using ravel().\n",
      "  return self._fit(X, y)\n",
      "c:\\Users\\ACER\\AppData\\Local\\Programs\\Python\\Python311\\Lib\\site-packages\\sklearn\\neighbors\\_classification.py:238: DataConversionWarning: A column-vector y was passed when a 1d array was expected. Please change the shape of y to (n_samples,), for example using ravel().\n",
      "  return self._fit(X, y)\n"
     ]
    },
    {
     "name": "stdout",
     "output_type": "stream",
     "text": [
      "[0.9264705882352942, 0.9264705882352942, 0.9325980392156863, 0.9325980392156863, 0.9338235294117647, 0.9325980392156863, 0.9325980392156863]\n"
     ]
    },
    {
     "name": "stderr",
     "output_type": "stream",
     "text": [
      "c:\\Users\\ACER\\AppData\\Local\\Programs\\Python\\Python311\\Lib\\site-packages\\sklearn\\neighbors\\_classification.py:238: DataConversionWarning: A column-vector y was passed when a 1d array was expected. Please change the shape of y to (n_samples,), for example using ravel().\n",
      "  return self._fit(X, y)\n"
     ]
    },
    {
     "name": "stdout",
     "output_type": "stream",
     "text": [
      "[0.9264705882352942, 0.9264705882352942, 0.9325980392156863, 0.9325980392156863, 0.9338235294117647, 0.9325980392156863, 0.9325980392156863, 0.928921568627451]\n",
      "[0.9264705882352942, 0.9264705882352942, 0.9325980392156863, 0.9325980392156863, 0.9338235294117647, 0.9325980392156863, 0.9325980392156863, 0.928921568627451, 0.9325980392156863]\n"
     ]
    },
    {
     "name": "stderr",
     "output_type": "stream",
     "text": [
      "c:\\Users\\ACER\\AppData\\Local\\Programs\\Python\\Python311\\Lib\\site-packages\\sklearn\\neighbors\\_classification.py:238: DataConversionWarning: A column-vector y was passed when a 1d array was expected. Please change the shape of y to (n_samples,), for example using ravel().\n",
      "  return self._fit(X, y)\n",
      "c:\\Users\\ACER\\AppData\\Local\\Programs\\Python\\Python311\\Lib\\site-packages\\sklearn\\neighbors\\_classification.py:238: DataConversionWarning: A column-vector y was passed when a 1d array was expected. Please change the shape of y to (n_samples,), for example using ravel().\n",
      "  return self._fit(X, y)\n"
     ]
    },
    {
     "name": "stdout",
     "output_type": "stream",
     "text": [
      "[0.9264705882352942, 0.9264705882352942, 0.9325980392156863, 0.9325980392156863, 0.9338235294117647, 0.9325980392156863, 0.9325980392156863, 0.928921568627451, 0.9325980392156863, 0.9338235294117647]\n",
      "[0.9264705882352942, 0.9264705882352942, 0.9325980392156863, 0.9325980392156863, 0.9338235294117647, 0.9325980392156863, 0.9325980392156863, 0.928921568627451, 0.9325980392156863, 0.9338235294117647, 0.9387254901960784]\n",
      "[0.9264705882352942, 0.9264705882352942, 0.9325980392156863, 0.9325980392156863, 0.9338235294117647, 0.9325980392156863, 0.9325980392156863, 0.928921568627451, 0.9325980392156863, 0.9338235294117647, 0.9387254901960784, 0.9399509803921569]\n"
     ]
    },
    {
     "name": "stderr",
     "output_type": "stream",
     "text": [
      "c:\\Users\\ACER\\AppData\\Local\\Programs\\Python\\Python311\\Lib\\site-packages\\sklearn\\neighbors\\_classification.py:238: DataConversionWarning: A column-vector y was passed when a 1d array was expected. Please change the shape of y to (n_samples,), for example using ravel().\n",
      "  return self._fit(X, y)\n",
      "c:\\Users\\ACER\\AppData\\Local\\Programs\\Python\\Python311\\Lib\\site-packages\\sklearn\\neighbors\\_classification.py:238: DataConversionWarning: A column-vector y was passed when a 1d array was expected. Please change the shape of y to (n_samples,), for example using ravel().\n",
      "  return self._fit(X, y)\n",
      "c:\\Users\\ACER\\AppData\\Local\\Programs\\Python\\Python311\\Lib\\site-packages\\sklearn\\neighbors\\_classification.py:238: DataConversionWarning: A column-vector y was passed when a 1d array was expected. Please change the shape of y to (n_samples,), for example using ravel().\n",
      "  return self._fit(X, y)\n"
     ]
    },
    {
     "name": "stdout",
     "output_type": "stream",
     "text": [
      "[0.9264705882352942, 0.9264705882352942, 0.9325980392156863, 0.9325980392156863, 0.9338235294117647, 0.9325980392156863, 0.9325980392156863, 0.928921568627451, 0.9325980392156863, 0.9338235294117647, 0.9387254901960784, 0.9399509803921569, 0.9411764705882353]\n"
     ]
    },
    {
     "name": "stderr",
     "output_type": "stream",
     "text": [
      "c:\\Users\\ACER\\AppData\\Local\\Programs\\Python\\Python311\\Lib\\site-packages\\sklearn\\neighbors\\_classification.py:238: DataConversionWarning: A column-vector y was passed when a 1d array was expected. Please change the shape of y to (n_samples,), for example using ravel().\n",
      "  return self._fit(X, y)\n"
     ]
    },
    {
     "name": "stdout",
     "output_type": "stream",
     "text": [
      "[0.9264705882352942, 0.9264705882352942, 0.9325980392156863, 0.9325980392156863, 0.9338235294117647, 0.9325980392156863, 0.9325980392156863, 0.928921568627451, 0.9325980392156863, 0.9338235294117647, 0.9387254901960784, 0.9399509803921569, 0.9411764705882353, 0.9436274509803921]\n",
      "[0.9264705882352942, 0.9264705882352942, 0.9325980392156863, 0.9325980392156863, 0.9338235294117647, 0.9325980392156863, 0.9325980392156863, 0.928921568627451, 0.9325980392156863, 0.9338235294117647, 0.9387254901960784, 0.9399509803921569, 0.9411764705882353, 0.9436274509803921, 0.9448529411764706]\n"
     ]
    },
    {
     "name": "stderr",
     "output_type": "stream",
     "text": [
      "c:\\Users\\ACER\\AppData\\Local\\Programs\\Python\\Python311\\Lib\\site-packages\\sklearn\\neighbors\\_classification.py:238: DataConversionWarning: A column-vector y was passed when a 1d array was expected. Please change the shape of y to (n_samples,), for example using ravel().\n",
      "  return self._fit(X, y)\n",
      "c:\\Users\\ACER\\AppData\\Local\\Programs\\Python\\Python311\\Lib\\site-packages\\sklearn\\neighbors\\_classification.py:238: DataConversionWarning: A column-vector y was passed when a 1d array was expected. Please change the shape of y to (n_samples,), for example using ravel().\n",
      "  return self._fit(X, y)\n"
     ]
    },
    {
     "name": "stdout",
     "output_type": "stream",
     "text": [
      "[0.9264705882352942, 0.9264705882352942, 0.9325980392156863, 0.9325980392156863, 0.9338235294117647, 0.9325980392156863, 0.9325980392156863, 0.928921568627451, 0.9325980392156863, 0.9338235294117647, 0.9387254901960784, 0.9399509803921569, 0.9411764705882353, 0.9436274509803921, 0.9448529411764706, 0.9448529411764706]\n",
      "[0.9264705882352942, 0.9264705882352942, 0.9325980392156863, 0.9325980392156863, 0.9338235294117647, 0.9325980392156863, 0.9325980392156863, 0.928921568627451, 0.9325980392156863, 0.9338235294117647, 0.9387254901960784, 0.9399509803921569, 0.9411764705882353, 0.9436274509803921, 0.9448529411764706, 0.9448529411764706, 0.9448529411764706]\n"
     ]
    },
    {
     "name": "stderr",
     "output_type": "stream",
     "text": [
      "c:\\Users\\ACER\\AppData\\Local\\Programs\\Python\\Python311\\Lib\\site-packages\\sklearn\\neighbors\\_classification.py:238: DataConversionWarning: A column-vector y was passed when a 1d array was expected. Please change the shape of y to (n_samples,), for example using ravel().\n",
      "  return self._fit(X, y)\n",
      "c:\\Users\\ACER\\AppData\\Local\\Programs\\Python\\Python311\\Lib\\site-packages\\sklearn\\neighbors\\_classification.py:238: DataConversionWarning: A column-vector y was passed when a 1d array was expected. Please change the shape of y to (n_samples,), for example using ravel().\n",
      "  return self._fit(X, y)\n"
     ]
    },
    {
     "name": "stdout",
     "output_type": "stream",
     "text": [
      "[0.9264705882352942, 0.9264705882352942, 0.9325980392156863, 0.9325980392156863, 0.9338235294117647, 0.9325980392156863, 0.9325980392156863, 0.928921568627451, 0.9325980392156863, 0.9338235294117647, 0.9387254901960784, 0.9399509803921569, 0.9411764705882353, 0.9436274509803921, 0.9448529411764706, 0.9448529411764706, 0.9448529411764706, 0.9436274509803921]\n",
      "[0.9264705882352942, 0.9264705882352942, 0.9325980392156863, 0.9325980392156863, 0.9338235294117647, 0.9325980392156863, 0.9325980392156863, 0.928921568627451, 0.9325980392156863, 0.9338235294117647, 0.9387254901960784, 0.9399509803921569, 0.9411764705882353, 0.9436274509803921, 0.9448529411764706, 0.9448529411764706, 0.9448529411764706, 0.9436274509803921, 0.9399509803921569]\n"
     ]
    },
    {
     "name": "stderr",
     "output_type": "stream",
     "text": [
      "c:\\Users\\ACER\\AppData\\Local\\Programs\\Python\\Python311\\Lib\\site-packages\\sklearn\\neighbors\\_classification.py:238: DataConversionWarning: A column-vector y was passed when a 1d array was expected. Please change the shape of y to (n_samples,), for example using ravel().\n",
      "  return self._fit(X, y)\n",
      "c:\\Users\\ACER\\AppData\\Local\\Programs\\Python\\Python311\\Lib\\site-packages\\sklearn\\neighbors\\_classification.py:238: DataConversionWarning: A column-vector y was passed when a 1d array was expected. Please change the shape of y to (n_samples,), for example using ravel().\n",
      "  return self._fit(X, y)\n"
     ]
    },
    {
     "name": "stdout",
     "output_type": "stream",
     "text": [
      "[0.9264705882352942, 0.9264705882352942, 0.9325980392156863, 0.9325980392156863, 0.9338235294117647, 0.9325980392156863, 0.9325980392156863, 0.928921568627451, 0.9325980392156863, 0.9338235294117647, 0.9387254901960784, 0.9399509803921569, 0.9411764705882353, 0.9436274509803921, 0.9448529411764706, 0.9448529411764706, 0.9448529411764706, 0.9436274509803921, 0.9399509803921569, 0.9424019607843137]\n"
     ]
    },
    {
     "name": "stderr",
     "output_type": "stream",
     "text": [
      "c:\\Users\\ACER\\AppData\\Local\\Programs\\Python\\Python311\\Lib\\site-packages\\sklearn\\neighbors\\_classification.py:238: DataConversionWarning: A column-vector y was passed when a 1d array was expected. Please change the shape of y to (n_samples,), for example using ravel().\n",
      "  return self._fit(X, y)\n"
     ]
    },
    {
     "name": "stdout",
     "output_type": "stream",
     "text": [
      "[0.9264705882352942, 0.9264705882352942, 0.9325980392156863, 0.9325980392156863, 0.9338235294117647, 0.9325980392156863, 0.9325980392156863, 0.928921568627451, 0.9325980392156863, 0.9338235294117647, 0.9387254901960784, 0.9399509803921569, 0.9411764705882353, 0.9436274509803921, 0.9448529411764706, 0.9448529411764706, 0.9448529411764706, 0.9436274509803921, 0.9399509803921569, 0.9424019607843137, 0.9411764705882353]\n"
     ]
    },
    {
     "name": "stderr",
     "output_type": "stream",
     "text": [
      "c:\\Users\\ACER\\AppData\\Local\\Programs\\Python\\Python311\\Lib\\site-packages\\sklearn\\neighbors\\_classification.py:238: DataConversionWarning: A column-vector y was passed when a 1d array was expected. Please change the shape of y to (n_samples,), for example using ravel().\n",
      "  return self._fit(X, y)\n"
     ]
    },
    {
     "name": "stdout",
     "output_type": "stream",
     "text": [
      "[0.9264705882352942, 0.9264705882352942, 0.9325980392156863, 0.9325980392156863, 0.9338235294117647, 0.9325980392156863, 0.9325980392156863, 0.928921568627451, 0.9325980392156863, 0.9338235294117647, 0.9387254901960784, 0.9399509803921569, 0.9411764705882353, 0.9436274509803921, 0.9448529411764706, 0.9448529411764706, 0.9448529411764706, 0.9436274509803921, 0.9399509803921569, 0.9424019607843137, 0.9411764705882353, 0.9424019607843137]\n",
      "[0.9264705882352942, 0.9264705882352942, 0.9325980392156863, 0.9325980392156863, 0.9338235294117647, 0.9325980392156863, 0.9325980392156863, 0.928921568627451, 0.9325980392156863, 0.9338235294117647, 0.9387254901960784, 0.9399509803921569, 0.9411764705882353, 0.9436274509803921, 0.9448529411764706, 0.9448529411764706, 0.9448529411764706, 0.9436274509803921, 0.9399509803921569, 0.9424019607843137, 0.9411764705882353, 0.9424019607843137, 0.9411764705882353]\n"
     ]
    },
    {
     "name": "stderr",
     "output_type": "stream",
     "text": [
      "c:\\Users\\ACER\\AppData\\Local\\Programs\\Python\\Python311\\Lib\\site-packages\\sklearn\\neighbors\\_classification.py:238: DataConversionWarning: A column-vector y was passed when a 1d array was expected. Please change the shape of y to (n_samples,), for example using ravel().\n",
      "  return self._fit(X, y)\n",
      "c:\\Users\\ACER\\AppData\\Local\\Programs\\Python\\Python311\\Lib\\site-packages\\sklearn\\neighbors\\_classification.py:238: DataConversionWarning: A column-vector y was passed when a 1d array was expected. Please change the shape of y to (n_samples,), for example using ravel().\n",
      "  return self._fit(X, y)\n"
     ]
    },
    {
     "name": "stdout",
     "output_type": "stream",
     "text": [
      "[0.9264705882352942, 0.9264705882352942, 0.9325980392156863, 0.9325980392156863, 0.9338235294117647, 0.9325980392156863, 0.9325980392156863, 0.928921568627451, 0.9325980392156863, 0.9338235294117647, 0.9387254901960784, 0.9399509803921569, 0.9411764705882353, 0.9436274509803921, 0.9448529411764706, 0.9448529411764706, 0.9448529411764706, 0.9436274509803921, 0.9399509803921569, 0.9424019607843137, 0.9411764705882353, 0.9424019607843137, 0.9411764705882353, 0.9448529411764706]\n",
      "[0.9264705882352942, 0.9264705882352942, 0.9325980392156863, 0.9325980392156863, 0.9338235294117647, 0.9325980392156863, 0.9325980392156863, 0.928921568627451, 0.9325980392156863, 0.9338235294117647, 0.9387254901960784, 0.9399509803921569, 0.9411764705882353, 0.9436274509803921, 0.9448529411764706, 0.9448529411764706, 0.9448529411764706, 0.9436274509803921, 0.9399509803921569, 0.9424019607843137, 0.9411764705882353, 0.9424019607843137, 0.9411764705882353, 0.9448529411764706, 0.9411764705882353]\n"
     ]
    },
    {
     "name": "stderr",
     "output_type": "stream",
     "text": [
      "c:\\Users\\ACER\\AppData\\Local\\Programs\\Python\\Python311\\Lib\\site-packages\\sklearn\\neighbors\\_classification.py:238: DataConversionWarning: A column-vector y was passed when a 1d array was expected. Please change the shape of y to (n_samples,), for example using ravel().\n",
      "  return self._fit(X, y)\n",
      "c:\\Users\\ACER\\AppData\\Local\\Programs\\Python\\Python311\\Lib\\site-packages\\sklearn\\neighbors\\_classification.py:238: DataConversionWarning: A column-vector y was passed when a 1d array was expected. Please change the shape of y to (n_samples,), for example using ravel().\n",
      "  return self._fit(X, y)\n"
     ]
    },
    {
     "name": "stdout",
     "output_type": "stream",
     "text": [
      "[0.9264705882352942, 0.9264705882352942, 0.9325980392156863, 0.9325980392156863, 0.9338235294117647, 0.9325980392156863, 0.9325980392156863, 0.928921568627451, 0.9325980392156863, 0.9338235294117647, 0.9387254901960784, 0.9399509803921569, 0.9411764705882353, 0.9436274509803921, 0.9448529411764706, 0.9448529411764706, 0.9448529411764706, 0.9436274509803921, 0.9399509803921569, 0.9424019607843137, 0.9411764705882353, 0.9424019607843137, 0.9411764705882353, 0.9448529411764706, 0.9411764705882353, 0.9436274509803921]\n"
     ]
    },
    {
     "name": "stderr",
     "output_type": "stream",
     "text": [
      "c:\\Users\\ACER\\AppData\\Local\\Programs\\Python\\Python311\\Lib\\site-packages\\sklearn\\neighbors\\_classification.py:238: DataConversionWarning: A column-vector y was passed when a 1d array was expected. Please change the shape of y to (n_samples,), for example using ravel().\n",
      "  return self._fit(X, y)\n"
     ]
    },
    {
     "name": "stdout",
     "output_type": "stream",
     "text": [
      "[0.9264705882352942, 0.9264705882352942, 0.9325980392156863, 0.9325980392156863, 0.9338235294117647, 0.9325980392156863, 0.9325980392156863, 0.928921568627451, 0.9325980392156863, 0.9338235294117647, 0.9387254901960784, 0.9399509803921569, 0.9411764705882353, 0.9436274509803921, 0.9448529411764706, 0.9448529411764706, 0.9448529411764706, 0.9436274509803921, 0.9399509803921569, 0.9424019607843137, 0.9411764705882353, 0.9424019607843137, 0.9411764705882353, 0.9448529411764706, 0.9411764705882353, 0.9436274509803921, 0.9424019607843137]\n",
      "[0.9264705882352942, 0.9264705882352942, 0.9325980392156863, 0.9325980392156863, 0.9338235294117647, 0.9325980392156863, 0.9325980392156863, 0.928921568627451, 0.9325980392156863, 0.9338235294117647, 0.9387254901960784, 0.9399509803921569, 0.9411764705882353, 0.9436274509803921, 0.9448529411764706, 0.9448529411764706, 0.9448529411764706, 0.9436274509803921, 0.9399509803921569, 0.9424019607843137, 0.9411764705882353, 0.9424019607843137, 0.9411764705882353, 0.9448529411764706, 0.9411764705882353, 0.9436274509803921, 0.9424019607843137, 0.9448529411764706]\n"
     ]
    },
    {
     "name": "stderr",
     "output_type": "stream",
     "text": [
      "c:\\Users\\ACER\\AppData\\Local\\Programs\\Python\\Python311\\Lib\\site-packages\\sklearn\\neighbors\\_classification.py:238: DataConversionWarning: A column-vector y was passed when a 1d array was expected. Please change the shape of y to (n_samples,), for example using ravel().\n",
      "  return self._fit(X, y)\n",
      "c:\\Users\\ACER\\AppData\\Local\\Programs\\Python\\Python311\\Lib\\site-packages\\sklearn\\neighbors\\_classification.py:238: DataConversionWarning: A column-vector y was passed when a 1d array was expected. Please change the shape of y to (n_samples,), for example using ravel().\n",
      "  return self._fit(X, y)\n"
     ]
    },
    {
     "name": "stdout",
     "output_type": "stream",
     "text": [
      "[0.9264705882352942, 0.9264705882352942, 0.9325980392156863, 0.9325980392156863, 0.9338235294117647, 0.9325980392156863, 0.9325980392156863, 0.928921568627451, 0.9325980392156863, 0.9338235294117647, 0.9387254901960784, 0.9399509803921569, 0.9411764705882353, 0.9436274509803921, 0.9448529411764706, 0.9448529411764706, 0.9448529411764706, 0.9436274509803921, 0.9399509803921569, 0.9424019607843137, 0.9411764705882353, 0.9424019607843137, 0.9411764705882353, 0.9448529411764706, 0.9411764705882353, 0.9436274509803921, 0.9424019607843137, 0.9448529411764706, 0.9436274509803921]\n",
      "[0.9264705882352942, 0.9264705882352942, 0.9325980392156863, 0.9325980392156863, 0.9338235294117647, 0.9325980392156863, 0.9325980392156863, 0.928921568627451, 0.9325980392156863, 0.9338235294117647, 0.9387254901960784, 0.9399509803921569, 0.9411764705882353, 0.9436274509803921, 0.9448529411764706, 0.9448529411764706, 0.9448529411764706, 0.9436274509803921, 0.9399509803921569, 0.9424019607843137, 0.9411764705882353, 0.9424019607843137, 0.9411764705882353, 0.9448529411764706, 0.9411764705882353, 0.9436274509803921, 0.9424019607843137, 0.9448529411764706, 0.9436274509803921, 0.9448529411764706]\n"
     ]
    },
    {
     "name": "stderr",
     "output_type": "stream",
     "text": [
      "c:\\Users\\ACER\\AppData\\Local\\Programs\\Python\\Python311\\Lib\\site-packages\\sklearn\\neighbors\\_classification.py:238: DataConversionWarning: A column-vector y was passed when a 1d array was expected. Please change the shape of y to (n_samples,), for example using ravel().\n",
      "  return self._fit(X, y)\n",
      "c:\\Users\\ACER\\AppData\\Local\\Programs\\Python\\Python311\\Lib\\site-packages\\sklearn\\neighbors\\_classification.py:238: DataConversionWarning: A column-vector y was passed when a 1d array was expected. Please change the shape of y to (n_samples,), for example using ravel().\n",
      "  return self._fit(X, y)\n"
     ]
    },
    {
     "name": "stdout",
     "output_type": "stream",
     "text": [
      "[0.9264705882352942, 0.9264705882352942, 0.9325980392156863, 0.9325980392156863, 0.9338235294117647, 0.9325980392156863, 0.9325980392156863, 0.928921568627451, 0.9325980392156863, 0.9338235294117647, 0.9387254901960784, 0.9399509803921569, 0.9411764705882353, 0.9436274509803921, 0.9448529411764706, 0.9448529411764706, 0.9448529411764706, 0.9436274509803921, 0.9399509803921569, 0.9424019607843137, 0.9411764705882353, 0.9424019607843137, 0.9411764705882353, 0.9448529411764706, 0.9411764705882353, 0.9436274509803921, 0.9424019607843137, 0.9448529411764706, 0.9436274509803921, 0.9448529411764706, 0.9424019607843137]\n"
     ]
    },
    {
     "name": "stderr",
     "output_type": "stream",
     "text": [
      "c:\\Users\\ACER\\AppData\\Local\\Programs\\Python\\Python311\\Lib\\site-packages\\sklearn\\neighbors\\_classification.py:238: DataConversionWarning: A column-vector y was passed when a 1d array was expected. Please change the shape of y to (n_samples,), for example using ravel().\n",
      "  return self._fit(X, y)\n"
     ]
    },
    {
     "name": "stdout",
     "output_type": "stream",
     "text": [
      "[0.9264705882352942, 0.9264705882352942, 0.9325980392156863, 0.9325980392156863, 0.9338235294117647, 0.9325980392156863, 0.9325980392156863, 0.928921568627451, 0.9325980392156863, 0.9338235294117647, 0.9387254901960784, 0.9399509803921569, 0.9411764705882353, 0.9436274509803921, 0.9448529411764706, 0.9448529411764706, 0.9448529411764706, 0.9436274509803921, 0.9399509803921569, 0.9424019607843137, 0.9411764705882353, 0.9424019607843137, 0.9411764705882353, 0.9448529411764706, 0.9411764705882353, 0.9436274509803921, 0.9424019607843137, 0.9448529411764706, 0.9436274509803921, 0.9448529411764706, 0.9424019607843137, 0.9448529411764706]\n",
      "[0.9264705882352942, 0.9264705882352942, 0.9325980392156863, 0.9325980392156863, 0.9338235294117647, 0.9325980392156863, 0.9325980392156863, 0.928921568627451, 0.9325980392156863, 0.9338235294117647, 0.9387254901960784, 0.9399509803921569, 0.9411764705882353, 0.9436274509803921, 0.9448529411764706, 0.9448529411764706, 0.9448529411764706, 0.9436274509803921, 0.9399509803921569, 0.9424019607843137, 0.9411764705882353, 0.9424019607843137, 0.9411764705882353, 0.9448529411764706, 0.9411764705882353, 0.9436274509803921, 0.9424019607843137, 0.9448529411764706, 0.9436274509803921, 0.9448529411764706, 0.9424019607843137, 0.9448529411764706, 0.9448529411764706]\n"
     ]
    },
    {
     "name": "stderr",
     "output_type": "stream",
     "text": [
      "c:\\Users\\ACER\\AppData\\Local\\Programs\\Python\\Python311\\Lib\\site-packages\\sklearn\\neighbors\\_classification.py:238: DataConversionWarning: A column-vector y was passed when a 1d array was expected. Please change the shape of y to (n_samples,), for example using ravel().\n",
      "  return self._fit(X, y)\n",
      "c:\\Users\\ACER\\AppData\\Local\\Programs\\Python\\Python311\\Lib\\site-packages\\sklearn\\neighbors\\_classification.py:238: DataConversionWarning: A column-vector y was passed when a 1d array was expected. Please change the shape of y to (n_samples,), for example using ravel().\n",
      "  return self._fit(X, y)\n"
     ]
    },
    {
     "name": "stdout",
     "output_type": "stream",
     "text": [
      "[0.9264705882352942, 0.9264705882352942, 0.9325980392156863, 0.9325980392156863, 0.9338235294117647, 0.9325980392156863, 0.9325980392156863, 0.928921568627451, 0.9325980392156863, 0.9338235294117647, 0.9387254901960784, 0.9399509803921569, 0.9411764705882353, 0.9436274509803921, 0.9448529411764706, 0.9448529411764706, 0.9448529411764706, 0.9436274509803921, 0.9399509803921569, 0.9424019607843137, 0.9411764705882353, 0.9424019607843137, 0.9411764705882353, 0.9448529411764706, 0.9411764705882353, 0.9436274509803921, 0.9424019607843137, 0.9448529411764706, 0.9436274509803921, 0.9448529411764706, 0.9424019607843137, 0.9448529411764706, 0.9448529411764706, 0.946078431372549]\n",
      "[0.9264705882352942, 0.9264705882352942, 0.9325980392156863, 0.9325980392156863, 0.9338235294117647, 0.9325980392156863, 0.9325980392156863, 0.928921568627451, 0.9325980392156863, 0.9338235294117647, 0.9387254901960784, 0.9399509803921569, 0.9411764705882353, 0.9436274509803921, 0.9448529411764706, 0.9448529411764706, 0.9448529411764706, 0.9436274509803921, 0.9399509803921569, 0.9424019607843137, 0.9411764705882353, 0.9424019607843137, 0.9411764705882353, 0.9448529411764706, 0.9411764705882353, 0.9436274509803921, 0.9424019607843137, 0.9448529411764706, 0.9436274509803921, 0.9448529411764706, 0.9424019607843137, 0.9448529411764706, 0.9448529411764706, 0.946078431372549, 0.9411764705882353]\n"
     ]
    },
    {
     "name": "stderr",
     "output_type": "stream",
     "text": [
      "c:\\Users\\ACER\\AppData\\Local\\Programs\\Python\\Python311\\Lib\\site-packages\\sklearn\\neighbors\\_classification.py:238: DataConversionWarning: A column-vector y was passed when a 1d array was expected. Please change the shape of y to (n_samples,), for example using ravel().\n",
      "  return self._fit(X, y)\n",
      "c:\\Users\\ACER\\AppData\\Local\\Programs\\Python\\Python311\\Lib\\site-packages\\sklearn\\neighbors\\_classification.py:238: DataConversionWarning: A column-vector y was passed when a 1d array was expected. Please change the shape of y to (n_samples,), for example using ravel().\n",
      "  return self._fit(X, y)\n"
     ]
    },
    {
     "name": "stdout",
     "output_type": "stream",
     "text": [
      "[0.9264705882352942, 0.9264705882352942, 0.9325980392156863, 0.9325980392156863, 0.9338235294117647, 0.9325980392156863, 0.9325980392156863, 0.928921568627451, 0.9325980392156863, 0.9338235294117647, 0.9387254901960784, 0.9399509803921569, 0.9411764705882353, 0.9436274509803921, 0.9448529411764706, 0.9448529411764706, 0.9448529411764706, 0.9436274509803921, 0.9399509803921569, 0.9424019607843137, 0.9411764705882353, 0.9424019607843137, 0.9411764705882353, 0.9448529411764706, 0.9411764705882353, 0.9436274509803921, 0.9424019607843137, 0.9448529411764706, 0.9436274509803921, 0.9448529411764706, 0.9424019607843137, 0.9448529411764706, 0.9448529411764706, 0.946078431372549, 0.9411764705882353, 0.9436274509803921]\n"
     ]
    },
    {
     "name": "stderr",
     "output_type": "stream",
     "text": [
      "c:\\Users\\ACER\\AppData\\Local\\Programs\\Python\\Python311\\Lib\\site-packages\\sklearn\\neighbors\\_classification.py:238: DataConversionWarning: A column-vector y was passed when a 1d array was expected. Please change the shape of y to (n_samples,), for example using ravel().\n",
      "  return self._fit(X, y)\n"
     ]
    },
    {
     "name": "stdout",
     "output_type": "stream",
     "text": [
      "[0.9264705882352942, 0.9264705882352942, 0.9325980392156863, 0.9325980392156863, 0.9338235294117647, 0.9325980392156863, 0.9325980392156863, 0.928921568627451, 0.9325980392156863, 0.9338235294117647, 0.9387254901960784, 0.9399509803921569, 0.9411764705882353, 0.9436274509803921, 0.9448529411764706, 0.9448529411764706, 0.9448529411764706, 0.9436274509803921, 0.9399509803921569, 0.9424019607843137, 0.9411764705882353, 0.9424019607843137, 0.9411764705882353, 0.9448529411764706, 0.9411764705882353, 0.9436274509803921, 0.9424019607843137, 0.9448529411764706, 0.9436274509803921, 0.9448529411764706, 0.9424019607843137, 0.9448529411764706, 0.9448529411764706, 0.946078431372549, 0.9411764705882353, 0.9436274509803921, 0.9436274509803921]\n"
     ]
    },
    {
     "name": "stderr",
     "output_type": "stream",
     "text": [
      "c:\\Users\\ACER\\AppData\\Local\\Programs\\Python\\Python311\\Lib\\site-packages\\sklearn\\neighbors\\_classification.py:238: DataConversionWarning: A column-vector y was passed when a 1d array was expected. Please change the shape of y to (n_samples,), for example using ravel().\n",
      "  return self._fit(X, y)\n"
     ]
    },
    {
     "name": "stdout",
     "output_type": "stream",
     "text": [
      "[0.9264705882352942, 0.9264705882352942, 0.9325980392156863, 0.9325980392156863, 0.9338235294117647, 0.9325980392156863, 0.9325980392156863, 0.928921568627451, 0.9325980392156863, 0.9338235294117647, 0.9387254901960784, 0.9399509803921569, 0.9411764705882353, 0.9436274509803921, 0.9448529411764706, 0.9448529411764706, 0.9448529411764706, 0.9436274509803921, 0.9399509803921569, 0.9424019607843137, 0.9411764705882353, 0.9424019607843137, 0.9411764705882353, 0.9448529411764706, 0.9411764705882353, 0.9436274509803921, 0.9424019607843137, 0.9448529411764706, 0.9436274509803921, 0.9448529411764706, 0.9424019607843137, 0.9448529411764706, 0.9448529411764706, 0.946078431372549, 0.9411764705882353, 0.9436274509803921, 0.9436274509803921, 0.9424019607843137]\n"
     ]
    },
    {
     "name": "stderr",
     "output_type": "stream",
     "text": [
      "c:\\Users\\ACER\\AppData\\Local\\Programs\\Python\\Python311\\Lib\\site-packages\\sklearn\\neighbors\\_classification.py:238: DataConversionWarning: A column-vector y was passed when a 1d array was expected. Please change the shape of y to (n_samples,), for example using ravel().\n",
      "  return self._fit(X, y)\n"
     ]
    },
    {
     "name": "stdout",
     "output_type": "stream",
     "text": [
      "[0.9264705882352942, 0.9264705882352942, 0.9325980392156863, 0.9325980392156863, 0.9338235294117647, 0.9325980392156863, 0.9325980392156863, 0.928921568627451, 0.9325980392156863, 0.9338235294117647, 0.9387254901960784, 0.9399509803921569, 0.9411764705882353, 0.9436274509803921, 0.9448529411764706, 0.9448529411764706, 0.9448529411764706, 0.9436274509803921, 0.9399509803921569, 0.9424019607843137, 0.9411764705882353, 0.9424019607843137, 0.9411764705882353, 0.9448529411764706, 0.9411764705882353, 0.9436274509803921, 0.9424019607843137, 0.9448529411764706, 0.9436274509803921, 0.9448529411764706, 0.9424019607843137, 0.9448529411764706, 0.9448529411764706, 0.946078431372549, 0.9411764705882353, 0.9436274509803921, 0.9436274509803921, 0.9424019607843137, 0.9424019607843137]\n",
      "[0.9264705882352942, 0.9264705882352942, 0.9325980392156863, 0.9325980392156863, 0.9338235294117647, 0.9325980392156863, 0.9325980392156863, 0.928921568627451, 0.9325980392156863, 0.9338235294117647, 0.9387254901960784, 0.9399509803921569, 0.9411764705882353, 0.9436274509803921, 0.9448529411764706, 0.9448529411764706, 0.9448529411764706, 0.9436274509803921, 0.9399509803921569, 0.9424019607843137, 0.9411764705882353, 0.9424019607843137, 0.9411764705882353, 0.9448529411764706, 0.9411764705882353, 0.9436274509803921, 0.9424019607843137, 0.9448529411764706, 0.9436274509803921, 0.9448529411764706, 0.9424019607843137, 0.9448529411764706, 0.9448529411764706, 0.946078431372549, 0.9411764705882353, 0.9436274509803921, 0.9436274509803921, 0.9424019607843137, 0.9424019607843137, 0.9399509803921569]\n"
     ]
    },
    {
     "name": "stderr",
     "output_type": "stream",
     "text": [
      "c:\\Users\\ACER\\AppData\\Local\\Programs\\Python\\Python311\\Lib\\site-packages\\sklearn\\neighbors\\_classification.py:238: DataConversionWarning: A column-vector y was passed when a 1d array was expected. Please change the shape of y to (n_samples,), for example using ravel().\n",
      "  return self._fit(X, y)\n",
      "c:\\Users\\ACER\\AppData\\Local\\Programs\\Python\\Python311\\Lib\\site-packages\\sklearn\\neighbors\\_classification.py:238: DataConversionWarning: A column-vector y was passed when a 1d array was expected. Please change the shape of y to (n_samples,), for example using ravel().\n",
      "  return self._fit(X, y)\n"
     ]
    },
    {
     "name": "stdout",
     "output_type": "stream",
     "text": [
      "[0.9264705882352942, 0.9264705882352942, 0.9325980392156863, 0.9325980392156863, 0.9338235294117647, 0.9325980392156863, 0.9325980392156863, 0.928921568627451, 0.9325980392156863, 0.9338235294117647, 0.9387254901960784, 0.9399509803921569, 0.9411764705882353, 0.9436274509803921, 0.9448529411764706, 0.9448529411764706, 0.9448529411764706, 0.9436274509803921, 0.9399509803921569, 0.9424019607843137, 0.9411764705882353, 0.9424019607843137, 0.9411764705882353, 0.9448529411764706, 0.9411764705882353, 0.9436274509803921, 0.9424019607843137, 0.9448529411764706, 0.9436274509803921, 0.9448529411764706, 0.9424019607843137, 0.9448529411764706, 0.9448529411764706, 0.946078431372549, 0.9411764705882353, 0.9436274509803921, 0.9436274509803921, 0.9424019607843137, 0.9424019607843137, 0.9399509803921569, 0.9424019607843137]\n"
     ]
    },
    {
     "name": "stderr",
     "output_type": "stream",
     "text": [
      "c:\\Users\\ACER\\AppData\\Local\\Programs\\Python\\Python311\\Lib\\site-packages\\sklearn\\neighbors\\_classification.py:238: DataConversionWarning: A column-vector y was passed when a 1d array was expected. Please change the shape of y to (n_samples,), for example using ravel().\n",
      "  return self._fit(X, y)\n"
     ]
    },
    {
     "name": "stdout",
     "output_type": "stream",
     "text": [
      "[0.9264705882352942, 0.9264705882352942, 0.9325980392156863, 0.9325980392156863, 0.9338235294117647, 0.9325980392156863, 0.9325980392156863, 0.928921568627451, 0.9325980392156863, 0.9338235294117647, 0.9387254901960784, 0.9399509803921569, 0.9411764705882353, 0.9436274509803921, 0.9448529411764706, 0.9448529411764706, 0.9448529411764706, 0.9436274509803921, 0.9399509803921569, 0.9424019607843137, 0.9411764705882353, 0.9424019607843137, 0.9411764705882353, 0.9448529411764706, 0.9411764705882353, 0.9436274509803921, 0.9424019607843137, 0.9448529411764706, 0.9436274509803921, 0.9448529411764706, 0.9424019607843137, 0.9448529411764706, 0.9448529411764706, 0.946078431372549, 0.9411764705882353, 0.9436274509803921, 0.9436274509803921, 0.9424019607843137, 0.9424019607843137, 0.9399509803921569, 0.9424019607843137, 0.9424019607843137]\n",
      "[0.9264705882352942, 0.9264705882352942, 0.9325980392156863, 0.9325980392156863, 0.9338235294117647, 0.9325980392156863, 0.9325980392156863, 0.928921568627451, 0.9325980392156863, 0.9338235294117647, 0.9387254901960784, 0.9399509803921569, 0.9411764705882353, 0.9436274509803921, 0.9448529411764706, 0.9448529411764706, 0.9448529411764706, 0.9436274509803921, 0.9399509803921569, 0.9424019607843137, 0.9411764705882353, 0.9424019607843137, 0.9411764705882353, 0.9448529411764706, 0.9411764705882353, 0.9436274509803921, 0.9424019607843137, 0.9448529411764706, 0.9436274509803921, 0.9448529411764706, 0.9424019607843137, 0.9448529411764706, 0.9448529411764706, 0.946078431372549, 0.9411764705882353, 0.9436274509803921, 0.9436274509803921, 0.9424019607843137, 0.9424019607843137, 0.9399509803921569, 0.9424019607843137, 0.9424019607843137, 0.9436274509803921]\n"
     ]
    },
    {
     "name": "stderr",
     "output_type": "stream",
     "text": [
      "c:\\Users\\ACER\\AppData\\Local\\Programs\\Python\\Python311\\Lib\\site-packages\\sklearn\\neighbors\\_classification.py:238: DataConversionWarning: A column-vector y was passed when a 1d array was expected. Please change the shape of y to (n_samples,), for example using ravel().\n",
      "  return self._fit(X, y)\n",
      "c:\\Users\\ACER\\AppData\\Local\\Programs\\Python\\Python311\\Lib\\site-packages\\sklearn\\neighbors\\_classification.py:238: DataConversionWarning: A column-vector y was passed when a 1d array was expected. Please change the shape of y to (n_samples,), for example using ravel().\n",
      "  return self._fit(X, y)\n"
     ]
    },
    {
     "name": "stdout",
     "output_type": "stream",
     "text": [
      "[0.9264705882352942, 0.9264705882352942, 0.9325980392156863, 0.9325980392156863, 0.9338235294117647, 0.9325980392156863, 0.9325980392156863, 0.928921568627451, 0.9325980392156863, 0.9338235294117647, 0.9387254901960784, 0.9399509803921569, 0.9411764705882353, 0.9436274509803921, 0.9448529411764706, 0.9448529411764706, 0.9448529411764706, 0.9436274509803921, 0.9399509803921569, 0.9424019607843137, 0.9411764705882353, 0.9424019607843137, 0.9411764705882353, 0.9448529411764706, 0.9411764705882353, 0.9436274509803921, 0.9424019607843137, 0.9448529411764706, 0.9436274509803921, 0.9448529411764706, 0.9424019607843137, 0.9448529411764706, 0.9448529411764706, 0.946078431372549, 0.9411764705882353, 0.9436274509803921, 0.9436274509803921, 0.9424019607843137, 0.9424019607843137, 0.9399509803921569, 0.9424019607843137, 0.9424019607843137, 0.9436274509803921, 0.9411764705882353]\n"
     ]
    },
    {
     "name": "stderr",
     "output_type": "stream",
     "text": [
      "c:\\Users\\ACER\\AppData\\Local\\Programs\\Python\\Python311\\Lib\\site-packages\\sklearn\\neighbors\\_classification.py:238: DataConversionWarning: A column-vector y was passed when a 1d array was expected. Please change the shape of y to (n_samples,), for example using ravel().\n",
      "  return self._fit(X, y)\n"
     ]
    },
    {
     "name": "stdout",
     "output_type": "stream",
     "text": [
      "[0.9264705882352942, 0.9264705882352942, 0.9325980392156863, 0.9325980392156863, 0.9338235294117647, 0.9325980392156863, 0.9325980392156863, 0.928921568627451, 0.9325980392156863, 0.9338235294117647, 0.9387254901960784, 0.9399509803921569, 0.9411764705882353, 0.9436274509803921, 0.9448529411764706, 0.9448529411764706, 0.9448529411764706, 0.9436274509803921, 0.9399509803921569, 0.9424019607843137, 0.9411764705882353, 0.9424019607843137, 0.9411764705882353, 0.9448529411764706, 0.9411764705882353, 0.9436274509803921, 0.9424019607843137, 0.9448529411764706, 0.9436274509803921, 0.9448529411764706, 0.9424019607843137, 0.9448529411764706, 0.9448529411764706, 0.946078431372549, 0.9411764705882353, 0.9436274509803921, 0.9436274509803921, 0.9424019607843137, 0.9424019607843137, 0.9399509803921569, 0.9424019607843137, 0.9424019607843137, 0.9436274509803921, 0.9411764705882353, 0.9424019607843137]\n",
      "[0.9264705882352942, 0.9264705882352942, 0.9325980392156863, 0.9325980392156863, 0.9338235294117647, 0.9325980392156863, 0.9325980392156863, 0.928921568627451, 0.9325980392156863, 0.9338235294117647, 0.9387254901960784, 0.9399509803921569, 0.9411764705882353, 0.9436274509803921, 0.9448529411764706, 0.9448529411764706, 0.9448529411764706, 0.9436274509803921, 0.9399509803921569, 0.9424019607843137, 0.9411764705882353, 0.9424019607843137, 0.9411764705882353, 0.9448529411764706, 0.9411764705882353, 0.9436274509803921, 0.9424019607843137, 0.9448529411764706, 0.9436274509803921, 0.9448529411764706, 0.9424019607843137, 0.9448529411764706, 0.9448529411764706, 0.946078431372549, 0.9411764705882353, 0.9436274509803921, 0.9436274509803921, 0.9424019607843137, 0.9424019607843137, 0.9399509803921569, 0.9424019607843137, 0.9424019607843137, 0.9436274509803921, 0.9411764705882353, 0.9424019607843137, 0.9411764705882353]\n"
     ]
    },
    {
     "name": "stderr",
     "output_type": "stream",
     "text": [
      "c:\\Users\\ACER\\AppData\\Local\\Programs\\Python\\Python311\\Lib\\site-packages\\sklearn\\neighbors\\_classification.py:238: DataConversionWarning: A column-vector y was passed when a 1d array was expected. Please change the shape of y to (n_samples,), for example using ravel().\n",
      "  return self._fit(X, y)\n",
      "c:\\Users\\ACER\\AppData\\Local\\Programs\\Python\\Python311\\Lib\\site-packages\\sklearn\\neighbors\\_classification.py:238: DataConversionWarning: A column-vector y was passed when a 1d array was expected. Please change the shape of y to (n_samples,), for example using ravel().\n",
      "  return self._fit(X, y)\n"
     ]
    },
    {
     "name": "stdout",
     "output_type": "stream",
     "text": [
      "[0.9264705882352942, 0.9264705882352942, 0.9325980392156863, 0.9325980392156863, 0.9338235294117647, 0.9325980392156863, 0.9325980392156863, 0.928921568627451, 0.9325980392156863, 0.9338235294117647, 0.9387254901960784, 0.9399509803921569, 0.9411764705882353, 0.9436274509803921, 0.9448529411764706, 0.9448529411764706, 0.9448529411764706, 0.9436274509803921, 0.9399509803921569, 0.9424019607843137, 0.9411764705882353, 0.9424019607843137, 0.9411764705882353, 0.9448529411764706, 0.9411764705882353, 0.9436274509803921, 0.9424019607843137, 0.9448529411764706, 0.9436274509803921, 0.9448529411764706, 0.9424019607843137, 0.9448529411764706, 0.9448529411764706, 0.946078431372549, 0.9411764705882353, 0.9436274509803921, 0.9436274509803921, 0.9424019607843137, 0.9424019607843137, 0.9399509803921569, 0.9424019607843137, 0.9424019607843137, 0.9436274509803921, 0.9411764705882353, 0.9424019607843137, 0.9411764705882353, 0.9411764705882353]\n"
     ]
    },
    {
     "name": "stderr",
     "output_type": "stream",
     "text": [
      "c:\\Users\\ACER\\AppData\\Local\\Programs\\Python\\Python311\\Lib\\site-packages\\sklearn\\neighbors\\_classification.py:238: DataConversionWarning: A column-vector y was passed when a 1d array was expected. Please change the shape of y to (n_samples,), for example using ravel().\n",
      "  return self._fit(X, y)\n"
     ]
    },
    {
     "name": "stdout",
     "output_type": "stream",
     "text": [
      "[0.9264705882352942, 0.9264705882352942, 0.9325980392156863, 0.9325980392156863, 0.9338235294117647, 0.9325980392156863, 0.9325980392156863, 0.928921568627451, 0.9325980392156863, 0.9338235294117647, 0.9387254901960784, 0.9399509803921569, 0.9411764705882353, 0.9436274509803921, 0.9448529411764706, 0.9448529411764706, 0.9448529411764706, 0.9436274509803921, 0.9399509803921569, 0.9424019607843137, 0.9411764705882353, 0.9424019607843137, 0.9411764705882353, 0.9448529411764706, 0.9411764705882353, 0.9436274509803921, 0.9424019607843137, 0.9448529411764706, 0.9436274509803921, 0.9448529411764706, 0.9424019607843137, 0.9448529411764706, 0.9448529411764706, 0.946078431372549, 0.9411764705882353, 0.9436274509803921, 0.9436274509803921, 0.9424019607843137, 0.9424019607843137, 0.9399509803921569, 0.9424019607843137, 0.9424019607843137, 0.9436274509803921, 0.9411764705882353, 0.9424019607843137, 0.9411764705882353, 0.9411764705882353, 0.9424019607843137]\n"
     ]
    },
    {
     "name": "stderr",
     "output_type": "stream",
     "text": [
      "c:\\Users\\ACER\\AppData\\Local\\Programs\\Python\\Python311\\Lib\\site-packages\\sklearn\\neighbors\\_classification.py:238: DataConversionWarning: A column-vector y was passed when a 1d array was expected. Please change the shape of y to (n_samples,), for example using ravel().\n",
      "  return self._fit(X, y)\n"
     ]
    },
    {
     "name": "stdout",
     "output_type": "stream",
     "text": [
      "[0.9264705882352942, 0.9264705882352942, 0.9325980392156863, 0.9325980392156863, 0.9338235294117647, 0.9325980392156863, 0.9325980392156863, 0.928921568627451, 0.9325980392156863, 0.9338235294117647, 0.9387254901960784, 0.9399509803921569, 0.9411764705882353, 0.9436274509803921, 0.9448529411764706, 0.9448529411764706, 0.9448529411764706, 0.9436274509803921, 0.9399509803921569, 0.9424019607843137, 0.9411764705882353, 0.9424019607843137, 0.9411764705882353, 0.9448529411764706, 0.9411764705882353, 0.9436274509803921, 0.9424019607843137, 0.9448529411764706, 0.9436274509803921, 0.9448529411764706, 0.9424019607843137, 0.9448529411764706, 0.9448529411764706, 0.946078431372549, 0.9411764705882353, 0.9436274509803921, 0.9436274509803921, 0.9424019607843137, 0.9424019607843137, 0.9399509803921569, 0.9424019607843137, 0.9424019607843137, 0.9436274509803921, 0.9411764705882353, 0.9424019607843137, 0.9411764705882353, 0.9411764705882353, 0.9424019607843137, 0.9399509803921569]\n",
      "[0.9264705882352942, 0.9264705882352942, 0.9325980392156863, 0.9325980392156863, 0.9338235294117647, 0.9325980392156863, 0.9325980392156863, 0.928921568627451, 0.9325980392156863, 0.9338235294117647, 0.9387254901960784, 0.9399509803921569, 0.9411764705882353, 0.9436274509803921, 0.9448529411764706, 0.9448529411764706, 0.9448529411764706, 0.9436274509803921, 0.9399509803921569, 0.9424019607843137, 0.9411764705882353, 0.9424019607843137, 0.9411764705882353, 0.9448529411764706, 0.9411764705882353, 0.9436274509803921, 0.9424019607843137, 0.9448529411764706, 0.9436274509803921, 0.9448529411764706, 0.9424019607843137, 0.9448529411764706, 0.9448529411764706, 0.946078431372549, 0.9411764705882353, 0.9436274509803921, 0.9436274509803921, 0.9424019607843137, 0.9424019607843137, 0.9399509803921569, 0.9424019607843137, 0.9424019607843137, 0.9436274509803921, 0.9411764705882353, 0.9424019607843137, 0.9411764705882353, 0.9411764705882353, 0.9424019607843137, 0.9399509803921569, 0.9411764705882353]\n"
     ]
    },
    {
     "name": "stderr",
     "output_type": "stream",
     "text": [
      "c:\\Users\\ACER\\AppData\\Local\\Programs\\Python\\Python311\\Lib\\site-packages\\sklearn\\neighbors\\_classification.py:238: DataConversionWarning: A column-vector y was passed when a 1d array was expected. Please change the shape of y to (n_samples,), for example using ravel().\n",
      "  return self._fit(X, y)\n",
      "c:\\Users\\ACER\\AppData\\Local\\Programs\\Python\\Python311\\Lib\\site-packages\\sklearn\\neighbors\\_classification.py:238: DataConversionWarning: A column-vector y was passed when a 1d array was expected. Please change the shape of y to (n_samples,), for example using ravel().\n",
      "  return self._fit(X, y)\n"
     ]
    },
    {
     "name": "stdout",
     "output_type": "stream",
     "text": [
      "[0.9264705882352942, 0.9264705882352942, 0.9325980392156863, 0.9325980392156863, 0.9338235294117647, 0.9325980392156863, 0.9325980392156863, 0.928921568627451, 0.9325980392156863, 0.9338235294117647, 0.9387254901960784, 0.9399509803921569, 0.9411764705882353, 0.9436274509803921, 0.9448529411764706, 0.9448529411764706, 0.9448529411764706, 0.9436274509803921, 0.9399509803921569, 0.9424019607843137, 0.9411764705882353, 0.9424019607843137, 0.9411764705882353, 0.9448529411764706, 0.9411764705882353, 0.9436274509803921, 0.9424019607843137, 0.9448529411764706, 0.9436274509803921, 0.9448529411764706, 0.9424019607843137, 0.9448529411764706, 0.9448529411764706, 0.946078431372549, 0.9411764705882353, 0.9436274509803921, 0.9436274509803921, 0.9424019607843137, 0.9424019607843137, 0.9399509803921569, 0.9424019607843137, 0.9424019607843137, 0.9436274509803921, 0.9411764705882353, 0.9424019607843137, 0.9411764705882353, 0.9411764705882353, 0.9424019607843137, 0.9399509803921569, 0.9411764705882353, 0.9399509803921569]\n"
     ]
    },
    {
     "name": "stderr",
     "output_type": "stream",
     "text": [
      "c:\\Users\\ACER\\AppData\\Local\\Programs\\Python\\Python311\\Lib\\site-packages\\sklearn\\neighbors\\_classification.py:238: DataConversionWarning: A column-vector y was passed when a 1d array was expected. Please change the shape of y to (n_samples,), for example using ravel().\n",
      "  return self._fit(X, y)\n"
     ]
    },
    {
     "name": "stdout",
     "output_type": "stream",
     "text": [
      "[0.9264705882352942, 0.9264705882352942, 0.9325980392156863, 0.9325980392156863, 0.9338235294117647, 0.9325980392156863, 0.9325980392156863, 0.928921568627451, 0.9325980392156863, 0.9338235294117647, 0.9387254901960784, 0.9399509803921569, 0.9411764705882353, 0.9436274509803921, 0.9448529411764706, 0.9448529411764706, 0.9448529411764706, 0.9436274509803921, 0.9399509803921569, 0.9424019607843137, 0.9411764705882353, 0.9424019607843137, 0.9411764705882353, 0.9448529411764706, 0.9411764705882353, 0.9436274509803921, 0.9424019607843137, 0.9448529411764706, 0.9436274509803921, 0.9448529411764706, 0.9424019607843137, 0.9448529411764706, 0.9448529411764706, 0.946078431372549, 0.9411764705882353, 0.9436274509803921, 0.9436274509803921, 0.9424019607843137, 0.9424019607843137, 0.9399509803921569, 0.9424019607843137, 0.9424019607843137, 0.9436274509803921, 0.9411764705882353, 0.9424019607843137, 0.9411764705882353, 0.9411764705882353, 0.9424019607843137, 0.9399509803921569, 0.9411764705882353, 0.9399509803921569, 0.9387254901960784]\n"
     ]
    },
    {
     "name": "stderr",
     "output_type": "stream",
     "text": [
      "c:\\Users\\ACER\\AppData\\Local\\Programs\\Python\\Python311\\Lib\\site-packages\\sklearn\\neighbors\\_classification.py:238: DataConversionWarning: A column-vector y was passed when a 1d array was expected. Please change the shape of y to (n_samples,), for example using ravel().\n",
      "  return self._fit(X, y)\n"
     ]
    },
    {
     "name": "stdout",
     "output_type": "stream",
     "text": [
      "[0.9264705882352942, 0.9264705882352942, 0.9325980392156863, 0.9325980392156863, 0.9338235294117647, 0.9325980392156863, 0.9325980392156863, 0.928921568627451, 0.9325980392156863, 0.9338235294117647, 0.9387254901960784, 0.9399509803921569, 0.9411764705882353, 0.9436274509803921, 0.9448529411764706, 0.9448529411764706, 0.9448529411764706, 0.9436274509803921, 0.9399509803921569, 0.9424019607843137, 0.9411764705882353, 0.9424019607843137, 0.9411764705882353, 0.9448529411764706, 0.9411764705882353, 0.9436274509803921, 0.9424019607843137, 0.9448529411764706, 0.9436274509803921, 0.9448529411764706, 0.9424019607843137, 0.9448529411764706, 0.9448529411764706, 0.946078431372549, 0.9411764705882353, 0.9436274509803921, 0.9436274509803921, 0.9424019607843137, 0.9424019607843137, 0.9399509803921569, 0.9424019607843137, 0.9424019607843137, 0.9436274509803921, 0.9411764705882353, 0.9424019607843137, 0.9411764705882353, 0.9411764705882353, 0.9424019607843137, 0.9399509803921569, 0.9411764705882353, 0.9399509803921569, 0.9387254901960784, 0.9399509803921569]\n"
     ]
    },
    {
     "name": "stderr",
     "output_type": "stream",
     "text": [
      "c:\\Users\\ACER\\AppData\\Local\\Programs\\Python\\Python311\\Lib\\site-packages\\sklearn\\neighbors\\_classification.py:238: DataConversionWarning: A column-vector y was passed when a 1d array was expected. Please change the shape of y to (n_samples,), for example using ravel().\n",
      "  return self._fit(X, y)\n"
     ]
    },
    {
     "name": "stdout",
     "output_type": "stream",
     "text": [
      "[0.9264705882352942, 0.9264705882352942, 0.9325980392156863, 0.9325980392156863, 0.9338235294117647, 0.9325980392156863, 0.9325980392156863, 0.928921568627451, 0.9325980392156863, 0.9338235294117647, 0.9387254901960784, 0.9399509803921569, 0.9411764705882353, 0.9436274509803921, 0.9448529411764706, 0.9448529411764706, 0.9448529411764706, 0.9436274509803921, 0.9399509803921569, 0.9424019607843137, 0.9411764705882353, 0.9424019607843137, 0.9411764705882353, 0.9448529411764706, 0.9411764705882353, 0.9436274509803921, 0.9424019607843137, 0.9448529411764706, 0.9436274509803921, 0.9448529411764706, 0.9424019607843137, 0.9448529411764706, 0.9448529411764706, 0.946078431372549, 0.9411764705882353, 0.9436274509803921, 0.9436274509803921, 0.9424019607843137, 0.9424019607843137, 0.9399509803921569, 0.9424019607843137, 0.9424019607843137, 0.9436274509803921, 0.9411764705882353, 0.9424019607843137, 0.9411764705882353, 0.9411764705882353, 0.9424019607843137, 0.9399509803921569, 0.9411764705882353, 0.9399509803921569, 0.9387254901960784, 0.9399509803921569, 0.9399509803921569]\n"
     ]
    },
    {
     "name": "stderr",
     "output_type": "stream",
     "text": [
      "c:\\Users\\ACER\\AppData\\Local\\Programs\\Python\\Python311\\Lib\\site-packages\\sklearn\\neighbors\\_classification.py:238: DataConversionWarning: A column-vector y was passed when a 1d array was expected. Please change the shape of y to (n_samples,), for example using ravel().\n",
      "  return self._fit(X, y)\n"
     ]
    },
    {
     "name": "stdout",
     "output_type": "stream",
     "text": [
      "[0.9264705882352942, 0.9264705882352942, 0.9325980392156863, 0.9325980392156863, 0.9338235294117647, 0.9325980392156863, 0.9325980392156863, 0.928921568627451, 0.9325980392156863, 0.9338235294117647, 0.9387254901960784, 0.9399509803921569, 0.9411764705882353, 0.9436274509803921, 0.9448529411764706, 0.9448529411764706, 0.9448529411764706, 0.9436274509803921, 0.9399509803921569, 0.9424019607843137, 0.9411764705882353, 0.9424019607843137, 0.9411764705882353, 0.9448529411764706, 0.9411764705882353, 0.9436274509803921, 0.9424019607843137, 0.9448529411764706, 0.9436274509803921, 0.9448529411764706, 0.9424019607843137, 0.9448529411764706, 0.9448529411764706, 0.946078431372549, 0.9411764705882353, 0.9436274509803921, 0.9436274509803921, 0.9424019607843137, 0.9424019607843137, 0.9399509803921569, 0.9424019607843137, 0.9424019607843137, 0.9436274509803921, 0.9411764705882353, 0.9424019607843137, 0.9411764705882353, 0.9411764705882353, 0.9424019607843137, 0.9399509803921569, 0.9411764705882353, 0.9399509803921569, 0.9387254901960784, 0.9399509803921569, 0.9399509803921569, 0.9399509803921569]\n"
     ]
    },
    {
     "name": "stderr",
     "output_type": "stream",
     "text": [
      "c:\\Users\\ACER\\AppData\\Local\\Programs\\Python\\Python311\\Lib\\site-packages\\sklearn\\neighbors\\_classification.py:238: DataConversionWarning: A column-vector y was passed when a 1d array was expected. Please change the shape of y to (n_samples,), for example using ravel().\n",
      "  return self._fit(X, y)\n"
     ]
    },
    {
     "name": "stdout",
     "output_type": "stream",
     "text": [
      "[0.9264705882352942, 0.9264705882352942, 0.9325980392156863, 0.9325980392156863, 0.9338235294117647, 0.9325980392156863, 0.9325980392156863, 0.928921568627451, 0.9325980392156863, 0.9338235294117647, 0.9387254901960784, 0.9399509803921569, 0.9411764705882353, 0.9436274509803921, 0.9448529411764706, 0.9448529411764706, 0.9448529411764706, 0.9436274509803921, 0.9399509803921569, 0.9424019607843137, 0.9411764705882353, 0.9424019607843137, 0.9411764705882353, 0.9448529411764706, 0.9411764705882353, 0.9436274509803921, 0.9424019607843137, 0.9448529411764706, 0.9436274509803921, 0.9448529411764706, 0.9424019607843137, 0.9448529411764706, 0.9448529411764706, 0.946078431372549, 0.9411764705882353, 0.9436274509803921, 0.9436274509803921, 0.9424019607843137, 0.9424019607843137, 0.9399509803921569, 0.9424019607843137, 0.9424019607843137, 0.9436274509803921, 0.9411764705882353, 0.9424019607843137, 0.9411764705882353, 0.9411764705882353, 0.9424019607843137, 0.9399509803921569, 0.9411764705882353, 0.9399509803921569, 0.9387254901960784, 0.9399509803921569, 0.9399509803921569, 0.9399509803921569, 0.9387254901960784]\n",
      "[0.9264705882352942, 0.9264705882352942, 0.9325980392156863, 0.9325980392156863, 0.9338235294117647, 0.9325980392156863, 0.9325980392156863, 0.928921568627451, 0.9325980392156863, 0.9338235294117647, 0.9387254901960784, 0.9399509803921569, 0.9411764705882353, 0.9436274509803921, 0.9448529411764706, 0.9448529411764706, 0.9448529411764706, 0.9436274509803921, 0.9399509803921569, 0.9424019607843137, 0.9411764705882353, 0.9424019607843137, 0.9411764705882353, 0.9448529411764706, 0.9411764705882353, 0.9436274509803921, 0.9424019607843137, 0.9448529411764706, 0.9436274509803921, 0.9448529411764706, 0.9424019607843137, 0.9448529411764706, 0.9448529411764706, 0.946078431372549, 0.9411764705882353, 0.9436274509803921, 0.9436274509803921, 0.9424019607843137, 0.9424019607843137, 0.9399509803921569, 0.9424019607843137, 0.9424019607843137, 0.9436274509803921, 0.9411764705882353, 0.9424019607843137, 0.9411764705882353, 0.9411764705882353, 0.9424019607843137, 0.9399509803921569, 0.9411764705882353, 0.9399509803921569, 0.9387254901960784, 0.9399509803921569, 0.9399509803921569, 0.9399509803921569, 0.9387254901960784, 0.9399509803921569]\n"
     ]
    },
    {
     "name": "stderr",
     "output_type": "stream",
     "text": [
      "c:\\Users\\ACER\\AppData\\Local\\Programs\\Python\\Python311\\Lib\\site-packages\\sklearn\\neighbors\\_classification.py:238: DataConversionWarning: A column-vector y was passed when a 1d array was expected. Please change the shape of y to (n_samples,), for example using ravel().\n",
      "  return self._fit(X, y)\n",
      "c:\\Users\\ACER\\AppData\\Local\\Programs\\Python\\Python311\\Lib\\site-packages\\sklearn\\neighbors\\_classification.py:238: DataConversionWarning: A column-vector y was passed when a 1d array was expected. Please change the shape of y to (n_samples,), for example using ravel().\n",
      "  return self._fit(X, y)\n"
     ]
    },
    {
     "name": "stdout",
     "output_type": "stream",
     "text": [
      "[0.9264705882352942, 0.9264705882352942, 0.9325980392156863, 0.9325980392156863, 0.9338235294117647, 0.9325980392156863, 0.9325980392156863, 0.928921568627451, 0.9325980392156863, 0.9338235294117647, 0.9387254901960784, 0.9399509803921569, 0.9411764705882353, 0.9436274509803921, 0.9448529411764706, 0.9448529411764706, 0.9448529411764706, 0.9436274509803921, 0.9399509803921569, 0.9424019607843137, 0.9411764705882353, 0.9424019607843137, 0.9411764705882353, 0.9448529411764706, 0.9411764705882353, 0.9436274509803921, 0.9424019607843137, 0.9448529411764706, 0.9436274509803921, 0.9448529411764706, 0.9424019607843137, 0.9448529411764706, 0.9448529411764706, 0.946078431372549, 0.9411764705882353, 0.9436274509803921, 0.9436274509803921, 0.9424019607843137, 0.9424019607843137, 0.9399509803921569, 0.9424019607843137, 0.9424019607843137, 0.9436274509803921, 0.9411764705882353, 0.9424019607843137, 0.9411764705882353, 0.9411764705882353, 0.9424019607843137, 0.9399509803921569, 0.9411764705882353, 0.9399509803921569, 0.9387254901960784, 0.9399509803921569, 0.9399509803921569, 0.9399509803921569, 0.9387254901960784, 0.9399509803921569, 0.9411764705882353]\n",
      "[0.9264705882352942, 0.9264705882352942, 0.9325980392156863, 0.9325980392156863, 0.9338235294117647, 0.9325980392156863, 0.9325980392156863, 0.928921568627451, 0.9325980392156863, 0.9338235294117647, 0.9387254901960784, 0.9399509803921569, 0.9411764705882353, 0.9436274509803921, 0.9448529411764706, 0.9448529411764706, 0.9448529411764706, 0.9436274509803921, 0.9399509803921569, 0.9424019607843137, 0.9411764705882353, 0.9424019607843137, 0.9411764705882353, 0.9448529411764706, 0.9411764705882353, 0.9436274509803921, 0.9424019607843137, 0.9448529411764706, 0.9436274509803921, 0.9448529411764706, 0.9424019607843137, 0.9448529411764706, 0.9448529411764706, 0.946078431372549, 0.9411764705882353, 0.9436274509803921, 0.9436274509803921, 0.9424019607843137, 0.9424019607843137, 0.9399509803921569, 0.9424019607843137, 0.9424019607843137, 0.9436274509803921, 0.9411764705882353, 0.9424019607843137, 0.9411764705882353, 0.9411764705882353, 0.9424019607843137, 0.9399509803921569, 0.9411764705882353, 0.9399509803921569, 0.9387254901960784, 0.9399509803921569, 0.9399509803921569, 0.9399509803921569, 0.9387254901960784, 0.9399509803921569, 0.9411764705882353, 0.9399509803921569]\n"
     ]
    },
    {
     "name": "stderr",
     "output_type": "stream",
     "text": [
      "c:\\Users\\ACER\\AppData\\Local\\Programs\\Python\\Python311\\Lib\\site-packages\\sklearn\\neighbors\\_classification.py:238: DataConversionWarning: A column-vector y was passed when a 1d array was expected. Please change the shape of y to (n_samples,), for example using ravel().\n",
      "  return self._fit(X, y)\n",
      "c:\\Users\\ACER\\AppData\\Local\\Programs\\Python\\Python311\\Lib\\site-packages\\sklearn\\neighbors\\_classification.py:238: DataConversionWarning: A column-vector y was passed when a 1d array was expected. Please change the shape of y to (n_samples,), for example using ravel().\n",
      "  return self._fit(X, y)\n"
     ]
    },
    {
     "name": "stdout",
     "output_type": "stream",
     "text": [
      "[0.9264705882352942, 0.9264705882352942, 0.9325980392156863, 0.9325980392156863, 0.9338235294117647, 0.9325980392156863, 0.9325980392156863, 0.928921568627451, 0.9325980392156863, 0.9338235294117647, 0.9387254901960784, 0.9399509803921569, 0.9411764705882353, 0.9436274509803921, 0.9448529411764706, 0.9448529411764706, 0.9448529411764706, 0.9436274509803921, 0.9399509803921569, 0.9424019607843137, 0.9411764705882353, 0.9424019607843137, 0.9411764705882353, 0.9448529411764706, 0.9411764705882353, 0.9436274509803921, 0.9424019607843137, 0.9448529411764706, 0.9436274509803921, 0.9448529411764706, 0.9424019607843137, 0.9448529411764706, 0.9448529411764706, 0.946078431372549, 0.9411764705882353, 0.9436274509803921, 0.9436274509803921, 0.9424019607843137, 0.9424019607843137, 0.9399509803921569, 0.9424019607843137, 0.9424019607843137, 0.9436274509803921, 0.9411764705882353, 0.9424019607843137, 0.9411764705882353, 0.9411764705882353, 0.9424019607843137, 0.9399509803921569, 0.9411764705882353, 0.9399509803921569, 0.9387254901960784, 0.9399509803921569, 0.9399509803921569, 0.9399509803921569, 0.9387254901960784, 0.9399509803921569, 0.9411764705882353, 0.9399509803921569, 0.9424019607843137]\n",
      "[0.9264705882352942, 0.9264705882352942, 0.9325980392156863, 0.9325980392156863, 0.9338235294117647, 0.9325980392156863, 0.9325980392156863, 0.928921568627451, 0.9325980392156863, 0.9338235294117647, 0.9387254901960784, 0.9399509803921569, 0.9411764705882353, 0.9436274509803921, 0.9448529411764706, 0.9448529411764706, 0.9448529411764706, 0.9436274509803921, 0.9399509803921569, 0.9424019607843137, 0.9411764705882353, 0.9424019607843137, 0.9411764705882353, 0.9448529411764706, 0.9411764705882353, 0.9436274509803921, 0.9424019607843137, 0.9448529411764706, 0.9436274509803921, 0.9448529411764706, 0.9424019607843137, 0.9448529411764706, 0.9448529411764706, 0.946078431372549, 0.9411764705882353, 0.9436274509803921, 0.9436274509803921, 0.9424019607843137, 0.9424019607843137, 0.9399509803921569, 0.9424019607843137, 0.9424019607843137, 0.9436274509803921, 0.9411764705882353, 0.9424019607843137, 0.9411764705882353, 0.9411764705882353, 0.9424019607843137, 0.9399509803921569, 0.9411764705882353, 0.9399509803921569, 0.9387254901960784, 0.9399509803921569, 0.9399509803921569, 0.9399509803921569, 0.9387254901960784, 0.9399509803921569, 0.9411764705882353, 0.9399509803921569, 0.9424019607843137, 0.9424019607843137]\n"
     ]
    },
    {
     "name": "stderr",
     "output_type": "stream",
     "text": [
      "c:\\Users\\ACER\\AppData\\Local\\Programs\\Python\\Python311\\Lib\\site-packages\\sklearn\\neighbors\\_classification.py:238: DataConversionWarning: A column-vector y was passed when a 1d array was expected. Please change the shape of y to (n_samples,), for example using ravel().\n",
      "  return self._fit(X, y)\n",
      "c:\\Users\\ACER\\AppData\\Local\\Programs\\Python\\Python311\\Lib\\site-packages\\sklearn\\neighbors\\_classification.py:238: DataConversionWarning: A column-vector y was passed when a 1d array was expected. Please change the shape of y to (n_samples,), for example using ravel().\n",
      "  return self._fit(X, y)\n"
     ]
    },
    {
     "name": "stdout",
     "output_type": "stream",
     "text": [
      "[0.9264705882352942, 0.9264705882352942, 0.9325980392156863, 0.9325980392156863, 0.9338235294117647, 0.9325980392156863, 0.9325980392156863, 0.928921568627451, 0.9325980392156863, 0.9338235294117647, 0.9387254901960784, 0.9399509803921569, 0.9411764705882353, 0.9436274509803921, 0.9448529411764706, 0.9448529411764706, 0.9448529411764706, 0.9436274509803921, 0.9399509803921569, 0.9424019607843137, 0.9411764705882353, 0.9424019607843137, 0.9411764705882353, 0.9448529411764706, 0.9411764705882353, 0.9436274509803921, 0.9424019607843137, 0.9448529411764706, 0.9436274509803921, 0.9448529411764706, 0.9424019607843137, 0.9448529411764706, 0.9448529411764706, 0.946078431372549, 0.9411764705882353, 0.9436274509803921, 0.9436274509803921, 0.9424019607843137, 0.9424019607843137, 0.9399509803921569, 0.9424019607843137, 0.9424019607843137, 0.9436274509803921, 0.9411764705882353, 0.9424019607843137, 0.9411764705882353, 0.9411764705882353, 0.9424019607843137, 0.9399509803921569, 0.9411764705882353, 0.9399509803921569, 0.9387254901960784, 0.9399509803921569, 0.9399509803921569, 0.9399509803921569, 0.9387254901960784, 0.9399509803921569, 0.9411764705882353, 0.9399509803921569, 0.9424019607843137, 0.9424019607843137, 0.9411764705882353]\n"
     ]
    },
    {
     "name": "stderr",
     "output_type": "stream",
     "text": [
      "c:\\Users\\ACER\\AppData\\Local\\Programs\\Python\\Python311\\Lib\\site-packages\\sklearn\\neighbors\\_classification.py:238: DataConversionWarning: A column-vector y was passed when a 1d array was expected. Please change the shape of y to (n_samples,), for example using ravel().\n",
      "  return self._fit(X, y)\n"
     ]
    },
    {
     "name": "stdout",
     "output_type": "stream",
     "text": [
      "[0.9264705882352942, 0.9264705882352942, 0.9325980392156863, 0.9325980392156863, 0.9338235294117647, 0.9325980392156863, 0.9325980392156863, 0.928921568627451, 0.9325980392156863, 0.9338235294117647, 0.9387254901960784, 0.9399509803921569, 0.9411764705882353, 0.9436274509803921, 0.9448529411764706, 0.9448529411764706, 0.9448529411764706, 0.9436274509803921, 0.9399509803921569, 0.9424019607843137, 0.9411764705882353, 0.9424019607843137, 0.9411764705882353, 0.9448529411764706, 0.9411764705882353, 0.9436274509803921, 0.9424019607843137, 0.9448529411764706, 0.9436274509803921, 0.9448529411764706, 0.9424019607843137, 0.9448529411764706, 0.9448529411764706, 0.946078431372549, 0.9411764705882353, 0.9436274509803921, 0.9436274509803921, 0.9424019607843137, 0.9424019607843137, 0.9399509803921569, 0.9424019607843137, 0.9424019607843137, 0.9436274509803921, 0.9411764705882353, 0.9424019607843137, 0.9411764705882353, 0.9411764705882353, 0.9424019607843137, 0.9399509803921569, 0.9411764705882353, 0.9399509803921569, 0.9387254901960784, 0.9399509803921569, 0.9399509803921569, 0.9399509803921569, 0.9387254901960784, 0.9399509803921569, 0.9411764705882353, 0.9399509803921569, 0.9424019607843137, 0.9424019607843137, 0.9411764705882353, 0.9387254901960784]\n"
     ]
    },
    {
     "name": "stderr",
     "output_type": "stream",
     "text": [
      "c:\\Users\\ACER\\AppData\\Local\\Programs\\Python\\Python311\\Lib\\site-packages\\sklearn\\neighbors\\_classification.py:238: DataConversionWarning: A column-vector y was passed when a 1d array was expected. Please change the shape of y to (n_samples,), for example using ravel().\n",
      "  return self._fit(X, y)\n"
     ]
    },
    {
     "name": "stdout",
     "output_type": "stream",
     "text": [
      "[0.9264705882352942, 0.9264705882352942, 0.9325980392156863, 0.9325980392156863, 0.9338235294117647, 0.9325980392156863, 0.9325980392156863, 0.928921568627451, 0.9325980392156863, 0.9338235294117647, 0.9387254901960784, 0.9399509803921569, 0.9411764705882353, 0.9436274509803921, 0.9448529411764706, 0.9448529411764706, 0.9448529411764706, 0.9436274509803921, 0.9399509803921569, 0.9424019607843137, 0.9411764705882353, 0.9424019607843137, 0.9411764705882353, 0.9448529411764706, 0.9411764705882353, 0.9436274509803921, 0.9424019607843137, 0.9448529411764706, 0.9436274509803921, 0.9448529411764706, 0.9424019607843137, 0.9448529411764706, 0.9448529411764706, 0.946078431372549, 0.9411764705882353, 0.9436274509803921, 0.9436274509803921, 0.9424019607843137, 0.9424019607843137, 0.9399509803921569, 0.9424019607843137, 0.9424019607843137, 0.9436274509803921, 0.9411764705882353, 0.9424019607843137, 0.9411764705882353, 0.9411764705882353, 0.9424019607843137, 0.9399509803921569, 0.9411764705882353, 0.9399509803921569, 0.9387254901960784, 0.9399509803921569, 0.9399509803921569, 0.9399509803921569, 0.9387254901960784, 0.9399509803921569, 0.9411764705882353, 0.9399509803921569, 0.9424019607843137, 0.9424019607843137, 0.9411764705882353, 0.9387254901960784, 0.9362745098039216]\n"
     ]
    },
    {
     "name": "stderr",
     "output_type": "stream",
     "text": [
      "c:\\Users\\ACER\\AppData\\Local\\Programs\\Python\\Python311\\Lib\\site-packages\\sklearn\\neighbors\\_classification.py:238: DataConversionWarning: A column-vector y was passed when a 1d array was expected. Please change the shape of y to (n_samples,), for example using ravel().\n",
      "  return self._fit(X, y)\n"
     ]
    },
    {
     "name": "stdout",
     "output_type": "stream",
     "text": [
      "[0.9264705882352942, 0.9264705882352942, 0.9325980392156863, 0.9325980392156863, 0.9338235294117647, 0.9325980392156863, 0.9325980392156863, 0.928921568627451, 0.9325980392156863, 0.9338235294117647, 0.9387254901960784, 0.9399509803921569, 0.9411764705882353, 0.9436274509803921, 0.9448529411764706, 0.9448529411764706, 0.9448529411764706, 0.9436274509803921, 0.9399509803921569, 0.9424019607843137, 0.9411764705882353, 0.9424019607843137, 0.9411764705882353, 0.9448529411764706, 0.9411764705882353, 0.9436274509803921, 0.9424019607843137, 0.9448529411764706, 0.9436274509803921, 0.9448529411764706, 0.9424019607843137, 0.9448529411764706, 0.9448529411764706, 0.946078431372549, 0.9411764705882353, 0.9436274509803921, 0.9436274509803921, 0.9424019607843137, 0.9424019607843137, 0.9399509803921569, 0.9424019607843137, 0.9424019607843137, 0.9436274509803921, 0.9411764705882353, 0.9424019607843137, 0.9411764705882353, 0.9411764705882353, 0.9424019607843137, 0.9399509803921569, 0.9411764705882353, 0.9399509803921569, 0.9387254901960784, 0.9399509803921569, 0.9399509803921569, 0.9399509803921569, 0.9387254901960784, 0.9399509803921569, 0.9411764705882353, 0.9399509803921569, 0.9424019607843137, 0.9424019607843137, 0.9411764705882353, 0.9387254901960784, 0.9362745098039216, 0.9387254901960784]\n",
      "[0.9264705882352942, 0.9264705882352942, 0.9325980392156863, 0.9325980392156863, 0.9338235294117647, 0.9325980392156863, 0.9325980392156863, 0.928921568627451, 0.9325980392156863, 0.9338235294117647, 0.9387254901960784, 0.9399509803921569, 0.9411764705882353, 0.9436274509803921, 0.9448529411764706, 0.9448529411764706, 0.9448529411764706, 0.9436274509803921, 0.9399509803921569, 0.9424019607843137, 0.9411764705882353, 0.9424019607843137, 0.9411764705882353, 0.9448529411764706, 0.9411764705882353, 0.9436274509803921, 0.9424019607843137, 0.9448529411764706, 0.9436274509803921, 0.9448529411764706, 0.9424019607843137, 0.9448529411764706, 0.9448529411764706, 0.946078431372549, 0.9411764705882353, 0.9436274509803921, 0.9436274509803921, 0.9424019607843137, 0.9424019607843137, 0.9399509803921569, 0.9424019607843137, 0.9424019607843137, 0.9436274509803921, 0.9411764705882353, 0.9424019607843137, 0.9411764705882353, 0.9411764705882353, 0.9424019607843137, 0.9399509803921569, 0.9411764705882353, 0.9399509803921569, 0.9387254901960784, 0.9399509803921569, 0.9399509803921569, 0.9399509803921569, 0.9387254901960784, 0.9399509803921569, 0.9411764705882353, 0.9399509803921569, 0.9424019607843137, 0.9424019607843137, 0.9411764705882353, 0.9387254901960784, 0.9362745098039216, 0.9387254901960784, 0.9411764705882353]\n"
     ]
    },
    {
     "name": "stderr",
     "output_type": "stream",
     "text": [
      "c:\\Users\\ACER\\AppData\\Local\\Programs\\Python\\Python311\\Lib\\site-packages\\sklearn\\neighbors\\_classification.py:238: DataConversionWarning: A column-vector y was passed when a 1d array was expected. Please change the shape of y to (n_samples,), for example using ravel().\n",
      "  return self._fit(X, y)\n",
      "c:\\Users\\ACER\\AppData\\Local\\Programs\\Python\\Python311\\Lib\\site-packages\\sklearn\\neighbors\\_classification.py:238: DataConversionWarning: A column-vector y was passed when a 1d array was expected. Please change the shape of y to (n_samples,), for example using ravel().\n",
      "  return self._fit(X, y)\n"
     ]
    },
    {
     "name": "stdout",
     "output_type": "stream",
     "text": [
      "[0.9264705882352942, 0.9264705882352942, 0.9325980392156863, 0.9325980392156863, 0.9338235294117647, 0.9325980392156863, 0.9325980392156863, 0.928921568627451, 0.9325980392156863, 0.9338235294117647, 0.9387254901960784, 0.9399509803921569, 0.9411764705882353, 0.9436274509803921, 0.9448529411764706, 0.9448529411764706, 0.9448529411764706, 0.9436274509803921, 0.9399509803921569, 0.9424019607843137, 0.9411764705882353, 0.9424019607843137, 0.9411764705882353, 0.9448529411764706, 0.9411764705882353, 0.9436274509803921, 0.9424019607843137, 0.9448529411764706, 0.9436274509803921, 0.9448529411764706, 0.9424019607843137, 0.9448529411764706, 0.9448529411764706, 0.946078431372549, 0.9411764705882353, 0.9436274509803921, 0.9436274509803921, 0.9424019607843137, 0.9424019607843137, 0.9399509803921569, 0.9424019607843137, 0.9424019607843137, 0.9436274509803921, 0.9411764705882353, 0.9424019607843137, 0.9411764705882353, 0.9411764705882353, 0.9424019607843137, 0.9399509803921569, 0.9411764705882353, 0.9399509803921569, 0.9387254901960784, 0.9399509803921569, 0.9399509803921569, 0.9399509803921569, 0.9387254901960784, 0.9399509803921569, 0.9411764705882353, 0.9399509803921569, 0.9424019607843137, 0.9424019607843137, 0.9411764705882353, 0.9387254901960784, 0.9362745098039216, 0.9387254901960784, 0.9411764705882353, 0.9375]\n"
     ]
    },
    {
     "name": "stderr",
     "output_type": "stream",
     "text": [
      "c:\\Users\\ACER\\AppData\\Local\\Programs\\Python\\Python311\\Lib\\site-packages\\sklearn\\neighbors\\_classification.py:238: DataConversionWarning: A column-vector y was passed when a 1d array was expected. Please change the shape of y to (n_samples,), for example using ravel().\n",
      "  return self._fit(X, y)\n"
     ]
    },
    {
     "name": "stdout",
     "output_type": "stream",
     "text": [
      "[0.9264705882352942, 0.9264705882352942, 0.9325980392156863, 0.9325980392156863, 0.9338235294117647, 0.9325980392156863, 0.9325980392156863, 0.928921568627451, 0.9325980392156863, 0.9338235294117647, 0.9387254901960784, 0.9399509803921569, 0.9411764705882353, 0.9436274509803921, 0.9448529411764706, 0.9448529411764706, 0.9448529411764706, 0.9436274509803921, 0.9399509803921569, 0.9424019607843137, 0.9411764705882353, 0.9424019607843137, 0.9411764705882353, 0.9448529411764706, 0.9411764705882353, 0.9436274509803921, 0.9424019607843137, 0.9448529411764706, 0.9436274509803921, 0.9448529411764706, 0.9424019607843137, 0.9448529411764706, 0.9448529411764706, 0.946078431372549, 0.9411764705882353, 0.9436274509803921, 0.9436274509803921, 0.9424019607843137, 0.9424019607843137, 0.9399509803921569, 0.9424019607843137, 0.9424019607843137, 0.9436274509803921, 0.9411764705882353, 0.9424019607843137, 0.9411764705882353, 0.9411764705882353, 0.9424019607843137, 0.9399509803921569, 0.9411764705882353, 0.9399509803921569, 0.9387254901960784, 0.9399509803921569, 0.9399509803921569, 0.9399509803921569, 0.9387254901960784, 0.9399509803921569, 0.9411764705882353, 0.9399509803921569, 0.9424019607843137, 0.9424019607843137, 0.9411764705882353, 0.9387254901960784, 0.9362745098039216, 0.9387254901960784, 0.9411764705882353, 0.9375, 0.9399509803921569]\n"
     ]
    },
    {
     "name": "stderr",
     "output_type": "stream",
     "text": [
      "c:\\Users\\ACER\\AppData\\Local\\Programs\\Python\\Python311\\Lib\\site-packages\\sklearn\\neighbors\\_classification.py:238: DataConversionWarning: A column-vector y was passed when a 1d array was expected. Please change the shape of y to (n_samples,), for example using ravel().\n",
      "  return self._fit(X, y)\n"
     ]
    },
    {
     "name": "stdout",
     "output_type": "stream",
     "text": [
      "[0.9264705882352942, 0.9264705882352942, 0.9325980392156863, 0.9325980392156863, 0.9338235294117647, 0.9325980392156863, 0.9325980392156863, 0.928921568627451, 0.9325980392156863, 0.9338235294117647, 0.9387254901960784, 0.9399509803921569, 0.9411764705882353, 0.9436274509803921, 0.9448529411764706, 0.9448529411764706, 0.9448529411764706, 0.9436274509803921, 0.9399509803921569, 0.9424019607843137, 0.9411764705882353, 0.9424019607843137, 0.9411764705882353, 0.9448529411764706, 0.9411764705882353, 0.9436274509803921, 0.9424019607843137, 0.9448529411764706, 0.9436274509803921, 0.9448529411764706, 0.9424019607843137, 0.9448529411764706, 0.9448529411764706, 0.946078431372549, 0.9411764705882353, 0.9436274509803921, 0.9436274509803921, 0.9424019607843137, 0.9424019607843137, 0.9399509803921569, 0.9424019607843137, 0.9424019607843137, 0.9436274509803921, 0.9411764705882353, 0.9424019607843137, 0.9411764705882353, 0.9411764705882353, 0.9424019607843137, 0.9399509803921569, 0.9411764705882353, 0.9399509803921569, 0.9387254901960784, 0.9399509803921569, 0.9399509803921569, 0.9399509803921569, 0.9387254901960784, 0.9399509803921569, 0.9411764705882353, 0.9399509803921569, 0.9424019607843137, 0.9424019607843137, 0.9411764705882353, 0.9387254901960784, 0.9362745098039216, 0.9387254901960784, 0.9411764705882353, 0.9375, 0.9399509803921569, 0.9387254901960784]\n",
      "[0.9264705882352942, 0.9264705882352942, 0.9325980392156863, 0.9325980392156863, 0.9338235294117647, 0.9325980392156863, 0.9325980392156863, 0.928921568627451, 0.9325980392156863, 0.9338235294117647, 0.9387254901960784, 0.9399509803921569, 0.9411764705882353, 0.9436274509803921, 0.9448529411764706, 0.9448529411764706, 0.9448529411764706, 0.9436274509803921, 0.9399509803921569, 0.9424019607843137, 0.9411764705882353, 0.9424019607843137, 0.9411764705882353, 0.9448529411764706, 0.9411764705882353, 0.9436274509803921, 0.9424019607843137, 0.9448529411764706, 0.9436274509803921, 0.9448529411764706, 0.9424019607843137, 0.9448529411764706, 0.9448529411764706, 0.946078431372549, 0.9411764705882353, 0.9436274509803921, 0.9436274509803921, 0.9424019607843137, 0.9424019607843137, 0.9399509803921569, 0.9424019607843137, 0.9424019607843137, 0.9436274509803921, 0.9411764705882353, 0.9424019607843137, 0.9411764705882353, 0.9411764705882353, 0.9424019607843137, 0.9399509803921569, 0.9411764705882353, 0.9399509803921569, 0.9387254901960784, 0.9399509803921569, 0.9399509803921569, 0.9399509803921569, 0.9387254901960784, 0.9399509803921569, 0.9411764705882353, 0.9399509803921569, 0.9424019607843137, 0.9424019607843137, 0.9411764705882353, 0.9387254901960784, 0.9362745098039216, 0.9387254901960784, 0.9411764705882353, 0.9375, 0.9399509803921569, 0.9387254901960784, 0.9399509803921569]\n"
     ]
    },
    {
     "name": "stderr",
     "output_type": "stream",
     "text": [
      "c:\\Users\\ACER\\AppData\\Local\\Programs\\Python\\Python311\\Lib\\site-packages\\sklearn\\neighbors\\_classification.py:238: DataConversionWarning: A column-vector y was passed when a 1d array was expected. Please change the shape of y to (n_samples,), for example using ravel().\n",
      "  return self._fit(X, y)\n",
      "c:\\Users\\ACER\\AppData\\Local\\Programs\\Python\\Python311\\Lib\\site-packages\\sklearn\\neighbors\\_classification.py:238: DataConversionWarning: A column-vector y was passed when a 1d array was expected. Please change the shape of y to (n_samples,), for example using ravel().\n",
      "  return self._fit(X, y)\n"
     ]
    },
    {
     "name": "stdout",
     "output_type": "stream",
     "text": [
      "[0.9264705882352942, 0.9264705882352942, 0.9325980392156863, 0.9325980392156863, 0.9338235294117647, 0.9325980392156863, 0.9325980392156863, 0.928921568627451, 0.9325980392156863, 0.9338235294117647, 0.9387254901960784, 0.9399509803921569, 0.9411764705882353, 0.9436274509803921, 0.9448529411764706, 0.9448529411764706, 0.9448529411764706, 0.9436274509803921, 0.9399509803921569, 0.9424019607843137, 0.9411764705882353, 0.9424019607843137, 0.9411764705882353, 0.9448529411764706, 0.9411764705882353, 0.9436274509803921, 0.9424019607843137, 0.9448529411764706, 0.9436274509803921, 0.9448529411764706, 0.9424019607843137, 0.9448529411764706, 0.9448529411764706, 0.946078431372549, 0.9411764705882353, 0.9436274509803921, 0.9436274509803921, 0.9424019607843137, 0.9424019607843137, 0.9399509803921569, 0.9424019607843137, 0.9424019607843137, 0.9436274509803921, 0.9411764705882353, 0.9424019607843137, 0.9411764705882353, 0.9411764705882353, 0.9424019607843137, 0.9399509803921569, 0.9411764705882353, 0.9399509803921569, 0.9387254901960784, 0.9399509803921569, 0.9399509803921569, 0.9399509803921569, 0.9387254901960784, 0.9399509803921569, 0.9411764705882353, 0.9399509803921569, 0.9424019607843137, 0.9424019607843137, 0.9411764705882353, 0.9387254901960784, 0.9362745098039216, 0.9387254901960784, 0.9411764705882353, 0.9375, 0.9399509803921569, 0.9387254901960784, 0.9399509803921569, 0.9362745098039216]\n",
      "[0.9264705882352942, 0.9264705882352942, 0.9325980392156863, 0.9325980392156863, 0.9338235294117647, 0.9325980392156863, 0.9325980392156863, 0.928921568627451, 0.9325980392156863, 0.9338235294117647, 0.9387254901960784, 0.9399509803921569, 0.9411764705882353, 0.9436274509803921, 0.9448529411764706, 0.9448529411764706, 0.9448529411764706, 0.9436274509803921, 0.9399509803921569, 0.9424019607843137, 0.9411764705882353, 0.9424019607843137, 0.9411764705882353, 0.9448529411764706, 0.9411764705882353, 0.9436274509803921, 0.9424019607843137, 0.9448529411764706, 0.9436274509803921, 0.9448529411764706, 0.9424019607843137, 0.9448529411764706, 0.9448529411764706, 0.946078431372549, 0.9411764705882353, 0.9436274509803921, 0.9436274509803921, 0.9424019607843137, 0.9424019607843137, 0.9399509803921569, 0.9424019607843137, 0.9424019607843137, 0.9436274509803921, 0.9411764705882353, 0.9424019607843137, 0.9411764705882353, 0.9411764705882353, 0.9424019607843137, 0.9399509803921569, 0.9411764705882353, 0.9399509803921569, 0.9387254901960784, 0.9399509803921569, 0.9399509803921569, 0.9399509803921569, 0.9387254901960784, 0.9399509803921569, 0.9411764705882353, 0.9399509803921569, 0.9424019607843137, 0.9424019607843137, 0.9411764705882353, 0.9387254901960784, 0.9362745098039216, 0.9387254901960784, 0.9411764705882353, 0.9375, 0.9399509803921569, 0.9387254901960784, 0.9399509803921569, 0.9362745098039216, 0.9362745098039216]\n"
     ]
    },
    {
     "name": "stderr",
     "output_type": "stream",
     "text": [
      "c:\\Users\\ACER\\AppData\\Local\\Programs\\Python\\Python311\\Lib\\site-packages\\sklearn\\neighbors\\_classification.py:238: DataConversionWarning: A column-vector y was passed when a 1d array was expected. Please change the shape of y to (n_samples,), for example using ravel().\n",
      "  return self._fit(X, y)\n",
      "c:\\Users\\ACER\\AppData\\Local\\Programs\\Python\\Python311\\Lib\\site-packages\\sklearn\\neighbors\\_classification.py:238: DataConversionWarning: A column-vector y was passed when a 1d array was expected. Please change the shape of y to (n_samples,), for example using ravel().\n",
      "  return self._fit(X, y)\n"
     ]
    },
    {
     "name": "stdout",
     "output_type": "stream",
     "text": [
      "[0.9264705882352942, 0.9264705882352942, 0.9325980392156863, 0.9325980392156863, 0.9338235294117647, 0.9325980392156863, 0.9325980392156863, 0.928921568627451, 0.9325980392156863, 0.9338235294117647, 0.9387254901960784, 0.9399509803921569, 0.9411764705882353, 0.9436274509803921, 0.9448529411764706, 0.9448529411764706, 0.9448529411764706, 0.9436274509803921, 0.9399509803921569, 0.9424019607843137, 0.9411764705882353, 0.9424019607843137, 0.9411764705882353, 0.9448529411764706, 0.9411764705882353, 0.9436274509803921, 0.9424019607843137, 0.9448529411764706, 0.9436274509803921, 0.9448529411764706, 0.9424019607843137, 0.9448529411764706, 0.9448529411764706, 0.946078431372549, 0.9411764705882353, 0.9436274509803921, 0.9436274509803921, 0.9424019607843137, 0.9424019607843137, 0.9399509803921569, 0.9424019607843137, 0.9424019607843137, 0.9436274509803921, 0.9411764705882353, 0.9424019607843137, 0.9411764705882353, 0.9411764705882353, 0.9424019607843137, 0.9399509803921569, 0.9411764705882353, 0.9399509803921569, 0.9387254901960784, 0.9399509803921569, 0.9399509803921569, 0.9399509803921569, 0.9387254901960784, 0.9399509803921569, 0.9411764705882353, 0.9399509803921569, 0.9424019607843137, 0.9424019607843137, 0.9411764705882353, 0.9387254901960784, 0.9362745098039216, 0.9387254901960784, 0.9411764705882353, 0.9375, 0.9399509803921569, 0.9387254901960784, 0.9399509803921569, 0.9362745098039216, 0.9362745098039216, 0.9350490196078431]\n",
      "[0.9264705882352942, 0.9264705882352942, 0.9325980392156863, 0.9325980392156863, 0.9338235294117647, 0.9325980392156863, 0.9325980392156863, 0.928921568627451, 0.9325980392156863, 0.9338235294117647, 0.9387254901960784, 0.9399509803921569, 0.9411764705882353, 0.9436274509803921, 0.9448529411764706, 0.9448529411764706, 0.9448529411764706, 0.9436274509803921, 0.9399509803921569, 0.9424019607843137, 0.9411764705882353, 0.9424019607843137, 0.9411764705882353, 0.9448529411764706, 0.9411764705882353, 0.9436274509803921, 0.9424019607843137, 0.9448529411764706, 0.9436274509803921, 0.9448529411764706, 0.9424019607843137, 0.9448529411764706, 0.9448529411764706, 0.946078431372549, 0.9411764705882353, 0.9436274509803921, 0.9436274509803921, 0.9424019607843137, 0.9424019607843137, 0.9399509803921569, 0.9424019607843137, 0.9424019607843137, 0.9436274509803921, 0.9411764705882353, 0.9424019607843137, 0.9411764705882353, 0.9411764705882353, 0.9424019607843137, 0.9399509803921569, 0.9411764705882353, 0.9399509803921569, 0.9387254901960784, 0.9399509803921569, 0.9399509803921569, 0.9399509803921569, 0.9387254901960784, 0.9399509803921569, 0.9411764705882353, 0.9399509803921569, 0.9424019607843137, 0.9424019607843137, 0.9411764705882353, 0.9387254901960784, 0.9362745098039216, 0.9387254901960784, 0.9411764705882353, 0.9375, 0.9399509803921569, 0.9387254901960784, 0.9399509803921569, 0.9362745098039216, 0.9362745098039216, 0.9350490196078431, 0.9362745098039216]\n"
     ]
    },
    {
     "name": "stderr",
     "output_type": "stream",
     "text": [
      "c:\\Users\\ACER\\AppData\\Local\\Programs\\Python\\Python311\\Lib\\site-packages\\sklearn\\neighbors\\_classification.py:238: DataConversionWarning: A column-vector y was passed when a 1d array was expected. Please change the shape of y to (n_samples,), for example using ravel().\n",
      "  return self._fit(X, y)\n",
      "c:\\Users\\ACER\\AppData\\Local\\Programs\\Python\\Python311\\Lib\\site-packages\\sklearn\\neighbors\\_classification.py:238: DataConversionWarning: A column-vector y was passed when a 1d array was expected. Please change the shape of y to (n_samples,), for example using ravel().\n",
      "  return self._fit(X, y)\n"
     ]
    },
    {
     "name": "stdout",
     "output_type": "stream",
     "text": [
      "[0.9264705882352942, 0.9264705882352942, 0.9325980392156863, 0.9325980392156863, 0.9338235294117647, 0.9325980392156863, 0.9325980392156863, 0.928921568627451, 0.9325980392156863, 0.9338235294117647, 0.9387254901960784, 0.9399509803921569, 0.9411764705882353, 0.9436274509803921, 0.9448529411764706, 0.9448529411764706, 0.9448529411764706, 0.9436274509803921, 0.9399509803921569, 0.9424019607843137, 0.9411764705882353, 0.9424019607843137, 0.9411764705882353, 0.9448529411764706, 0.9411764705882353, 0.9436274509803921, 0.9424019607843137, 0.9448529411764706, 0.9436274509803921, 0.9448529411764706, 0.9424019607843137, 0.9448529411764706, 0.9448529411764706, 0.946078431372549, 0.9411764705882353, 0.9436274509803921, 0.9436274509803921, 0.9424019607843137, 0.9424019607843137, 0.9399509803921569, 0.9424019607843137, 0.9424019607843137, 0.9436274509803921, 0.9411764705882353, 0.9424019607843137, 0.9411764705882353, 0.9411764705882353, 0.9424019607843137, 0.9399509803921569, 0.9411764705882353, 0.9399509803921569, 0.9387254901960784, 0.9399509803921569, 0.9399509803921569, 0.9399509803921569, 0.9387254901960784, 0.9399509803921569, 0.9411764705882353, 0.9399509803921569, 0.9424019607843137, 0.9424019607843137, 0.9411764705882353, 0.9387254901960784, 0.9362745098039216, 0.9387254901960784, 0.9411764705882353, 0.9375, 0.9399509803921569, 0.9387254901960784, 0.9399509803921569, 0.9362745098039216, 0.9362745098039216, 0.9350490196078431, 0.9362745098039216, 0.9375]\n"
     ]
    },
    {
     "name": "stderr",
     "output_type": "stream",
     "text": [
      "c:\\Users\\ACER\\AppData\\Local\\Programs\\Python\\Python311\\Lib\\site-packages\\sklearn\\neighbors\\_classification.py:238: DataConversionWarning: A column-vector y was passed when a 1d array was expected. Please change the shape of y to (n_samples,), for example using ravel().\n",
      "  return self._fit(X, y)\n"
     ]
    },
    {
     "name": "stdout",
     "output_type": "stream",
     "text": [
      "[0.9264705882352942, 0.9264705882352942, 0.9325980392156863, 0.9325980392156863, 0.9338235294117647, 0.9325980392156863, 0.9325980392156863, 0.928921568627451, 0.9325980392156863, 0.9338235294117647, 0.9387254901960784, 0.9399509803921569, 0.9411764705882353, 0.9436274509803921, 0.9448529411764706, 0.9448529411764706, 0.9448529411764706, 0.9436274509803921, 0.9399509803921569, 0.9424019607843137, 0.9411764705882353, 0.9424019607843137, 0.9411764705882353, 0.9448529411764706, 0.9411764705882353, 0.9436274509803921, 0.9424019607843137, 0.9448529411764706, 0.9436274509803921, 0.9448529411764706, 0.9424019607843137, 0.9448529411764706, 0.9448529411764706, 0.946078431372549, 0.9411764705882353, 0.9436274509803921, 0.9436274509803921, 0.9424019607843137, 0.9424019607843137, 0.9399509803921569, 0.9424019607843137, 0.9424019607843137, 0.9436274509803921, 0.9411764705882353, 0.9424019607843137, 0.9411764705882353, 0.9411764705882353, 0.9424019607843137, 0.9399509803921569, 0.9411764705882353, 0.9399509803921569, 0.9387254901960784, 0.9399509803921569, 0.9399509803921569, 0.9399509803921569, 0.9387254901960784, 0.9399509803921569, 0.9411764705882353, 0.9399509803921569, 0.9424019607843137, 0.9424019607843137, 0.9411764705882353, 0.9387254901960784, 0.9362745098039216, 0.9387254901960784, 0.9411764705882353, 0.9375, 0.9399509803921569, 0.9387254901960784, 0.9399509803921569, 0.9362745098039216, 0.9362745098039216, 0.9350490196078431, 0.9362745098039216, 0.9375, 0.9387254901960784]\n",
      "[0.9264705882352942, 0.9264705882352942, 0.9325980392156863, 0.9325980392156863, 0.9338235294117647, 0.9325980392156863, 0.9325980392156863, 0.928921568627451, 0.9325980392156863, 0.9338235294117647, 0.9387254901960784, 0.9399509803921569, 0.9411764705882353, 0.9436274509803921, 0.9448529411764706, 0.9448529411764706, 0.9448529411764706, 0.9436274509803921, 0.9399509803921569, 0.9424019607843137, 0.9411764705882353, 0.9424019607843137, 0.9411764705882353, 0.9448529411764706, 0.9411764705882353, 0.9436274509803921, 0.9424019607843137, 0.9448529411764706, 0.9436274509803921, 0.9448529411764706, 0.9424019607843137, 0.9448529411764706, 0.9448529411764706, 0.946078431372549, 0.9411764705882353, 0.9436274509803921, 0.9436274509803921, 0.9424019607843137, 0.9424019607843137, 0.9399509803921569, 0.9424019607843137, 0.9424019607843137, 0.9436274509803921, 0.9411764705882353, 0.9424019607843137, 0.9411764705882353, 0.9411764705882353, 0.9424019607843137, 0.9399509803921569, 0.9411764705882353, 0.9399509803921569, 0.9387254901960784, 0.9399509803921569, 0.9399509803921569, 0.9399509803921569, 0.9387254901960784, 0.9399509803921569, 0.9411764705882353, 0.9399509803921569, 0.9424019607843137, 0.9424019607843137, 0.9411764705882353, 0.9387254901960784, 0.9362745098039216, 0.9387254901960784, 0.9411764705882353, 0.9375, 0.9399509803921569, 0.9387254901960784, 0.9399509803921569, 0.9362745098039216, 0.9362745098039216, 0.9350490196078431, 0.9362745098039216, 0.9375, 0.9387254901960784, 0.9350490196078431]\n"
     ]
    },
    {
     "name": "stderr",
     "output_type": "stream",
     "text": [
      "c:\\Users\\ACER\\AppData\\Local\\Programs\\Python\\Python311\\Lib\\site-packages\\sklearn\\neighbors\\_classification.py:238: DataConversionWarning: A column-vector y was passed when a 1d array was expected. Please change the shape of y to (n_samples,), for example using ravel().\n",
      "  return self._fit(X, y)\n",
      "c:\\Users\\ACER\\AppData\\Local\\Programs\\Python\\Python311\\Lib\\site-packages\\sklearn\\neighbors\\_classification.py:238: DataConversionWarning: A column-vector y was passed when a 1d array was expected. Please change the shape of y to (n_samples,), for example using ravel().\n",
      "  return self._fit(X, y)\n"
     ]
    },
    {
     "name": "stdout",
     "output_type": "stream",
     "text": [
      "[0.9264705882352942, 0.9264705882352942, 0.9325980392156863, 0.9325980392156863, 0.9338235294117647, 0.9325980392156863, 0.9325980392156863, 0.928921568627451, 0.9325980392156863, 0.9338235294117647, 0.9387254901960784, 0.9399509803921569, 0.9411764705882353, 0.9436274509803921, 0.9448529411764706, 0.9448529411764706, 0.9448529411764706, 0.9436274509803921, 0.9399509803921569, 0.9424019607843137, 0.9411764705882353, 0.9424019607843137, 0.9411764705882353, 0.9448529411764706, 0.9411764705882353, 0.9436274509803921, 0.9424019607843137, 0.9448529411764706, 0.9436274509803921, 0.9448529411764706, 0.9424019607843137, 0.9448529411764706, 0.9448529411764706, 0.946078431372549, 0.9411764705882353, 0.9436274509803921, 0.9436274509803921, 0.9424019607843137, 0.9424019607843137, 0.9399509803921569, 0.9424019607843137, 0.9424019607843137, 0.9436274509803921, 0.9411764705882353, 0.9424019607843137, 0.9411764705882353, 0.9411764705882353, 0.9424019607843137, 0.9399509803921569, 0.9411764705882353, 0.9399509803921569, 0.9387254901960784, 0.9399509803921569, 0.9399509803921569, 0.9399509803921569, 0.9387254901960784, 0.9399509803921569, 0.9411764705882353, 0.9399509803921569, 0.9424019607843137, 0.9424019607843137, 0.9411764705882353, 0.9387254901960784, 0.9362745098039216, 0.9387254901960784, 0.9411764705882353, 0.9375, 0.9399509803921569, 0.9387254901960784, 0.9399509803921569, 0.9362745098039216, 0.9362745098039216, 0.9350490196078431, 0.9362745098039216, 0.9375, 0.9387254901960784, 0.9350490196078431, 0.9362745098039216]\n"
     ]
    },
    {
     "name": "stderr",
     "output_type": "stream",
     "text": [
      "c:\\Users\\ACER\\AppData\\Local\\Programs\\Python\\Python311\\Lib\\site-packages\\sklearn\\neighbors\\_classification.py:238: DataConversionWarning: A column-vector y was passed when a 1d array was expected. Please change the shape of y to (n_samples,), for example using ravel().\n",
      "  return self._fit(X, y)\n"
     ]
    },
    {
     "name": "stdout",
     "output_type": "stream",
     "text": [
      "[0.9264705882352942, 0.9264705882352942, 0.9325980392156863, 0.9325980392156863, 0.9338235294117647, 0.9325980392156863, 0.9325980392156863, 0.928921568627451, 0.9325980392156863, 0.9338235294117647, 0.9387254901960784, 0.9399509803921569, 0.9411764705882353, 0.9436274509803921, 0.9448529411764706, 0.9448529411764706, 0.9448529411764706, 0.9436274509803921, 0.9399509803921569, 0.9424019607843137, 0.9411764705882353, 0.9424019607843137, 0.9411764705882353, 0.9448529411764706, 0.9411764705882353, 0.9436274509803921, 0.9424019607843137, 0.9448529411764706, 0.9436274509803921, 0.9448529411764706, 0.9424019607843137, 0.9448529411764706, 0.9448529411764706, 0.946078431372549, 0.9411764705882353, 0.9436274509803921, 0.9436274509803921, 0.9424019607843137, 0.9424019607843137, 0.9399509803921569, 0.9424019607843137, 0.9424019607843137, 0.9436274509803921, 0.9411764705882353, 0.9424019607843137, 0.9411764705882353, 0.9411764705882353, 0.9424019607843137, 0.9399509803921569, 0.9411764705882353, 0.9399509803921569, 0.9387254901960784, 0.9399509803921569, 0.9399509803921569, 0.9399509803921569, 0.9387254901960784, 0.9399509803921569, 0.9411764705882353, 0.9399509803921569, 0.9424019607843137, 0.9424019607843137, 0.9411764705882353, 0.9387254901960784, 0.9362745098039216, 0.9387254901960784, 0.9411764705882353, 0.9375, 0.9399509803921569, 0.9387254901960784, 0.9399509803921569, 0.9362745098039216, 0.9362745098039216, 0.9350490196078431, 0.9362745098039216, 0.9375, 0.9387254901960784, 0.9350490196078431, 0.9362745098039216, 0.9362745098039216]\n",
      "[0.9264705882352942, 0.9264705882352942, 0.9325980392156863, 0.9325980392156863, 0.9338235294117647, 0.9325980392156863, 0.9325980392156863, 0.928921568627451, 0.9325980392156863, 0.9338235294117647, 0.9387254901960784, 0.9399509803921569, 0.9411764705882353, 0.9436274509803921, 0.9448529411764706, 0.9448529411764706, 0.9448529411764706, 0.9436274509803921, 0.9399509803921569, 0.9424019607843137, 0.9411764705882353, 0.9424019607843137, 0.9411764705882353, 0.9448529411764706, 0.9411764705882353, 0.9436274509803921, 0.9424019607843137, 0.9448529411764706, 0.9436274509803921, 0.9448529411764706, 0.9424019607843137, 0.9448529411764706, 0.9448529411764706, 0.946078431372549, 0.9411764705882353, 0.9436274509803921, 0.9436274509803921, 0.9424019607843137, 0.9424019607843137, 0.9399509803921569, 0.9424019607843137, 0.9424019607843137, 0.9436274509803921, 0.9411764705882353, 0.9424019607843137, 0.9411764705882353, 0.9411764705882353, 0.9424019607843137, 0.9399509803921569, 0.9411764705882353, 0.9399509803921569, 0.9387254901960784, 0.9399509803921569, 0.9399509803921569, 0.9399509803921569, 0.9387254901960784, 0.9399509803921569, 0.9411764705882353, 0.9399509803921569, 0.9424019607843137, 0.9424019607843137, 0.9411764705882353, 0.9387254901960784, 0.9362745098039216, 0.9387254901960784, 0.9411764705882353, 0.9375, 0.9399509803921569, 0.9387254901960784, 0.9399509803921569, 0.9362745098039216, 0.9362745098039216, 0.9350490196078431, 0.9362745098039216, 0.9375, 0.9387254901960784, 0.9350490196078431, 0.9362745098039216, 0.9362745098039216, 0.9362745098039216]\n"
     ]
    },
    {
     "name": "stderr",
     "output_type": "stream",
     "text": [
      "c:\\Users\\ACER\\AppData\\Local\\Programs\\Python\\Python311\\Lib\\site-packages\\sklearn\\neighbors\\_classification.py:238: DataConversionWarning: A column-vector y was passed when a 1d array was expected. Please change the shape of y to (n_samples,), for example using ravel().\n",
      "  return self._fit(X, y)\n",
      "c:\\Users\\ACER\\AppData\\Local\\Programs\\Python\\Python311\\Lib\\site-packages\\sklearn\\neighbors\\_classification.py:238: DataConversionWarning: A column-vector y was passed when a 1d array was expected. Please change the shape of y to (n_samples,), for example using ravel().\n",
      "  return self._fit(X, y)\n"
     ]
    },
    {
     "name": "stdout",
     "output_type": "stream",
     "text": [
      "[0.9264705882352942, 0.9264705882352942, 0.9325980392156863, 0.9325980392156863, 0.9338235294117647, 0.9325980392156863, 0.9325980392156863, 0.928921568627451, 0.9325980392156863, 0.9338235294117647, 0.9387254901960784, 0.9399509803921569, 0.9411764705882353, 0.9436274509803921, 0.9448529411764706, 0.9448529411764706, 0.9448529411764706, 0.9436274509803921, 0.9399509803921569, 0.9424019607843137, 0.9411764705882353, 0.9424019607843137, 0.9411764705882353, 0.9448529411764706, 0.9411764705882353, 0.9436274509803921, 0.9424019607843137, 0.9448529411764706, 0.9436274509803921, 0.9448529411764706, 0.9424019607843137, 0.9448529411764706, 0.9448529411764706, 0.946078431372549, 0.9411764705882353, 0.9436274509803921, 0.9436274509803921, 0.9424019607843137, 0.9424019607843137, 0.9399509803921569, 0.9424019607843137, 0.9424019607843137, 0.9436274509803921, 0.9411764705882353, 0.9424019607843137, 0.9411764705882353, 0.9411764705882353, 0.9424019607843137, 0.9399509803921569, 0.9411764705882353, 0.9399509803921569, 0.9387254901960784, 0.9399509803921569, 0.9399509803921569, 0.9399509803921569, 0.9387254901960784, 0.9399509803921569, 0.9411764705882353, 0.9399509803921569, 0.9424019607843137, 0.9424019607843137, 0.9411764705882353, 0.9387254901960784, 0.9362745098039216, 0.9387254901960784, 0.9411764705882353, 0.9375, 0.9399509803921569, 0.9387254901960784, 0.9399509803921569, 0.9362745098039216, 0.9362745098039216, 0.9350490196078431, 0.9362745098039216, 0.9375, 0.9387254901960784, 0.9350490196078431, 0.9362745098039216, 0.9362745098039216, 0.9362745098039216, 0.9362745098039216]\n"
     ]
    },
    {
     "name": "stderr",
     "output_type": "stream",
     "text": [
      "c:\\Users\\ACER\\AppData\\Local\\Programs\\Python\\Python311\\Lib\\site-packages\\sklearn\\neighbors\\_classification.py:238: DataConversionWarning: A column-vector y was passed when a 1d array was expected. Please change the shape of y to (n_samples,), for example using ravel().\n",
      "  return self._fit(X, y)\n"
     ]
    },
    {
     "name": "stdout",
     "output_type": "stream",
     "text": [
      "[0.9264705882352942, 0.9264705882352942, 0.9325980392156863, 0.9325980392156863, 0.9338235294117647, 0.9325980392156863, 0.9325980392156863, 0.928921568627451, 0.9325980392156863, 0.9338235294117647, 0.9387254901960784, 0.9399509803921569, 0.9411764705882353, 0.9436274509803921, 0.9448529411764706, 0.9448529411764706, 0.9448529411764706, 0.9436274509803921, 0.9399509803921569, 0.9424019607843137, 0.9411764705882353, 0.9424019607843137, 0.9411764705882353, 0.9448529411764706, 0.9411764705882353, 0.9436274509803921, 0.9424019607843137, 0.9448529411764706, 0.9436274509803921, 0.9448529411764706, 0.9424019607843137, 0.9448529411764706, 0.9448529411764706, 0.946078431372549, 0.9411764705882353, 0.9436274509803921, 0.9436274509803921, 0.9424019607843137, 0.9424019607843137, 0.9399509803921569, 0.9424019607843137, 0.9424019607843137, 0.9436274509803921, 0.9411764705882353, 0.9424019607843137, 0.9411764705882353, 0.9411764705882353, 0.9424019607843137, 0.9399509803921569, 0.9411764705882353, 0.9399509803921569, 0.9387254901960784, 0.9399509803921569, 0.9399509803921569, 0.9399509803921569, 0.9387254901960784, 0.9399509803921569, 0.9411764705882353, 0.9399509803921569, 0.9424019607843137, 0.9424019607843137, 0.9411764705882353, 0.9387254901960784, 0.9362745098039216, 0.9387254901960784, 0.9411764705882353, 0.9375, 0.9399509803921569, 0.9387254901960784, 0.9399509803921569, 0.9362745098039216, 0.9362745098039216, 0.9350490196078431, 0.9362745098039216, 0.9375, 0.9387254901960784, 0.9350490196078431, 0.9362745098039216, 0.9362745098039216, 0.9362745098039216, 0.9362745098039216, 0.9362745098039216]\n"
     ]
    },
    {
     "name": "stderr",
     "output_type": "stream",
     "text": [
      "c:\\Users\\ACER\\AppData\\Local\\Programs\\Python\\Python311\\Lib\\site-packages\\sklearn\\neighbors\\_classification.py:238: DataConversionWarning: A column-vector y was passed when a 1d array was expected. Please change the shape of y to (n_samples,), for example using ravel().\n",
      "  return self._fit(X, y)\n"
     ]
    },
    {
     "name": "stdout",
     "output_type": "stream",
     "text": [
      "[0.9264705882352942, 0.9264705882352942, 0.9325980392156863, 0.9325980392156863, 0.9338235294117647, 0.9325980392156863, 0.9325980392156863, 0.928921568627451, 0.9325980392156863, 0.9338235294117647, 0.9387254901960784, 0.9399509803921569, 0.9411764705882353, 0.9436274509803921, 0.9448529411764706, 0.9448529411764706, 0.9448529411764706, 0.9436274509803921, 0.9399509803921569, 0.9424019607843137, 0.9411764705882353, 0.9424019607843137, 0.9411764705882353, 0.9448529411764706, 0.9411764705882353, 0.9436274509803921, 0.9424019607843137, 0.9448529411764706, 0.9436274509803921, 0.9448529411764706, 0.9424019607843137, 0.9448529411764706, 0.9448529411764706, 0.946078431372549, 0.9411764705882353, 0.9436274509803921, 0.9436274509803921, 0.9424019607843137, 0.9424019607843137, 0.9399509803921569, 0.9424019607843137, 0.9424019607843137, 0.9436274509803921, 0.9411764705882353, 0.9424019607843137, 0.9411764705882353, 0.9411764705882353, 0.9424019607843137, 0.9399509803921569, 0.9411764705882353, 0.9399509803921569, 0.9387254901960784, 0.9399509803921569, 0.9399509803921569, 0.9399509803921569, 0.9387254901960784, 0.9399509803921569, 0.9411764705882353, 0.9399509803921569, 0.9424019607843137, 0.9424019607843137, 0.9411764705882353, 0.9387254901960784, 0.9362745098039216, 0.9387254901960784, 0.9411764705882353, 0.9375, 0.9399509803921569, 0.9387254901960784, 0.9399509803921569, 0.9362745098039216, 0.9362745098039216, 0.9350490196078431, 0.9362745098039216, 0.9375, 0.9387254901960784, 0.9350490196078431, 0.9362745098039216, 0.9362745098039216, 0.9362745098039216, 0.9362745098039216, 0.9362745098039216, 0.9362745098039216]\n",
      "[0.9264705882352942, 0.9264705882352942, 0.9325980392156863, 0.9325980392156863, 0.9338235294117647, 0.9325980392156863, 0.9325980392156863, 0.928921568627451, 0.9325980392156863, 0.9338235294117647, 0.9387254901960784, 0.9399509803921569, 0.9411764705882353, 0.9436274509803921, 0.9448529411764706, 0.9448529411764706, 0.9448529411764706, 0.9436274509803921, 0.9399509803921569, 0.9424019607843137, 0.9411764705882353, 0.9424019607843137, 0.9411764705882353, 0.9448529411764706, 0.9411764705882353, 0.9436274509803921, 0.9424019607843137, 0.9448529411764706, 0.9436274509803921, 0.9448529411764706, 0.9424019607843137, 0.9448529411764706, 0.9448529411764706, 0.946078431372549, 0.9411764705882353, 0.9436274509803921, 0.9436274509803921, 0.9424019607843137, 0.9424019607843137, 0.9399509803921569, 0.9424019607843137, 0.9424019607843137, 0.9436274509803921, 0.9411764705882353, 0.9424019607843137, 0.9411764705882353, 0.9411764705882353, 0.9424019607843137, 0.9399509803921569, 0.9411764705882353, 0.9399509803921569, 0.9387254901960784, 0.9399509803921569, 0.9399509803921569, 0.9399509803921569, 0.9387254901960784, 0.9399509803921569, 0.9411764705882353, 0.9399509803921569, 0.9424019607843137, 0.9424019607843137, 0.9411764705882353, 0.9387254901960784, 0.9362745098039216, 0.9387254901960784, 0.9411764705882353, 0.9375, 0.9399509803921569, 0.9387254901960784, 0.9399509803921569, 0.9362745098039216, 0.9362745098039216, 0.9350490196078431, 0.9362745098039216, 0.9375, 0.9387254901960784, 0.9350490196078431, 0.9362745098039216, 0.9362745098039216, 0.9362745098039216, 0.9362745098039216, 0.9362745098039216, 0.9362745098039216, 0.9362745098039216]\n"
     ]
    },
    {
     "name": "stderr",
     "output_type": "stream",
     "text": [
      "c:\\Users\\ACER\\AppData\\Local\\Programs\\Python\\Python311\\Lib\\site-packages\\sklearn\\neighbors\\_classification.py:238: DataConversionWarning: A column-vector y was passed when a 1d array was expected. Please change the shape of y to (n_samples,), for example using ravel().\n",
      "  return self._fit(X, y)\n",
      "c:\\Users\\ACER\\AppData\\Local\\Programs\\Python\\Python311\\Lib\\site-packages\\sklearn\\neighbors\\_classification.py:238: DataConversionWarning: A column-vector y was passed when a 1d array was expected. Please change the shape of y to (n_samples,), for example using ravel().\n",
      "  return self._fit(X, y)\n"
     ]
    },
    {
     "name": "stdout",
     "output_type": "stream",
     "text": [
      "[0.9264705882352942, 0.9264705882352942, 0.9325980392156863, 0.9325980392156863, 0.9338235294117647, 0.9325980392156863, 0.9325980392156863, 0.928921568627451, 0.9325980392156863, 0.9338235294117647, 0.9387254901960784, 0.9399509803921569, 0.9411764705882353, 0.9436274509803921, 0.9448529411764706, 0.9448529411764706, 0.9448529411764706, 0.9436274509803921, 0.9399509803921569, 0.9424019607843137, 0.9411764705882353, 0.9424019607843137, 0.9411764705882353, 0.9448529411764706, 0.9411764705882353, 0.9436274509803921, 0.9424019607843137, 0.9448529411764706, 0.9436274509803921, 0.9448529411764706, 0.9424019607843137, 0.9448529411764706, 0.9448529411764706, 0.946078431372549, 0.9411764705882353, 0.9436274509803921, 0.9436274509803921, 0.9424019607843137, 0.9424019607843137, 0.9399509803921569, 0.9424019607843137, 0.9424019607843137, 0.9436274509803921, 0.9411764705882353, 0.9424019607843137, 0.9411764705882353, 0.9411764705882353, 0.9424019607843137, 0.9399509803921569, 0.9411764705882353, 0.9399509803921569, 0.9387254901960784, 0.9399509803921569, 0.9399509803921569, 0.9399509803921569, 0.9387254901960784, 0.9399509803921569, 0.9411764705882353, 0.9399509803921569, 0.9424019607843137, 0.9424019607843137, 0.9411764705882353, 0.9387254901960784, 0.9362745098039216, 0.9387254901960784, 0.9411764705882353, 0.9375, 0.9399509803921569, 0.9387254901960784, 0.9399509803921569, 0.9362745098039216, 0.9362745098039216, 0.9350490196078431, 0.9362745098039216, 0.9375, 0.9387254901960784, 0.9350490196078431, 0.9362745098039216, 0.9362745098039216, 0.9362745098039216, 0.9362745098039216, 0.9362745098039216, 0.9362745098039216, 0.9362745098039216, 0.9387254901960784]\n",
      "[0.9264705882352942, 0.9264705882352942, 0.9325980392156863, 0.9325980392156863, 0.9338235294117647, 0.9325980392156863, 0.9325980392156863, 0.928921568627451, 0.9325980392156863, 0.9338235294117647, 0.9387254901960784, 0.9399509803921569, 0.9411764705882353, 0.9436274509803921, 0.9448529411764706, 0.9448529411764706, 0.9448529411764706, 0.9436274509803921, 0.9399509803921569, 0.9424019607843137, 0.9411764705882353, 0.9424019607843137, 0.9411764705882353, 0.9448529411764706, 0.9411764705882353, 0.9436274509803921, 0.9424019607843137, 0.9448529411764706, 0.9436274509803921, 0.9448529411764706, 0.9424019607843137, 0.9448529411764706, 0.9448529411764706, 0.946078431372549, 0.9411764705882353, 0.9436274509803921, 0.9436274509803921, 0.9424019607843137, 0.9424019607843137, 0.9399509803921569, 0.9424019607843137, 0.9424019607843137, 0.9436274509803921, 0.9411764705882353, 0.9424019607843137, 0.9411764705882353, 0.9411764705882353, 0.9424019607843137, 0.9399509803921569, 0.9411764705882353, 0.9399509803921569, 0.9387254901960784, 0.9399509803921569, 0.9399509803921569, 0.9399509803921569, 0.9387254901960784, 0.9399509803921569, 0.9411764705882353, 0.9399509803921569, 0.9424019607843137, 0.9424019607843137, 0.9411764705882353, 0.9387254901960784, 0.9362745098039216, 0.9387254901960784, 0.9411764705882353, 0.9375, 0.9399509803921569, 0.9387254901960784, 0.9399509803921569, 0.9362745098039216, 0.9362745098039216, 0.9350490196078431, 0.9362745098039216, 0.9375, 0.9387254901960784, 0.9350490196078431, 0.9362745098039216, 0.9362745098039216, 0.9362745098039216, 0.9362745098039216, 0.9362745098039216, 0.9362745098039216, 0.9362745098039216, 0.9387254901960784, 0.9375]\n"
     ]
    },
    {
     "name": "stderr",
     "output_type": "stream",
     "text": [
      "c:\\Users\\ACER\\AppData\\Local\\Programs\\Python\\Python311\\Lib\\site-packages\\sklearn\\neighbors\\_classification.py:238: DataConversionWarning: A column-vector y was passed when a 1d array was expected. Please change the shape of y to (n_samples,), for example using ravel().\n",
      "  return self._fit(X, y)\n",
      "c:\\Users\\ACER\\AppData\\Local\\Programs\\Python\\Python311\\Lib\\site-packages\\sklearn\\neighbors\\_classification.py:238: DataConversionWarning: A column-vector y was passed when a 1d array was expected. Please change the shape of y to (n_samples,), for example using ravel().\n",
      "  return self._fit(X, y)\n"
     ]
    },
    {
     "name": "stdout",
     "output_type": "stream",
     "text": [
      "[0.9264705882352942, 0.9264705882352942, 0.9325980392156863, 0.9325980392156863, 0.9338235294117647, 0.9325980392156863, 0.9325980392156863, 0.928921568627451, 0.9325980392156863, 0.9338235294117647, 0.9387254901960784, 0.9399509803921569, 0.9411764705882353, 0.9436274509803921, 0.9448529411764706, 0.9448529411764706, 0.9448529411764706, 0.9436274509803921, 0.9399509803921569, 0.9424019607843137, 0.9411764705882353, 0.9424019607843137, 0.9411764705882353, 0.9448529411764706, 0.9411764705882353, 0.9436274509803921, 0.9424019607843137, 0.9448529411764706, 0.9436274509803921, 0.9448529411764706, 0.9424019607843137, 0.9448529411764706, 0.9448529411764706, 0.946078431372549, 0.9411764705882353, 0.9436274509803921, 0.9436274509803921, 0.9424019607843137, 0.9424019607843137, 0.9399509803921569, 0.9424019607843137, 0.9424019607843137, 0.9436274509803921, 0.9411764705882353, 0.9424019607843137, 0.9411764705882353, 0.9411764705882353, 0.9424019607843137, 0.9399509803921569, 0.9411764705882353, 0.9399509803921569, 0.9387254901960784, 0.9399509803921569, 0.9399509803921569, 0.9399509803921569, 0.9387254901960784, 0.9399509803921569, 0.9411764705882353, 0.9399509803921569, 0.9424019607843137, 0.9424019607843137, 0.9411764705882353, 0.9387254901960784, 0.9362745098039216, 0.9387254901960784, 0.9411764705882353, 0.9375, 0.9399509803921569, 0.9387254901960784, 0.9399509803921569, 0.9362745098039216, 0.9362745098039216, 0.9350490196078431, 0.9362745098039216, 0.9375, 0.9387254901960784, 0.9350490196078431, 0.9362745098039216, 0.9362745098039216, 0.9362745098039216, 0.9362745098039216, 0.9362745098039216, 0.9362745098039216, 0.9362745098039216, 0.9387254901960784, 0.9375, 0.9362745098039216]\n"
     ]
    },
    {
     "name": "stderr",
     "output_type": "stream",
     "text": [
      "c:\\Users\\ACER\\AppData\\Local\\Programs\\Python\\Python311\\Lib\\site-packages\\sklearn\\neighbors\\_classification.py:238: DataConversionWarning: A column-vector y was passed when a 1d array was expected. Please change the shape of y to (n_samples,), for example using ravel().\n",
      "  return self._fit(X, y)\n"
     ]
    },
    {
     "name": "stdout",
     "output_type": "stream",
     "text": [
      "[0.9264705882352942, 0.9264705882352942, 0.9325980392156863, 0.9325980392156863, 0.9338235294117647, 0.9325980392156863, 0.9325980392156863, 0.928921568627451, 0.9325980392156863, 0.9338235294117647, 0.9387254901960784, 0.9399509803921569, 0.9411764705882353, 0.9436274509803921, 0.9448529411764706, 0.9448529411764706, 0.9448529411764706, 0.9436274509803921, 0.9399509803921569, 0.9424019607843137, 0.9411764705882353, 0.9424019607843137, 0.9411764705882353, 0.9448529411764706, 0.9411764705882353, 0.9436274509803921, 0.9424019607843137, 0.9448529411764706, 0.9436274509803921, 0.9448529411764706, 0.9424019607843137, 0.9448529411764706, 0.9448529411764706, 0.946078431372549, 0.9411764705882353, 0.9436274509803921, 0.9436274509803921, 0.9424019607843137, 0.9424019607843137, 0.9399509803921569, 0.9424019607843137, 0.9424019607843137, 0.9436274509803921, 0.9411764705882353, 0.9424019607843137, 0.9411764705882353, 0.9411764705882353, 0.9424019607843137, 0.9399509803921569, 0.9411764705882353, 0.9399509803921569, 0.9387254901960784, 0.9399509803921569, 0.9399509803921569, 0.9399509803921569, 0.9387254901960784, 0.9399509803921569, 0.9411764705882353, 0.9399509803921569, 0.9424019607843137, 0.9424019607843137, 0.9411764705882353, 0.9387254901960784, 0.9362745098039216, 0.9387254901960784, 0.9411764705882353, 0.9375, 0.9399509803921569, 0.9387254901960784, 0.9399509803921569, 0.9362745098039216, 0.9362745098039216, 0.9350490196078431, 0.9362745098039216, 0.9375, 0.9387254901960784, 0.9350490196078431, 0.9362745098039216, 0.9362745098039216, 0.9362745098039216, 0.9362745098039216, 0.9362745098039216, 0.9362745098039216, 0.9362745098039216, 0.9387254901960784, 0.9375, 0.9362745098039216, 0.9375]\n",
      "[0.9264705882352942, 0.9264705882352942, 0.9325980392156863, 0.9325980392156863, 0.9338235294117647, 0.9325980392156863, 0.9325980392156863, 0.928921568627451, 0.9325980392156863, 0.9338235294117647, 0.9387254901960784, 0.9399509803921569, 0.9411764705882353, 0.9436274509803921, 0.9448529411764706, 0.9448529411764706, 0.9448529411764706, 0.9436274509803921, 0.9399509803921569, 0.9424019607843137, 0.9411764705882353, 0.9424019607843137, 0.9411764705882353, 0.9448529411764706, 0.9411764705882353, 0.9436274509803921, 0.9424019607843137, 0.9448529411764706, 0.9436274509803921, 0.9448529411764706, 0.9424019607843137, 0.9448529411764706, 0.9448529411764706, 0.946078431372549, 0.9411764705882353, 0.9436274509803921, 0.9436274509803921, 0.9424019607843137, 0.9424019607843137, 0.9399509803921569, 0.9424019607843137, 0.9424019607843137, 0.9436274509803921, 0.9411764705882353, 0.9424019607843137, 0.9411764705882353, 0.9411764705882353, 0.9424019607843137, 0.9399509803921569, 0.9411764705882353, 0.9399509803921569, 0.9387254901960784, 0.9399509803921569, 0.9399509803921569, 0.9399509803921569, 0.9387254901960784, 0.9399509803921569, 0.9411764705882353, 0.9399509803921569, 0.9424019607843137, 0.9424019607843137, 0.9411764705882353, 0.9387254901960784, 0.9362745098039216, 0.9387254901960784, 0.9411764705882353, 0.9375, 0.9399509803921569, 0.9387254901960784, 0.9399509803921569, 0.9362745098039216, 0.9362745098039216, 0.9350490196078431, 0.9362745098039216, 0.9375, 0.9387254901960784, 0.9350490196078431, 0.9362745098039216, 0.9362745098039216, 0.9362745098039216, 0.9362745098039216, 0.9362745098039216, 0.9362745098039216, 0.9362745098039216, 0.9387254901960784, 0.9375, 0.9362745098039216, 0.9375, 0.9411764705882353]\n",
      "[0.9264705882352942, 0.9264705882352942, 0.9325980392156863, 0.9325980392156863, 0.9338235294117647, 0.9325980392156863, 0.9325980392156863, 0.928921568627451, 0.9325980392156863, 0.9338235294117647, 0.9387254901960784, 0.9399509803921569, 0.9411764705882353, 0.9436274509803921, 0.9448529411764706, 0.9448529411764706, 0.9448529411764706, 0.9436274509803921, 0.9399509803921569, 0.9424019607843137, 0.9411764705882353, 0.9424019607843137, 0.9411764705882353, 0.9448529411764706, 0.9411764705882353, 0.9436274509803921, 0.9424019607843137, 0.9448529411764706, 0.9436274509803921, 0.9448529411764706, 0.9424019607843137, 0.9448529411764706, 0.9448529411764706, 0.946078431372549, 0.9411764705882353, 0.9436274509803921, 0.9436274509803921, 0.9424019607843137, 0.9424019607843137, 0.9399509803921569, 0.9424019607843137, 0.9424019607843137, 0.9436274509803921, 0.9411764705882353, 0.9424019607843137, 0.9411764705882353, 0.9411764705882353, 0.9424019607843137, 0.9399509803921569, 0.9411764705882353, 0.9399509803921569, 0.9387254901960784, 0.9399509803921569, 0.9399509803921569, 0.9399509803921569, 0.9387254901960784, 0.9399509803921569, 0.9411764705882353, 0.9399509803921569, 0.9424019607843137, 0.9424019607843137, 0.9411764705882353, 0.9387254901960784, 0.9362745098039216, 0.9387254901960784, 0.9411764705882353, 0.9375, 0.9399509803921569, 0.9387254901960784, 0.9399509803921569, 0.9362745098039216, 0.9362745098039216, 0.9350490196078431, 0.9362745098039216, 0.9375, 0.9387254901960784, 0.9350490196078431, 0.9362745098039216, 0.9362745098039216, 0.9362745098039216, 0.9362745098039216, 0.9362745098039216, 0.9362745098039216, 0.9362745098039216, 0.9387254901960784, 0.9375, 0.9362745098039216, 0.9375, 0.9411764705882353, 0.9387254901960784]\n"
     ]
    },
    {
     "name": "stderr",
     "output_type": "stream",
     "text": [
      "c:\\Users\\ACER\\AppData\\Local\\Programs\\Python\\Python311\\Lib\\site-packages\\sklearn\\neighbors\\_classification.py:238: DataConversionWarning: A column-vector y was passed when a 1d array was expected. Please change the shape of y to (n_samples,), for example using ravel().\n",
      "  return self._fit(X, y)\n",
      "c:\\Users\\ACER\\AppData\\Local\\Programs\\Python\\Python311\\Lib\\site-packages\\sklearn\\neighbors\\_classification.py:238: DataConversionWarning: A column-vector y was passed when a 1d array was expected. Please change the shape of y to (n_samples,), for example using ravel().\n",
      "  return self._fit(X, y)\n",
      "c:\\Users\\ACER\\AppData\\Local\\Programs\\Python\\Python311\\Lib\\site-packages\\sklearn\\neighbors\\_classification.py:238: DataConversionWarning: A column-vector y was passed when a 1d array was expected. Please change the shape of y to (n_samples,), for example using ravel().\n",
      "  return self._fit(X, y)\n"
     ]
    },
    {
     "name": "stdout",
     "output_type": "stream",
     "text": [
      "[0.9264705882352942, 0.9264705882352942, 0.9325980392156863, 0.9325980392156863, 0.9338235294117647, 0.9325980392156863, 0.9325980392156863, 0.928921568627451, 0.9325980392156863, 0.9338235294117647, 0.9387254901960784, 0.9399509803921569, 0.9411764705882353, 0.9436274509803921, 0.9448529411764706, 0.9448529411764706, 0.9448529411764706, 0.9436274509803921, 0.9399509803921569, 0.9424019607843137, 0.9411764705882353, 0.9424019607843137, 0.9411764705882353, 0.9448529411764706, 0.9411764705882353, 0.9436274509803921, 0.9424019607843137, 0.9448529411764706, 0.9436274509803921, 0.9448529411764706, 0.9424019607843137, 0.9448529411764706, 0.9448529411764706, 0.946078431372549, 0.9411764705882353, 0.9436274509803921, 0.9436274509803921, 0.9424019607843137, 0.9424019607843137, 0.9399509803921569, 0.9424019607843137, 0.9424019607843137, 0.9436274509803921, 0.9411764705882353, 0.9424019607843137, 0.9411764705882353, 0.9411764705882353, 0.9424019607843137, 0.9399509803921569, 0.9411764705882353, 0.9399509803921569, 0.9387254901960784, 0.9399509803921569, 0.9399509803921569, 0.9399509803921569, 0.9387254901960784, 0.9399509803921569, 0.9411764705882353, 0.9399509803921569, 0.9424019607843137, 0.9424019607843137, 0.9411764705882353, 0.9387254901960784, 0.9362745098039216, 0.9387254901960784, 0.9411764705882353, 0.9375, 0.9399509803921569, 0.9387254901960784, 0.9399509803921569, 0.9362745098039216, 0.9362745098039216, 0.9350490196078431, 0.9362745098039216, 0.9375, 0.9387254901960784, 0.9350490196078431, 0.9362745098039216, 0.9362745098039216, 0.9362745098039216, 0.9362745098039216, 0.9362745098039216, 0.9362745098039216, 0.9362745098039216, 0.9387254901960784, 0.9375, 0.9362745098039216, 0.9375, 0.9411764705882353, 0.9387254901960784, 0.9375]\n",
      "[0.9264705882352942, 0.9264705882352942, 0.9325980392156863, 0.9325980392156863, 0.9338235294117647, 0.9325980392156863, 0.9325980392156863, 0.928921568627451, 0.9325980392156863, 0.9338235294117647, 0.9387254901960784, 0.9399509803921569, 0.9411764705882353, 0.9436274509803921, 0.9448529411764706, 0.9448529411764706, 0.9448529411764706, 0.9436274509803921, 0.9399509803921569, 0.9424019607843137, 0.9411764705882353, 0.9424019607843137, 0.9411764705882353, 0.9448529411764706, 0.9411764705882353, 0.9436274509803921, 0.9424019607843137, 0.9448529411764706, 0.9436274509803921, 0.9448529411764706, 0.9424019607843137, 0.9448529411764706, 0.9448529411764706, 0.946078431372549, 0.9411764705882353, 0.9436274509803921, 0.9436274509803921, 0.9424019607843137, 0.9424019607843137, 0.9399509803921569, 0.9424019607843137, 0.9424019607843137, 0.9436274509803921, 0.9411764705882353, 0.9424019607843137, 0.9411764705882353, 0.9411764705882353, 0.9424019607843137, 0.9399509803921569, 0.9411764705882353, 0.9399509803921569, 0.9387254901960784, 0.9399509803921569, 0.9399509803921569, 0.9399509803921569, 0.9387254901960784, 0.9399509803921569, 0.9411764705882353, 0.9399509803921569, 0.9424019607843137, 0.9424019607843137, 0.9411764705882353, 0.9387254901960784, 0.9362745098039216, 0.9387254901960784, 0.9411764705882353, 0.9375, 0.9399509803921569, 0.9387254901960784, 0.9399509803921569, 0.9362745098039216, 0.9362745098039216, 0.9350490196078431, 0.9362745098039216, 0.9375, 0.9387254901960784, 0.9350490196078431, 0.9362745098039216, 0.9362745098039216, 0.9362745098039216, 0.9362745098039216, 0.9362745098039216, 0.9362745098039216, 0.9362745098039216, 0.9387254901960784, 0.9375, 0.9362745098039216, 0.9375, 0.9411764705882353, 0.9387254901960784, 0.9375, 0.9350490196078431]\n"
     ]
    },
    {
     "name": "stderr",
     "output_type": "stream",
     "text": [
      "c:\\Users\\ACER\\AppData\\Local\\Programs\\Python\\Python311\\Lib\\site-packages\\sklearn\\neighbors\\_classification.py:238: DataConversionWarning: A column-vector y was passed when a 1d array was expected. Please change the shape of y to (n_samples,), for example using ravel().\n",
      "  return self._fit(X, y)\n",
      "c:\\Users\\ACER\\AppData\\Local\\Programs\\Python\\Python311\\Lib\\site-packages\\sklearn\\neighbors\\_classification.py:238: DataConversionWarning: A column-vector y was passed when a 1d array was expected. Please change the shape of y to (n_samples,), for example using ravel().\n",
      "  return self._fit(X, y)\n"
     ]
    },
    {
     "name": "stdout",
     "output_type": "stream",
     "text": [
      "[0.9264705882352942, 0.9264705882352942, 0.9325980392156863, 0.9325980392156863, 0.9338235294117647, 0.9325980392156863, 0.9325980392156863, 0.928921568627451, 0.9325980392156863, 0.9338235294117647, 0.9387254901960784, 0.9399509803921569, 0.9411764705882353, 0.9436274509803921, 0.9448529411764706, 0.9448529411764706, 0.9448529411764706, 0.9436274509803921, 0.9399509803921569, 0.9424019607843137, 0.9411764705882353, 0.9424019607843137, 0.9411764705882353, 0.9448529411764706, 0.9411764705882353, 0.9436274509803921, 0.9424019607843137, 0.9448529411764706, 0.9436274509803921, 0.9448529411764706, 0.9424019607843137, 0.9448529411764706, 0.9448529411764706, 0.946078431372549, 0.9411764705882353, 0.9436274509803921, 0.9436274509803921, 0.9424019607843137, 0.9424019607843137, 0.9399509803921569, 0.9424019607843137, 0.9424019607843137, 0.9436274509803921, 0.9411764705882353, 0.9424019607843137, 0.9411764705882353, 0.9411764705882353, 0.9424019607843137, 0.9399509803921569, 0.9411764705882353, 0.9399509803921569, 0.9387254901960784, 0.9399509803921569, 0.9399509803921569, 0.9399509803921569, 0.9387254901960784, 0.9399509803921569, 0.9411764705882353, 0.9399509803921569, 0.9424019607843137, 0.9424019607843137, 0.9411764705882353, 0.9387254901960784, 0.9362745098039216, 0.9387254901960784, 0.9411764705882353, 0.9375, 0.9399509803921569, 0.9387254901960784, 0.9399509803921569, 0.9362745098039216, 0.9362745098039216, 0.9350490196078431, 0.9362745098039216, 0.9375, 0.9387254901960784, 0.9350490196078431, 0.9362745098039216, 0.9362745098039216, 0.9362745098039216, 0.9362745098039216, 0.9362745098039216, 0.9362745098039216, 0.9362745098039216, 0.9387254901960784, 0.9375, 0.9362745098039216, 0.9375, 0.9411764705882353, 0.9387254901960784, 0.9375, 0.9350490196078431, 0.9362745098039216]\n",
      "[0.9264705882352942, 0.9264705882352942, 0.9325980392156863, 0.9325980392156863, 0.9338235294117647, 0.9325980392156863, 0.9325980392156863, 0.928921568627451, 0.9325980392156863, 0.9338235294117647, 0.9387254901960784, 0.9399509803921569, 0.9411764705882353, 0.9436274509803921, 0.9448529411764706, 0.9448529411764706, 0.9448529411764706, 0.9436274509803921, 0.9399509803921569, 0.9424019607843137, 0.9411764705882353, 0.9424019607843137, 0.9411764705882353, 0.9448529411764706, 0.9411764705882353, 0.9436274509803921, 0.9424019607843137, 0.9448529411764706, 0.9436274509803921, 0.9448529411764706, 0.9424019607843137, 0.9448529411764706, 0.9448529411764706, 0.946078431372549, 0.9411764705882353, 0.9436274509803921, 0.9436274509803921, 0.9424019607843137, 0.9424019607843137, 0.9399509803921569, 0.9424019607843137, 0.9424019607843137, 0.9436274509803921, 0.9411764705882353, 0.9424019607843137, 0.9411764705882353, 0.9411764705882353, 0.9424019607843137, 0.9399509803921569, 0.9411764705882353, 0.9399509803921569, 0.9387254901960784, 0.9399509803921569, 0.9399509803921569, 0.9399509803921569, 0.9387254901960784, 0.9399509803921569, 0.9411764705882353, 0.9399509803921569, 0.9424019607843137, 0.9424019607843137, 0.9411764705882353, 0.9387254901960784, 0.9362745098039216, 0.9387254901960784, 0.9411764705882353, 0.9375, 0.9399509803921569, 0.9387254901960784, 0.9399509803921569, 0.9362745098039216, 0.9362745098039216, 0.9350490196078431, 0.9362745098039216, 0.9375, 0.9387254901960784, 0.9350490196078431, 0.9362745098039216, 0.9362745098039216, 0.9362745098039216, 0.9362745098039216, 0.9362745098039216, 0.9362745098039216, 0.9362745098039216, 0.9387254901960784, 0.9375, 0.9362745098039216, 0.9375, 0.9411764705882353, 0.9387254901960784, 0.9375, 0.9350490196078431, 0.9362745098039216, 0.9375]\n"
     ]
    },
    {
     "name": "stderr",
     "output_type": "stream",
     "text": [
      "c:\\Users\\ACER\\AppData\\Local\\Programs\\Python\\Python311\\Lib\\site-packages\\sklearn\\neighbors\\_classification.py:238: DataConversionWarning: A column-vector y was passed when a 1d array was expected. Please change the shape of y to (n_samples,), for example using ravel().\n",
      "  return self._fit(X, y)\n",
      "c:\\Users\\ACER\\AppData\\Local\\Programs\\Python\\Python311\\Lib\\site-packages\\sklearn\\neighbors\\_classification.py:238: DataConversionWarning: A column-vector y was passed when a 1d array was expected. Please change the shape of y to (n_samples,), for example using ravel().\n",
      "  return self._fit(X, y)\n"
     ]
    },
    {
     "name": "stdout",
     "output_type": "stream",
     "text": [
      "[0.9264705882352942, 0.9264705882352942, 0.9325980392156863, 0.9325980392156863, 0.9338235294117647, 0.9325980392156863, 0.9325980392156863, 0.928921568627451, 0.9325980392156863, 0.9338235294117647, 0.9387254901960784, 0.9399509803921569, 0.9411764705882353, 0.9436274509803921, 0.9448529411764706, 0.9448529411764706, 0.9448529411764706, 0.9436274509803921, 0.9399509803921569, 0.9424019607843137, 0.9411764705882353, 0.9424019607843137, 0.9411764705882353, 0.9448529411764706, 0.9411764705882353, 0.9436274509803921, 0.9424019607843137, 0.9448529411764706, 0.9436274509803921, 0.9448529411764706, 0.9424019607843137, 0.9448529411764706, 0.9448529411764706, 0.946078431372549, 0.9411764705882353, 0.9436274509803921, 0.9436274509803921, 0.9424019607843137, 0.9424019607843137, 0.9399509803921569, 0.9424019607843137, 0.9424019607843137, 0.9436274509803921, 0.9411764705882353, 0.9424019607843137, 0.9411764705882353, 0.9411764705882353, 0.9424019607843137, 0.9399509803921569, 0.9411764705882353, 0.9399509803921569, 0.9387254901960784, 0.9399509803921569, 0.9399509803921569, 0.9399509803921569, 0.9387254901960784, 0.9399509803921569, 0.9411764705882353, 0.9399509803921569, 0.9424019607843137, 0.9424019607843137, 0.9411764705882353, 0.9387254901960784, 0.9362745098039216, 0.9387254901960784, 0.9411764705882353, 0.9375, 0.9399509803921569, 0.9387254901960784, 0.9399509803921569, 0.9362745098039216, 0.9362745098039216, 0.9350490196078431, 0.9362745098039216, 0.9375, 0.9387254901960784, 0.9350490196078431, 0.9362745098039216, 0.9362745098039216, 0.9362745098039216, 0.9362745098039216, 0.9362745098039216, 0.9362745098039216, 0.9362745098039216, 0.9387254901960784, 0.9375, 0.9362745098039216, 0.9375, 0.9411764705882353, 0.9387254901960784, 0.9375, 0.9350490196078431, 0.9362745098039216, 0.9375, 0.9362745098039216]\n"
     ]
    },
    {
     "name": "stderr",
     "output_type": "stream",
     "text": [
      "c:\\Users\\ACER\\AppData\\Local\\Programs\\Python\\Python311\\Lib\\site-packages\\sklearn\\neighbors\\_classification.py:238: DataConversionWarning: A column-vector y was passed when a 1d array was expected. Please change the shape of y to (n_samples,), for example using ravel().\n",
      "  return self._fit(X, y)\n"
     ]
    },
    {
     "name": "stdout",
     "output_type": "stream",
     "text": [
      "[0.9264705882352942, 0.9264705882352942, 0.9325980392156863, 0.9325980392156863, 0.9338235294117647, 0.9325980392156863, 0.9325980392156863, 0.928921568627451, 0.9325980392156863, 0.9338235294117647, 0.9387254901960784, 0.9399509803921569, 0.9411764705882353, 0.9436274509803921, 0.9448529411764706, 0.9448529411764706, 0.9448529411764706, 0.9436274509803921, 0.9399509803921569, 0.9424019607843137, 0.9411764705882353, 0.9424019607843137, 0.9411764705882353, 0.9448529411764706, 0.9411764705882353, 0.9436274509803921, 0.9424019607843137, 0.9448529411764706, 0.9436274509803921, 0.9448529411764706, 0.9424019607843137, 0.9448529411764706, 0.9448529411764706, 0.946078431372549, 0.9411764705882353, 0.9436274509803921, 0.9436274509803921, 0.9424019607843137, 0.9424019607843137, 0.9399509803921569, 0.9424019607843137, 0.9424019607843137, 0.9436274509803921, 0.9411764705882353, 0.9424019607843137, 0.9411764705882353, 0.9411764705882353, 0.9424019607843137, 0.9399509803921569, 0.9411764705882353, 0.9399509803921569, 0.9387254901960784, 0.9399509803921569, 0.9399509803921569, 0.9399509803921569, 0.9387254901960784, 0.9399509803921569, 0.9411764705882353, 0.9399509803921569, 0.9424019607843137, 0.9424019607843137, 0.9411764705882353, 0.9387254901960784, 0.9362745098039216, 0.9387254901960784, 0.9411764705882353, 0.9375, 0.9399509803921569, 0.9387254901960784, 0.9399509803921569, 0.9362745098039216, 0.9362745098039216, 0.9350490196078431, 0.9362745098039216, 0.9375, 0.9387254901960784, 0.9350490196078431, 0.9362745098039216, 0.9362745098039216, 0.9362745098039216, 0.9362745098039216, 0.9362745098039216, 0.9362745098039216, 0.9362745098039216, 0.9387254901960784, 0.9375, 0.9362745098039216, 0.9375, 0.9411764705882353, 0.9387254901960784, 0.9375, 0.9350490196078431, 0.9362745098039216, 0.9375, 0.9362745098039216, 0.9387254901960784]\n"
     ]
    },
    {
     "name": "stderr",
     "output_type": "stream",
     "text": [
      "c:\\Users\\ACER\\AppData\\Local\\Programs\\Python\\Python311\\Lib\\site-packages\\sklearn\\neighbors\\_classification.py:238: DataConversionWarning: A column-vector y was passed when a 1d array was expected. Please change the shape of y to (n_samples,), for example using ravel().\n",
      "  return self._fit(X, y)\n"
     ]
    },
    {
     "name": "stdout",
     "output_type": "stream",
     "text": [
      "[0.9264705882352942, 0.9264705882352942, 0.9325980392156863, 0.9325980392156863, 0.9338235294117647, 0.9325980392156863, 0.9325980392156863, 0.928921568627451, 0.9325980392156863, 0.9338235294117647, 0.9387254901960784, 0.9399509803921569, 0.9411764705882353, 0.9436274509803921, 0.9448529411764706, 0.9448529411764706, 0.9448529411764706, 0.9436274509803921, 0.9399509803921569, 0.9424019607843137, 0.9411764705882353, 0.9424019607843137, 0.9411764705882353, 0.9448529411764706, 0.9411764705882353, 0.9436274509803921, 0.9424019607843137, 0.9448529411764706, 0.9436274509803921, 0.9448529411764706, 0.9424019607843137, 0.9448529411764706, 0.9448529411764706, 0.946078431372549, 0.9411764705882353, 0.9436274509803921, 0.9436274509803921, 0.9424019607843137, 0.9424019607843137, 0.9399509803921569, 0.9424019607843137, 0.9424019607843137, 0.9436274509803921, 0.9411764705882353, 0.9424019607843137, 0.9411764705882353, 0.9411764705882353, 0.9424019607843137, 0.9399509803921569, 0.9411764705882353, 0.9399509803921569, 0.9387254901960784, 0.9399509803921569, 0.9399509803921569, 0.9399509803921569, 0.9387254901960784, 0.9399509803921569, 0.9411764705882353, 0.9399509803921569, 0.9424019607843137, 0.9424019607843137, 0.9411764705882353, 0.9387254901960784, 0.9362745098039216, 0.9387254901960784, 0.9411764705882353, 0.9375, 0.9399509803921569, 0.9387254901960784, 0.9399509803921569, 0.9362745098039216, 0.9362745098039216, 0.9350490196078431, 0.9362745098039216, 0.9375, 0.9387254901960784, 0.9350490196078431, 0.9362745098039216, 0.9362745098039216, 0.9362745098039216, 0.9362745098039216, 0.9362745098039216, 0.9362745098039216, 0.9362745098039216, 0.9387254901960784, 0.9375, 0.9362745098039216, 0.9375, 0.9411764705882353, 0.9387254901960784, 0.9375, 0.9350490196078431, 0.9362745098039216, 0.9375, 0.9362745098039216, 0.9387254901960784, 0.9338235294117647]\n",
      "[0.9264705882352942, 0.9264705882352942, 0.9325980392156863, 0.9325980392156863, 0.9338235294117647, 0.9325980392156863, 0.9325980392156863, 0.928921568627451, 0.9325980392156863, 0.9338235294117647, 0.9387254901960784, 0.9399509803921569, 0.9411764705882353, 0.9436274509803921, 0.9448529411764706, 0.9448529411764706, 0.9448529411764706, 0.9436274509803921, 0.9399509803921569, 0.9424019607843137, 0.9411764705882353, 0.9424019607843137, 0.9411764705882353, 0.9448529411764706, 0.9411764705882353, 0.9436274509803921, 0.9424019607843137, 0.9448529411764706, 0.9436274509803921, 0.9448529411764706, 0.9424019607843137, 0.9448529411764706, 0.9448529411764706, 0.946078431372549, 0.9411764705882353, 0.9436274509803921, 0.9436274509803921, 0.9424019607843137, 0.9424019607843137, 0.9399509803921569, 0.9424019607843137, 0.9424019607843137, 0.9436274509803921, 0.9411764705882353, 0.9424019607843137, 0.9411764705882353, 0.9411764705882353, 0.9424019607843137, 0.9399509803921569, 0.9411764705882353, 0.9399509803921569, 0.9387254901960784, 0.9399509803921569, 0.9399509803921569, 0.9399509803921569, 0.9387254901960784, 0.9399509803921569, 0.9411764705882353, 0.9399509803921569, 0.9424019607843137, 0.9424019607843137, 0.9411764705882353, 0.9387254901960784, 0.9362745098039216, 0.9387254901960784, 0.9411764705882353, 0.9375, 0.9399509803921569, 0.9387254901960784, 0.9399509803921569, 0.9362745098039216, 0.9362745098039216, 0.9350490196078431, 0.9362745098039216, 0.9375, 0.9387254901960784, 0.9350490196078431, 0.9362745098039216, 0.9362745098039216, 0.9362745098039216, 0.9362745098039216, 0.9362745098039216, 0.9362745098039216, 0.9362745098039216, 0.9387254901960784, 0.9375, 0.9362745098039216, 0.9375, 0.9411764705882353, 0.9387254901960784, 0.9375, 0.9350490196078431, 0.9362745098039216, 0.9375, 0.9362745098039216, 0.9387254901960784, 0.9338235294117647, 0.9338235294117647]\n"
     ]
    },
    {
     "name": "stderr",
     "output_type": "stream",
     "text": [
      "c:\\Users\\ACER\\AppData\\Local\\Programs\\Python\\Python311\\Lib\\site-packages\\sklearn\\neighbors\\_classification.py:238: DataConversionWarning: A column-vector y was passed when a 1d array was expected. Please change the shape of y to (n_samples,), for example using ravel().\n",
      "  return self._fit(X, y)\n",
      "c:\\Users\\ACER\\AppData\\Local\\Programs\\Python\\Python311\\Lib\\site-packages\\sklearn\\neighbors\\_classification.py:238: DataConversionWarning: A column-vector y was passed when a 1d array was expected. Please change the shape of y to (n_samples,), for example using ravel().\n",
      "  return self._fit(X, y)\n"
     ]
    },
    {
     "name": "stdout",
     "output_type": "stream",
     "text": [
      "[0.9264705882352942, 0.9264705882352942, 0.9325980392156863, 0.9325980392156863, 0.9338235294117647, 0.9325980392156863, 0.9325980392156863, 0.928921568627451, 0.9325980392156863, 0.9338235294117647, 0.9387254901960784, 0.9399509803921569, 0.9411764705882353, 0.9436274509803921, 0.9448529411764706, 0.9448529411764706, 0.9448529411764706, 0.9436274509803921, 0.9399509803921569, 0.9424019607843137, 0.9411764705882353, 0.9424019607843137, 0.9411764705882353, 0.9448529411764706, 0.9411764705882353, 0.9436274509803921, 0.9424019607843137, 0.9448529411764706, 0.9436274509803921, 0.9448529411764706, 0.9424019607843137, 0.9448529411764706, 0.9448529411764706, 0.946078431372549, 0.9411764705882353, 0.9436274509803921, 0.9436274509803921, 0.9424019607843137, 0.9424019607843137, 0.9399509803921569, 0.9424019607843137, 0.9424019607843137, 0.9436274509803921, 0.9411764705882353, 0.9424019607843137, 0.9411764705882353, 0.9411764705882353, 0.9424019607843137, 0.9399509803921569, 0.9411764705882353, 0.9399509803921569, 0.9387254901960784, 0.9399509803921569, 0.9399509803921569, 0.9399509803921569, 0.9387254901960784, 0.9399509803921569, 0.9411764705882353, 0.9399509803921569, 0.9424019607843137, 0.9424019607843137, 0.9411764705882353, 0.9387254901960784, 0.9362745098039216, 0.9387254901960784, 0.9411764705882353, 0.9375, 0.9399509803921569, 0.9387254901960784, 0.9399509803921569, 0.9362745098039216, 0.9362745098039216, 0.9350490196078431, 0.9362745098039216, 0.9375, 0.9387254901960784, 0.9350490196078431, 0.9362745098039216, 0.9362745098039216, 0.9362745098039216, 0.9362745098039216, 0.9362745098039216, 0.9362745098039216, 0.9362745098039216, 0.9387254901960784, 0.9375, 0.9362745098039216, 0.9375, 0.9411764705882353, 0.9387254901960784, 0.9375, 0.9350490196078431, 0.9362745098039216, 0.9375, 0.9362745098039216, 0.9387254901960784, 0.9338235294117647, 0.9338235294117647, 0.9362745098039216]\n"
     ]
    }
   ],
   "source": [
    "n_akurasi = []\n",
    "for k in range (1,100):\n",
    "    knn = KNeighborsClassifier (n_neighbors=k,metric='euclidean').fit(x_train,y_train)\n",
    "    y_prediksi = knn.predict(x_test)\n",
    "    akurasi = accuracy_score(y_test,y_prediksi)\n",
    "    n_akurasi.append(akurasi)\n",
    "    print(n_akurasi)"
   ]
  },
  {
   "cell_type": "code",
   "execution_count": 48,
   "metadata": {},
   "outputs": [
    {
     "data": {
      "image/png": "[encoded data removed]",
      "text/plain": [
       "<Figure size 2000x1000 with 1 Axes>"
      ]
     },
     "metadata": {},
     "output_type": "display_data"
    }
   ],
   "source": [
    "import matplotlib.pyplot as plt\n",
    "plt.figure(figsize=(20,10))\n",
    "plt.plot(range(1,100),n_akurasi)\n",
    "plt.show()"
   ]
  },
  {
   "cell_type": "code",
   "execution_count": 50,
   "metadata": {},
   "outputs": [],
   "source": [
    "import pickle\n",
    "\n",
    "# kemudian jalankan kode ini untuk menyimpan model\n",
    "pickle.dump(knn, open('fishknn.pkl', 'wb'))\n"
   ]
  }
 ],
 "metadata": {
  "kernelspec": {
   "display_name": "Python 3",
   "language": "python",
   "name": "python3"
  },
  "language_info": {
   "codemirror_mode": {
    "name": "ipython",
    "version": 3
   },
   "file_extension": ".py",
   "mimetype": "text/x-python",
   "name": "python",
   "nbconvert_exporter": "python",
   "pygments_lexer": "ipython3",
   "version": "3.11.4"
  }
 },
 "nbformat": 4,
 "nbformat_minor": 2
}
